{
 "cells": [
  {
   "cell_type": "markdown",
   "metadata": {},
   "source": [
    "# 第11章 时间序列"
   ]
  },
  {
   "cell_type": "markdown",
   "metadata": {},
   "source": [
    "## 日期和时间数据的类型及工具"
   ]
  },
  {
   "cell_type": "code",
   "execution_count": 1,
   "metadata": {},
   "outputs": [],
   "source": [
    "from datetime import datetime"
   ]
  },
  {
   "cell_type": "code",
   "execution_count": 2,
   "metadata": {},
   "outputs": [],
   "source": [
    "now = datetime.now()"
   ]
  },
  {
   "cell_type": "code",
   "execution_count": 3,
   "metadata": {},
   "outputs": [
    {
     "data": {
      "text/plain": [
       "datetime.datetime(2019, 3, 11, 16, 13, 27, 228862)"
      ]
     },
     "execution_count": 3,
     "metadata": {},
     "output_type": "execute_result"
    }
   ],
   "source": [
    "now"
   ]
  },
  {
   "cell_type": "code",
   "execution_count": 4,
   "metadata": {},
   "outputs": [
    {
     "data": {
      "text/plain": [
       "(2019, 3, 11)"
      ]
     },
     "execution_count": 4,
     "metadata": {},
     "output_type": "execute_result"
    }
   ],
   "source": [
    "now.year,now.month,now.day"
   ]
  },
  {
   "cell_type": "code",
   "execution_count": 5,
   "metadata": {},
   "outputs": [],
   "source": [
    "delta = datetime(2011,1,7) - datetime(2008,6,24,8,15)"
   ]
  },
  {
   "cell_type": "code",
   "execution_count": 6,
   "metadata": {},
   "outputs": [
    {
     "data": {
      "text/plain": [
       "datetime.timedelta(days=926, seconds=56700)"
      ]
     },
     "execution_count": 6,
     "metadata": {},
     "output_type": "execute_result"
    }
   ],
   "source": [
    "delta"
   ]
  },
  {
   "cell_type": "code",
   "execution_count": 7,
   "metadata": {},
   "outputs": [
    {
     "data": {
      "text/plain": [
       "926"
      ]
     },
     "execution_count": 7,
     "metadata": {},
     "output_type": "execute_result"
    }
   ],
   "source": [
    "delta.days"
   ]
  },
  {
   "cell_type": "code",
   "execution_count": 8,
   "metadata": {},
   "outputs": [
    {
     "data": {
      "text/plain": [
       "56700"
      ]
     },
     "execution_count": 8,
     "metadata": {},
     "output_type": "execute_result"
    }
   ],
   "source": [
    "delta.seconds"
   ]
  },
  {
   "cell_type": "code",
   "execution_count": 9,
   "metadata": {},
   "outputs": [],
   "source": [
    "from datetime import timedelta"
   ]
  },
  {
   "cell_type": "code",
   "execution_count": 10,
   "metadata": {},
   "outputs": [],
   "source": [
    "start = datetime(2011,1,7)"
   ]
  },
  {
   "cell_type": "code",
   "execution_count": 11,
   "metadata": {},
   "outputs": [
    {
     "data": {
      "text/plain": [
       "datetime.datetime(2011, 1, 19, 0, 0)"
      ]
     },
     "execution_count": 11,
     "metadata": {},
     "output_type": "execute_result"
    }
   ],
   "source": [
    "start+timedelta(12)"
   ]
  },
  {
   "cell_type": "code",
   "execution_count": 12,
   "metadata": {},
   "outputs": [
    {
     "data": {
      "text/plain": [
       "datetime.datetime(2010, 12, 14, 0, 0)"
      ]
     },
     "execution_count": 12,
     "metadata": {},
     "output_type": "execute_result"
    }
   ],
   "source": [
    "start-2*timedelta(12)"
   ]
  },
  {
   "cell_type": "markdown",
   "metadata": {},
   "source": [
    "- 字符串与datetime互相转换"
   ]
  },
  {
   "cell_type": "code",
   "execution_count": 13,
   "metadata": {},
   "outputs": [],
   "source": [
    "stamp = datetime(2011,1,3)"
   ]
  },
  {
   "cell_type": "code",
   "execution_count": 14,
   "metadata": {},
   "outputs": [
    {
     "data": {
      "text/plain": [
       "'2011-01-03 00:00:00'"
      ]
     },
     "execution_count": 14,
     "metadata": {},
     "output_type": "execute_result"
    }
   ],
   "source": [
    "str(stamp)"
   ]
  },
  {
   "cell_type": "code",
   "execution_count": 15,
   "metadata": {},
   "outputs": [
    {
     "data": {
      "text/plain": [
       "'2011-01-03'"
      ]
     },
     "execution_count": 15,
     "metadata": {},
     "output_type": "execute_result"
    }
   ],
   "source": [
    "stamp.strftime('%Y-%m-%d')"
   ]
  },
  {
   "cell_type": "code",
   "execution_count": 16,
   "metadata": {},
   "outputs": [],
   "source": [
    "value = '2011-01-03'"
   ]
  },
  {
   "cell_type": "code",
   "execution_count": 17,
   "metadata": {},
   "outputs": [
    {
     "data": {
      "text/plain": [
       "datetime.datetime(2011, 1, 3, 0, 0)"
      ]
     },
     "execution_count": 17,
     "metadata": {},
     "output_type": "execute_result"
    }
   ],
   "source": [
    "datetime.strptime(value,'%Y-%m-%d')"
   ]
  },
  {
   "cell_type": "code",
   "execution_count": 20,
   "metadata": {},
   "outputs": [],
   "source": [
    "datestrs = ['7/6/2011','8/6/2011']"
   ]
  },
  {
   "cell_type": "code",
   "execution_count": 21,
   "metadata": {},
   "outputs": [
    {
     "data": {
      "text/plain": [
       "[datetime.datetime(2011, 7, 6, 0, 0), datetime.datetime(2011, 8, 6, 0, 0)]"
      ]
     },
     "execution_count": 21,
     "metadata": {},
     "output_type": "execute_result"
    }
   ],
   "source": [
    "[datetime.strptime(x,'%m/%d/%Y') for x in datestrs]"
   ]
  },
  {
   "cell_type": "code",
   "execution_count": 26,
   "metadata": {},
   "outputs": [],
   "source": [
    "from dateutil.parser import parse"
   ]
  },
  {
   "cell_type": "code",
   "execution_count": 27,
   "metadata": {},
   "outputs": [
    {
     "data": {
      "text/plain": [
       "datetime.datetime(2011, 1, 1, 0, 0)"
      ]
     },
     "execution_count": 27,
     "metadata": {},
     "output_type": "execute_result"
    }
   ],
   "source": [
    "parse('2011-01-01')"
   ]
  },
  {
   "cell_type": "code",
   "execution_count": 28,
   "metadata": {},
   "outputs": [
    {
     "data": {
      "text/plain": [
       "datetime.datetime(2019, 1, 11, 22, 45)"
      ]
     },
     "execution_count": 28,
     "metadata": {},
     "output_type": "execute_result"
    }
   ],
   "source": [
    "parse('Jan 311997 10:45 PM')"
   ]
  },
  {
   "cell_type": "code",
   "execution_count": 29,
   "metadata": {},
   "outputs": [
    {
     "data": {
      "text/plain": [
       "datetime.datetime(2011, 12, 6, 0, 0)"
      ]
     },
     "execution_count": 29,
     "metadata": {},
     "output_type": "execute_result"
    }
   ],
   "source": [
    "parse('6/12/2011',dayfirst=True)"
   ]
  },
  {
   "cell_type": "code",
   "execution_count": 32,
   "metadata": {},
   "outputs": [],
   "source": [
    "import pandas as pd\n",
    "import numpy as np"
   ]
  },
  {
   "cell_type": "code",
   "execution_count": 30,
   "metadata": {},
   "outputs": [],
   "source": [
    "datestrs = ['2011-07-06 12:00:00','2011-08-06 00:00:00']"
   ]
  },
  {
   "cell_type": "code",
   "execution_count": 33,
   "metadata": {},
   "outputs": [
    {
     "data": {
      "text/plain": [
       "DatetimeIndex(['2011-07-06 12:00:00', '2011-08-06 00:00:00'], dtype='datetime64[ns]', freq=None)"
      ]
     },
     "execution_count": 33,
     "metadata": {},
     "output_type": "execute_result"
    }
   ],
   "source": [
    "pd.to_datetime(datestrs)"
   ]
  },
  {
   "cell_type": "code",
   "execution_count": 35,
   "metadata": {},
   "outputs": [],
   "source": [
    "idx = pd.to_datetime(datestrs+[None])"
   ]
  },
  {
   "cell_type": "code",
   "execution_count": 36,
   "metadata": {},
   "outputs": [
    {
     "data": {
      "text/plain": [
       "DatetimeIndex(['2011-07-06 12:00:00', '2011-08-06 00:00:00', 'NaT'], dtype='datetime64[ns]', freq=None)"
      ]
     },
     "execution_count": 36,
     "metadata": {},
     "output_type": "execute_result"
    }
   ],
   "source": [
    "idx"
   ]
  },
  {
   "cell_type": "code",
   "execution_count": 37,
   "metadata": {},
   "outputs": [
    {
     "data": {
      "text/plain": [
       "NaT"
      ]
     },
     "execution_count": 37,
     "metadata": {},
     "output_type": "execute_result"
    }
   ],
   "source": [
    "idx[2]"
   ]
  },
  {
   "cell_type": "code",
   "execution_count": 39,
   "metadata": {},
   "outputs": [
    {
     "data": {
      "text/plain": [
       "array([False, False,  True])"
      ]
     },
     "execution_count": 39,
     "metadata": {},
     "output_type": "execute_result"
    }
   ],
   "source": [
    "pd.isnull(idx)"
   ]
  },
  {
   "cell_type": "markdown",
   "metadata": {},
   "source": [
    "## 时间序列的基础"
   ]
  },
  {
   "cell_type": "code",
   "execution_count": 41,
   "metadata": {},
   "outputs": [],
   "source": [
    "dates = [datetime(2011,1,2),datetime(2011,1,5),datetime(2011,1,7),\n",
    "        datetime(2011,1,8),datetime(2011,1,10),datetime(2011,1,12)]"
   ]
  },
  {
   "cell_type": "code",
   "execution_count": 42,
   "metadata": {},
   "outputs": [],
   "source": [
    "ts = pd.Series(np.random.randn(6),index=dates)"
   ]
  },
  {
   "cell_type": "code",
   "execution_count": 43,
   "metadata": {},
   "outputs": [
    {
     "data": {
      "text/plain": [
       "2011-01-02   -0.323552\n",
       "2011-01-05    0.371645\n",
       "2011-01-07    0.683331\n",
       "2011-01-08    1.146729\n",
       "2011-01-10    0.267299\n",
       "2011-01-12    0.795181\n",
       "dtype: float64"
      ]
     },
     "execution_count": 43,
     "metadata": {},
     "output_type": "execute_result"
    }
   ],
   "source": [
    "ts"
   ]
  },
  {
   "cell_type": "code",
   "execution_count": 44,
   "metadata": {},
   "outputs": [
    {
     "data": {
      "text/plain": [
       "DatetimeIndex(['2011-01-02', '2011-01-05', '2011-01-07', '2011-01-08',\n",
       "               '2011-01-10', '2011-01-12'],\n",
       "              dtype='datetime64[ns]', freq=None)"
      ]
     },
     "execution_count": 44,
     "metadata": {},
     "output_type": "execute_result"
    }
   ],
   "source": [
    "ts.index"
   ]
  },
  {
   "cell_type": "code",
   "execution_count": 46,
   "metadata": {},
   "outputs": [
    {
     "data": {
      "text/plain": [
       "2011-01-02   -0.647103\n",
       "2011-01-05         NaN\n",
       "2011-01-07    1.366663\n",
       "2011-01-08         NaN\n",
       "2011-01-10    0.534599\n",
       "2011-01-12         NaN\n",
       "dtype: float64"
      ]
     },
     "execution_count": 46,
     "metadata": {},
     "output_type": "execute_result"
    }
   ],
   "source": [
    "ts + ts[::2]"
   ]
  },
  {
   "cell_type": "code",
   "execution_count": 47,
   "metadata": {},
   "outputs": [
    {
     "data": {
      "text/plain": [
       "dtype('<M8[ns]')"
      ]
     },
     "execution_count": 47,
     "metadata": {},
     "output_type": "execute_result"
    }
   ],
   "source": [
    "ts.index.dtype"
   ]
  },
  {
   "cell_type": "code",
   "execution_count": 49,
   "metadata": {},
   "outputs": [],
   "source": [
    "stamp = ts.index[0]"
   ]
  },
  {
   "cell_type": "code",
   "execution_count": 50,
   "metadata": {},
   "outputs": [
    {
     "data": {
      "text/plain": [
       "Timestamp('2011-01-02 00:00:00')"
      ]
     },
     "execution_count": 50,
     "metadata": {},
     "output_type": "execute_result"
    }
   ],
   "source": [
    "stamp"
   ]
  },
  {
   "cell_type": "markdown",
   "metadata": {},
   "source": [
    "- 索引、选择、子集"
   ]
  },
  {
   "cell_type": "code",
   "execution_count": 51,
   "metadata": {},
   "outputs": [],
   "source": [
    "stamp = ts.index[2]"
   ]
  },
  {
   "cell_type": "code",
   "execution_count": 52,
   "metadata": {},
   "outputs": [
    {
     "data": {
      "text/plain": [
       "0.6833313666580499"
      ]
     },
     "execution_count": 52,
     "metadata": {},
     "output_type": "execute_result"
    }
   ],
   "source": [
    "ts[stamp]"
   ]
  },
  {
   "cell_type": "code",
   "execution_count": 53,
   "metadata": {},
   "outputs": [
    {
     "data": {
      "text/plain": [
       "0.2672993165806981"
      ]
     },
     "execution_count": 53,
     "metadata": {},
     "output_type": "execute_result"
    }
   ],
   "source": [
    "ts['1/10/2011']"
   ]
  },
  {
   "cell_type": "code",
   "execution_count": 54,
   "metadata": {},
   "outputs": [
    {
     "data": {
      "text/plain": [
       "0.2672993165806981"
      ]
     },
     "execution_count": 54,
     "metadata": {},
     "output_type": "execute_result"
    }
   ],
   "source": [
    "ts['20110110']"
   ]
  },
  {
   "cell_type": "code",
   "execution_count": 55,
   "metadata": {},
   "outputs": [],
   "source": [
    "longer_ts =pd.Series(np.random.randn(1000),index=pd.date_range('1/1/2000',periods=1000))"
   ]
  },
  {
   "cell_type": "code",
   "execution_count": 56,
   "metadata": {},
   "outputs": [
    {
     "data": {
      "text/plain": [
       "2000-01-01   -0.950590\n",
       "2000-01-02    1.468743\n",
       "2000-01-03    0.168418\n",
       "2000-01-04    1.344932\n",
       "2000-01-05   -0.150552\n",
       "2000-01-06   -1.075113\n",
       "2000-01-07    0.109630\n",
       "2000-01-08   -0.356626\n",
       "2000-01-09    1.633231\n",
       "2000-01-10   -0.422641\n",
       "2000-01-11    0.543067\n",
       "2000-01-12   -0.234134\n",
       "2000-01-13   -1.133366\n",
       "2000-01-14   -0.208102\n",
       "2000-01-15    1.029776\n",
       "2000-01-16   -0.545057\n",
       "2000-01-17   -0.077377\n",
       "2000-01-18   -0.166180\n",
       "2000-01-19    0.497095\n",
       "2000-01-20    1.441589\n",
       "2000-01-21   -1.367104\n",
       "2000-01-22   -0.689433\n",
       "2000-01-23    0.322449\n",
       "2000-01-24    0.372600\n",
       "2000-01-25   -0.501764\n",
       "2000-01-26   -0.012399\n",
       "2000-01-27    0.581672\n",
       "2000-01-28    1.530412\n",
       "2000-01-29    0.248054\n",
       "2000-01-30   -1.179953\n",
       "                ...   \n",
       "2002-08-28    1.152959\n",
       "2002-08-29   -0.497332\n",
       "2002-08-30   -0.071067\n",
       "2002-08-31    0.078208\n",
       "2002-09-01   -2.257277\n",
       "2002-09-02    1.004262\n",
       "2002-09-03    0.948276\n",
       "2002-09-04   -0.880945\n",
       "2002-09-05    0.449578\n",
       "2002-09-06    0.618256\n",
       "2002-09-07    1.090390\n",
       "2002-09-08   -0.246040\n",
       "2002-09-09    0.950246\n",
       "2002-09-10    1.333929\n",
       "2002-09-11    1.069428\n",
       "2002-09-12    0.577632\n",
       "2002-09-13    0.378245\n",
       "2002-09-14    1.446354\n",
       "2002-09-15    0.335031\n",
       "2002-09-16    1.407200\n",
       "2002-09-17    0.325844\n",
       "2002-09-18   -1.433291\n",
       "2002-09-19   -0.490439\n",
       "2002-09-20   -0.355568\n",
       "2002-09-21   -1.620263\n",
       "2002-09-22    0.403279\n",
       "2002-09-23   -0.392179\n",
       "2002-09-24    0.316101\n",
       "2002-09-25   -2.006329\n",
       "2002-09-26   -0.768704\n",
       "Freq: D, Length: 1000, dtype: float64"
      ]
     },
     "execution_count": 56,
     "metadata": {},
     "output_type": "execute_result"
    }
   ],
   "source": [
    "longer_ts"
   ]
  },
  {
   "cell_type": "code",
   "execution_count": 57,
   "metadata": {},
   "outputs": [
    {
     "data": {
      "text/plain": [
       "2001-01-01   -2.096314\n",
       "2001-01-02   -0.279594\n",
       "2001-01-03   -0.137458\n",
       "2001-01-04   -1.017492\n",
       "2001-01-05    0.282047\n",
       "2001-01-06    0.344358\n",
       "2001-01-07    1.315120\n",
       "2001-01-08    1.534182\n",
       "2001-01-09    0.973425\n",
       "2001-01-10    0.785353\n",
       "2001-01-11    0.818497\n",
       "2001-01-12    0.335718\n",
       "2001-01-13   -1.494491\n",
       "2001-01-14    0.588930\n",
       "2001-01-15   -0.577115\n",
       "2001-01-16    0.269415\n",
       "2001-01-17   -1.272923\n",
       "2001-01-18    0.444095\n",
       "2001-01-19    0.651070\n",
       "2001-01-20    1.117690\n",
       "2001-01-21    0.525342\n",
       "2001-01-22   -0.214330\n",
       "2001-01-23    0.634276\n",
       "2001-01-24    1.358211\n",
       "2001-01-25   -1.244648\n",
       "2001-01-26   -1.340726\n",
       "2001-01-27    0.128884\n",
       "2001-01-28    0.335854\n",
       "2001-01-29   -0.351172\n",
       "2001-01-30   -1.532667\n",
       "                ...   \n",
       "2001-12-02    0.660139\n",
       "2001-12-03   -0.107113\n",
       "2001-12-04   -0.006597\n",
       "2001-12-05   -0.178622\n",
       "2001-12-06    0.152248\n",
       "2001-12-07   -1.065085\n",
       "2001-12-08   -1.731286\n",
       "2001-12-09    3.603530\n",
       "2001-12-10   -0.230699\n",
       "2001-12-11   -1.550230\n",
       "2001-12-12   -0.478798\n",
       "2001-12-13   -1.815849\n",
       "2001-12-14   -0.410389\n",
       "2001-12-15    0.668049\n",
       "2001-12-16    0.236672\n",
       "2001-12-17    1.067870\n",
       "2001-12-18   -0.099267\n",
       "2001-12-19    0.547057\n",
       "2001-12-20   -1.263039\n",
       "2001-12-21    0.517145\n",
       "2001-12-22   -0.545992\n",
       "2001-12-23   -0.126612\n",
       "2001-12-24    0.447464\n",
       "2001-12-25    0.224912\n",
       "2001-12-26   -0.427332\n",
       "2001-12-27    1.355669\n",
       "2001-12-28    0.803867\n",
       "2001-12-29   -1.095815\n",
       "2001-12-30   -0.761918\n",
       "2001-12-31    0.396305\n",
       "Freq: D, Length: 365, dtype: float64"
      ]
     },
     "execution_count": 57,
     "metadata": {},
     "output_type": "execute_result"
    }
   ],
   "source": [
    "longer_ts['2001']"
   ]
  },
  {
   "cell_type": "code",
   "execution_count": 59,
   "metadata": {},
   "outputs": [
    {
     "data": {
      "text/plain": [
       "2001-05-01    0.200620\n",
       "2001-05-02    0.531946\n",
       "2001-05-03    1.630471\n",
       "2001-05-04   -0.132724\n",
       "2001-05-05   -0.646893\n",
       "2001-05-06    0.757951\n",
       "2001-05-07    0.031129\n",
       "2001-05-08    0.760313\n",
       "2001-05-09   -0.314577\n",
       "2001-05-10    1.352258\n",
       "2001-05-11   -0.033057\n",
       "2001-05-12    0.432127\n",
       "2001-05-13   -0.075628\n",
       "2001-05-14    0.505899\n",
       "2001-05-15    1.665898\n",
       "2001-05-16   -0.796007\n",
       "2001-05-17   -0.198332\n",
       "2001-05-18    0.172071\n",
       "2001-05-19    0.633339\n",
       "2001-05-20    0.787531\n",
       "2001-05-21   -1.253638\n",
       "2001-05-22    1.008402\n",
       "2001-05-23    0.331033\n",
       "2001-05-24    1.298037\n",
       "2001-05-25    0.672535\n",
       "2001-05-26    0.038478\n",
       "2001-05-27   -1.438561\n",
       "2001-05-28    1.471422\n",
       "2001-05-29    0.430171\n",
       "2001-05-30   -0.615078\n",
       "2001-05-31   -1.253839\n",
       "Freq: D, dtype: float64"
      ]
     },
     "execution_count": 59,
     "metadata": {},
     "output_type": "execute_result"
    }
   ],
   "source": [
    "longer_ts['2001-05']"
   ]
  },
  {
   "cell_type": "code",
   "execution_count": 62,
   "metadata": {},
   "outputs": [
    {
     "data": {
      "text/plain": [
       "2011-01-07    0.683331\n",
       "2011-01-08    1.146729\n",
       "2011-01-10    0.267299\n",
       "2011-01-12    0.795181\n",
       "dtype: float64"
      ]
     },
     "execution_count": 62,
     "metadata": {},
     "output_type": "execute_result"
    }
   ],
   "source": [
    "ts[datetime(2011,1,7):]"
   ]
  },
  {
   "cell_type": "code",
   "execution_count": 61,
   "metadata": {},
   "outputs": [
    {
     "data": {
      "text/plain": [
       "2011-01-02   -0.323552\n",
       "2011-01-05    0.371645\n",
       "2011-01-07    0.683331\n",
       "2011-01-08    1.146729\n",
       "2011-01-10    0.267299\n",
       "2011-01-12    0.795181\n",
       "dtype: float64"
      ]
     },
     "execution_count": 61,
     "metadata": {},
     "output_type": "execute_result"
    }
   ],
   "source": [
    "ts"
   ]
  },
  {
   "cell_type": "code",
   "execution_count": 63,
   "metadata": {},
   "outputs": [
    {
     "data": {
      "text/plain": [
       "2011-01-07    0.683331\n",
       "2011-01-08    1.146729\n",
       "2011-01-10    0.267299\n",
       "dtype: float64"
      ]
     },
     "execution_count": 63,
     "metadata": {},
     "output_type": "execute_result"
    }
   ],
   "source": [
    "ts['1/6/2011':'1/11/2011']"
   ]
  },
  {
   "cell_type": "code",
   "execution_count": 64,
   "metadata": {},
   "outputs": [
    {
     "data": {
      "text/plain": [
       "2011-01-02   -0.323552\n",
       "2011-01-05    0.371645\n",
       "2011-01-07    0.683331\n",
       "2011-01-08    1.146729\n",
       "dtype: float64"
      ]
     },
     "execution_count": 64,
     "metadata": {},
     "output_type": "execute_result"
    }
   ],
   "source": [
    "ts.truncate(after='1/9/2011')"
   ]
  },
  {
   "cell_type": "code",
   "execution_count": 65,
   "metadata": {},
   "outputs": [],
   "source": [
    "dates= pd.date_range('1/1/2000',periods=100,freq='W-WED')"
   ]
  },
  {
   "cell_type": "code",
   "execution_count": 66,
   "metadata": {},
   "outputs": [],
   "source": [
    "long_df =pd.DataFrame(np.random.randn(100,4),index=dates,columns = ['colorado','texas','new york','ohio'])"
   ]
  },
  {
   "cell_type": "code",
   "execution_count": 67,
   "metadata": {},
   "outputs": [
    {
     "data": {
      "text/html": [
       "<div>\n",
       "<style scoped>\n",
       "    .dataframe tbody tr th:only-of-type {\n",
       "        vertical-align: middle;\n",
       "    }\n",
       "\n",
       "    .dataframe tbody tr th {\n",
       "        vertical-align: top;\n",
       "    }\n",
       "\n",
       "    .dataframe thead th {\n",
       "        text-align: right;\n",
       "    }\n",
       "</style>\n",
       "<table border=\"1\" class=\"dataframe\">\n",
       "  <thead>\n",
       "    <tr style=\"text-align: right;\">\n",
       "      <th></th>\n",
       "      <th>colorado</th>\n",
       "      <th>texas</th>\n",
       "      <th>new york</th>\n",
       "      <th>ohio</th>\n",
       "    </tr>\n",
       "  </thead>\n",
       "  <tbody>\n",
       "    <tr>\n",
       "      <th>2001-05-02</th>\n",
       "      <td>-0.589907</td>\n",
       "      <td>-0.165151</td>\n",
       "      <td>-1.109219</td>\n",
       "      <td>0.150814</td>\n",
       "    </tr>\n",
       "    <tr>\n",
       "      <th>2001-05-09</th>\n",
       "      <td>0.501827</td>\n",
       "      <td>-1.603229</td>\n",
       "      <td>0.340371</td>\n",
       "      <td>-0.480277</td>\n",
       "    </tr>\n",
       "    <tr>\n",
       "      <th>2001-05-16</th>\n",
       "      <td>-0.139948</td>\n",
       "      <td>-0.366003</td>\n",
       "      <td>-1.638389</td>\n",
       "      <td>0.093602</td>\n",
       "    </tr>\n",
       "    <tr>\n",
       "      <th>2001-05-23</th>\n",
       "      <td>0.907866</td>\n",
       "      <td>-1.775183</td>\n",
       "      <td>1.020139</td>\n",
       "      <td>-0.111255</td>\n",
       "    </tr>\n",
       "    <tr>\n",
       "      <th>2001-05-30</th>\n",
       "      <td>0.422415</td>\n",
       "      <td>0.552199</td>\n",
       "      <td>1.634977</td>\n",
       "      <td>0.912663</td>\n",
       "    </tr>\n",
       "  </tbody>\n",
       "</table>\n",
       "</div>"
      ],
      "text/plain": [
       "            colorado     texas  new york      ohio\n",
       "2001-05-02 -0.589907 -0.165151 -1.109219  0.150814\n",
       "2001-05-09  0.501827 -1.603229  0.340371 -0.480277\n",
       "2001-05-16 -0.139948 -0.366003 -1.638389  0.093602\n",
       "2001-05-23  0.907866 -1.775183  1.020139 -0.111255\n",
       "2001-05-30  0.422415  0.552199  1.634977  0.912663"
      ]
     },
     "execution_count": 67,
     "metadata": {},
     "output_type": "execute_result"
    }
   ],
   "source": [
    "long_df.loc['5-2001']"
   ]
  },
  {
   "cell_type": "markdown",
   "metadata": {},
   "source": [
    "- 含有重复索引的时间序列"
   ]
  },
  {
   "cell_type": "code",
   "execution_count": 68,
   "metadata": {},
   "outputs": [],
   "source": [
    "dates = pd.DatetimeIndex(['1/1/2000','1/2/2000','1/2/2000','1/2/2000','1/3/2000'])"
   ]
  },
  {
   "cell_type": "code",
   "execution_count": 69,
   "metadata": {},
   "outputs": [],
   "source": [
    "tup_ts = pd.Series(np.arange(5),index=dates)"
   ]
  },
  {
   "cell_type": "code",
   "execution_count": 70,
   "metadata": {},
   "outputs": [
    {
     "data": {
      "text/plain": [
       "2000-01-01    0\n",
       "2000-01-02    1\n",
       "2000-01-02    2\n",
       "2000-01-02    3\n",
       "2000-01-03    4\n",
       "dtype: int32"
      ]
     },
     "execution_count": 70,
     "metadata": {},
     "output_type": "execute_result"
    }
   ],
   "source": [
    "tup_ts"
   ]
  },
  {
   "cell_type": "code",
   "execution_count": 71,
   "metadata": {},
   "outputs": [
    {
     "data": {
      "text/plain": [
       "False"
      ]
     },
     "execution_count": 71,
     "metadata": {},
     "output_type": "execute_result"
    }
   ],
   "source": [
    "tup_ts.index.is_unique"
   ]
  },
  {
   "cell_type": "code",
   "execution_count": 72,
   "metadata": {},
   "outputs": [
    {
     "data": {
      "text/plain": [
       "2000-01-02    1\n",
       "2000-01-02    2\n",
       "2000-01-02    3\n",
       "dtype: int32"
      ]
     },
     "execution_count": 72,
     "metadata": {},
     "output_type": "execute_result"
    }
   ],
   "source": [
    "tup_ts['1/2/2000']"
   ]
  },
  {
   "cell_type": "code",
   "execution_count": 73,
   "metadata": {},
   "outputs": [
    {
     "data": {
      "text/plain": [
       "4"
      ]
     },
     "execution_count": 73,
     "metadata": {},
     "output_type": "execute_result"
    }
   ],
   "source": [
    "tup_ts['1/3/2000']"
   ]
  },
  {
   "cell_type": "code",
   "execution_count": 75,
   "metadata": {},
   "outputs": [
    {
     "data": {
      "text/plain": [
       "2000-01-01    0\n",
       "2000-01-02    2\n",
       "2000-01-03    4\n",
       "dtype: int32"
      ]
     },
     "execution_count": 75,
     "metadata": {},
     "output_type": "execute_result"
    }
   ],
   "source": [
    "tup_ts.groupby(level=0).mean()"
   ]
  },
  {
   "cell_type": "code",
   "execution_count": 76,
   "metadata": {},
   "outputs": [
    {
     "data": {
      "text/plain": [
       "2000-01-01    1\n",
       "2000-01-02    3\n",
       "2000-01-03    1\n",
       "dtype: int64"
      ]
     },
     "execution_count": 76,
     "metadata": {},
     "output_type": "execute_result"
    }
   ],
   "source": [
    "tup_ts.groupby(level=0).count()"
   ]
  },
  {
   "cell_type": "markdown",
   "metadata": {},
   "source": [
    "## 日期范围、频率和移位"
   ]
  },
  {
   "cell_type": "code",
   "execution_count": 3,
   "metadata": {},
   "outputs": [],
   "source": [
    "from datetime import datetime\n",
    "import pandas as pd\n",
    "import numpy as np"
   ]
  },
  {
   "cell_type": "code",
   "execution_count": 4,
   "metadata": {},
   "outputs": [],
   "source": [
    "dates = [datetime(2011,1,2),datetime(2011,1,5),datetime(2011,1,7),\n",
    "        datetime(2011,1,8),datetime(2011,1,10),datetime(2011,1,12)]\n",
    "ts = pd.Series(np.random.randn(6),index=dates)"
   ]
  },
  {
   "cell_type": "code",
   "execution_count": 5,
   "metadata": {},
   "outputs": [
    {
     "data": {
      "text/plain": [
       "2011-01-02   -0.216016\n",
       "2011-01-05   -0.306929\n",
       "2011-01-07    0.677160\n",
       "2011-01-08    1.290314\n",
       "2011-01-10   -1.371900\n",
       "2011-01-12    1.775150\n",
       "dtype: float64"
      ]
     },
     "execution_count": 5,
     "metadata": {},
     "output_type": "execute_result"
    }
   ],
   "source": [
    "ts"
   ]
  },
  {
   "cell_type": "code",
   "execution_count": 7,
   "metadata": {},
   "outputs": [],
   "source": [
    "resampler = ts.resample('D')"
   ]
  },
  {
   "cell_type": "markdown",
   "metadata": {},
   "source": [
    "- 生成日期范围"
   ]
  },
  {
   "cell_type": "code",
   "execution_count": 8,
   "metadata": {},
   "outputs": [],
   "source": [
    "index = pd.date_range('2012-04-01','2012-06-01')"
   ]
  },
  {
   "cell_type": "code",
   "execution_count": 9,
   "metadata": {},
   "outputs": [
    {
     "data": {
      "text/plain": [
       "DatetimeIndex(['2012-04-01', '2012-04-02', '2012-04-03', '2012-04-04',\n",
       "               '2012-04-05', '2012-04-06', '2012-04-07', '2012-04-08',\n",
       "               '2012-04-09', '2012-04-10', '2012-04-11', '2012-04-12',\n",
       "               '2012-04-13', '2012-04-14', '2012-04-15', '2012-04-16',\n",
       "               '2012-04-17', '2012-04-18', '2012-04-19', '2012-04-20',\n",
       "               '2012-04-21', '2012-04-22', '2012-04-23', '2012-04-24',\n",
       "               '2012-04-25', '2012-04-26', '2012-04-27', '2012-04-28',\n",
       "               '2012-04-29', '2012-04-30', '2012-05-01', '2012-05-02',\n",
       "               '2012-05-03', '2012-05-04', '2012-05-05', '2012-05-06',\n",
       "               '2012-05-07', '2012-05-08', '2012-05-09', '2012-05-10',\n",
       "               '2012-05-11', '2012-05-12', '2012-05-13', '2012-05-14',\n",
       "               '2012-05-15', '2012-05-16', '2012-05-17', '2012-05-18',\n",
       "               '2012-05-19', '2012-05-20', '2012-05-21', '2012-05-22',\n",
       "               '2012-05-23', '2012-05-24', '2012-05-25', '2012-05-26',\n",
       "               '2012-05-27', '2012-05-28', '2012-05-29', '2012-05-30',\n",
       "               '2012-05-31', '2012-06-01'],\n",
       "              dtype='datetime64[ns]', freq='D')"
      ]
     },
     "execution_count": 9,
     "metadata": {},
     "output_type": "execute_result"
    }
   ],
   "source": [
    "index"
   ]
  },
  {
   "cell_type": "code",
   "execution_count": 10,
   "metadata": {},
   "outputs": [
    {
     "data": {
      "text/plain": [
       "DatetimeIndex(['2012-04-01', '2012-04-02', '2012-04-03', '2012-04-04',\n",
       "               '2012-04-05', '2012-04-06', '2012-04-07', '2012-04-08',\n",
       "               '2012-04-09', '2012-04-10', '2012-04-11', '2012-04-12',\n",
       "               '2012-04-13', '2012-04-14', '2012-04-15', '2012-04-16',\n",
       "               '2012-04-17', '2012-04-18', '2012-04-19', '2012-04-20'],\n",
       "              dtype='datetime64[ns]', freq='D')"
      ]
     },
     "execution_count": 10,
     "metadata": {},
     "output_type": "execute_result"
    }
   ],
   "source": [
    "pd.date_range(start='2012-04-01',periods=20)"
   ]
  },
  {
   "cell_type": "code",
   "execution_count": 11,
   "metadata": {},
   "outputs": [
    {
     "data": {
      "text/plain": [
       "DatetimeIndex(['2012-05-13', '2012-05-14', '2012-05-15', '2012-05-16',\n",
       "               '2012-05-17', '2012-05-18', '2012-05-19', '2012-05-20',\n",
       "               '2012-05-21', '2012-05-22', '2012-05-23', '2012-05-24',\n",
       "               '2012-05-25', '2012-05-26', '2012-05-27', '2012-05-28',\n",
       "               '2012-05-29', '2012-05-30', '2012-05-31', '2012-06-01'],\n",
       "              dtype='datetime64[ns]', freq='D')"
      ]
     },
     "execution_count": 11,
     "metadata": {},
     "output_type": "execute_result"
    }
   ],
   "source": [
    "pd.date_range(end='2012-06-01',periods=20)"
   ]
  },
  {
   "cell_type": "code",
   "execution_count": 12,
   "metadata": {},
   "outputs": [
    {
     "data": {
      "text/plain": [
       "DatetimeIndex(['2000-01-31', '2000-02-29', '2000-03-31', '2000-04-28',\n",
       "               '2000-05-31', '2000-06-30', '2000-07-31', '2000-08-31',\n",
       "               '2000-09-29', '2000-10-31', '2000-11-30'],\n",
       "              dtype='datetime64[ns]', freq='BM')"
      ]
     },
     "execution_count": 12,
     "metadata": {},
     "output_type": "execute_result"
    }
   ],
   "source": [
    "pd.date_range('2000-01-01','2000-12-01',freq='BM')"
   ]
  },
  {
   "cell_type": "code",
   "execution_count": 16,
   "metadata": {},
   "outputs": [
    {
     "data": {
      "text/plain": [
       "DatetimeIndex(['2012-05-02 12:56:31', '2012-05-03 12:56:31',\n",
       "               '2012-05-04 12:56:31', '2012-05-05 12:56:31',\n",
       "               '2012-05-06 12:56:31'],\n",
       "              dtype='datetime64[ns]', freq='D')"
      ]
     },
     "execution_count": 16,
     "metadata": {},
     "output_type": "execute_result"
    }
   ],
   "source": [
    "pd.date_range('2012-05-02 12:56:31',periods=5)"
   ]
  },
  {
   "cell_type": "code",
   "execution_count": 17,
   "metadata": {},
   "outputs": [
    {
     "data": {
      "text/plain": [
       "DatetimeIndex(['2012-05-02', '2012-05-03', '2012-05-04', '2012-05-05',\n",
       "               '2012-05-06'],\n",
       "              dtype='datetime64[ns]', freq='D')"
      ]
     },
     "execution_count": 17,
     "metadata": {},
     "output_type": "execute_result"
    }
   ],
   "source": [
    "pd.date_range('2012-05-02 12:56:31',periods=5,normalize=True)"
   ]
  },
  {
   "cell_type": "markdown",
   "metadata": {},
   "source": [
    "- 频率和日期偏置"
   ]
  },
  {
   "cell_type": "code",
   "execution_count": 18,
   "metadata": {},
   "outputs": [],
   "source": [
    "from pandas.tseries.offsets import Hour,Minute"
   ]
  },
  {
   "cell_type": "code",
   "execution_count": 19,
   "metadata": {},
   "outputs": [],
   "source": [
    "hour = Hour()"
   ]
  },
  {
   "cell_type": "code",
   "execution_count": 20,
   "metadata": {},
   "outputs": [
    {
     "data": {
      "text/plain": [
       "<Hour>"
      ]
     },
     "execution_count": 20,
     "metadata": {},
     "output_type": "execute_result"
    }
   ],
   "source": [
    "hour"
   ]
  },
  {
   "cell_type": "code",
   "execution_count": 21,
   "metadata": {},
   "outputs": [],
   "source": [
    "four_hours = Hour(4)"
   ]
  },
  {
   "cell_type": "code",
   "execution_count": 22,
   "metadata": {},
   "outputs": [
    {
     "data": {
      "text/plain": [
       "<4 * Hours>"
      ]
     },
     "execution_count": 22,
     "metadata": {},
     "output_type": "execute_result"
    }
   ],
   "source": [
    "four_hours"
   ]
  },
  {
   "cell_type": "code",
   "execution_count": 23,
   "metadata": {},
   "outputs": [
    {
     "data": {
      "text/plain": [
       "DatetimeIndex(['2000-01-01 00:00:00', '2000-01-01 04:00:00',\n",
       "               '2000-01-01 08:00:00', '2000-01-01 12:00:00',\n",
       "               '2000-01-01 16:00:00', '2000-01-01 20:00:00',\n",
       "               '2000-01-02 00:00:00', '2000-01-02 04:00:00',\n",
       "               '2000-01-02 08:00:00', '2000-01-02 12:00:00',\n",
       "               '2000-01-02 16:00:00', '2000-01-02 20:00:00',\n",
       "               '2000-01-03 00:00:00', '2000-01-03 04:00:00',\n",
       "               '2000-01-03 08:00:00', '2000-01-03 12:00:00',\n",
       "               '2000-01-03 16:00:00', '2000-01-03 20:00:00'],\n",
       "              dtype='datetime64[ns]', freq='4H')"
      ]
     },
     "execution_count": 23,
     "metadata": {},
     "output_type": "execute_result"
    }
   ],
   "source": [
    "pd.date_range('2000-01-01','2000-01-03 23:59',freq='4h')"
   ]
  },
  {
   "cell_type": "code",
   "execution_count": 24,
   "metadata": {},
   "outputs": [
    {
     "data": {
      "text/plain": [
       "<150 * Minutes>"
      ]
     },
     "execution_count": 24,
     "metadata": {},
     "output_type": "execute_result"
    }
   ],
   "source": [
    "Hour(2)+Minute(30)"
   ]
  },
  {
   "cell_type": "code",
   "execution_count": 25,
   "metadata": {},
   "outputs": [
    {
     "data": {
      "text/plain": [
       "DatetimeIndex(['2000-01-01 00:00:00', '2000-01-01 01:30:00',\n",
       "               '2000-01-01 03:00:00', '2000-01-01 04:30:00',\n",
       "               '2000-01-01 06:00:00', '2000-01-01 07:30:00',\n",
       "               '2000-01-01 09:00:00', '2000-01-01 10:30:00',\n",
       "               '2000-01-01 12:00:00', '2000-01-01 13:30:00'],\n",
       "              dtype='datetime64[ns]', freq='90T')"
      ]
     },
     "execution_count": 25,
     "metadata": {},
     "output_type": "execute_result"
    }
   ],
   "source": [
    "pd.date_range('2000-01-01',periods=10,freq='1h30min')"
   ]
  },
  {
   "cell_type": "code",
   "execution_count": 26,
   "metadata": {},
   "outputs": [],
   "source": [
    "rng = pd.date_range('2012-01-01','2012-09-01',freq='WOM-3FRI')"
   ]
  },
  {
   "cell_type": "code",
   "execution_count": 27,
   "metadata": {},
   "outputs": [
    {
     "data": {
      "text/plain": [
       "[Timestamp('2012-01-20 00:00:00', freq='WOM-3FRI'),\n",
       " Timestamp('2012-02-17 00:00:00', freq='WOM-3FRI'),\n",
       " Timestamp('2012-03-16 00:00:00', freq='WOM-3FRI'),\n",
       " Timestamp('2012-04-20 00:00:00', freq='WOM-3FRI'),\n",
       " Timestamp('2012-05-18 00:00:00', freq='WOM-3FRI'),\n",
       " Timestamp('2012-06-15 00:00:00', freq='WOM-3FRI'),\n",
       " Timestamp('2012-07-20 00:00:00', freq='WOM-3FRI'),\n",
       " Timestamp('2012-08-17 00:00:00', freq='WOM-3FRI')]"
      ]
     },
     "execution_count": 27,
     "metadata": {},
     "output_type": "execute_result"
    }
   ],
   "source": [
    "list(rng)"
   ]
  },
  {
   "cell_type": "markdown",
   "metadata": {},
   "source": [
    "- 移位（前向和后向）日期"
   ]
  },
  {
   "cell_type": "code",
   "execution_count": 28,
   "metadata": {},
   "outputs": [],
   "source": [
    "ts = pd.Series(np.random.randn(4),index=pd.date_range('1/1/2000',periods=4,freq='M'))"
   ]
  },
  {
   "cell_type": "code",
   "execution_count": 29,
   "metadata": {},
   "outputs": [
    {
     "data": {
      "text/plain": [
       "2000-01-31    0.553914\n",
       "2000-02-29    0.320321\n",
       "2000-03-31    1.496250\n",
       "2000-04-30    2.328024\n",
       "Freq: M, dtype: float64"
      ]
     },
     "execution_count": 29,
     "metadata": {},
     "output_type": "execute_result"
    }
   ],
   "source": [
    "ts"
   ]
  },
  {
   "cell_type": "code",
   "execution_count": 30,
   "metadata": {},
   "outputs": [
    {
     "data": {
      "text/plain": [
       "2000-01-31         NaN\n",
       "2000-02-29         NaN\n",
       "2000-03-31    0.553914\n",
       "2000-04-30    0.320321\n",
       "Freq: M, dtype: float64"
      ]
     },
     "execution_count": 30,
     "metadata": {},
     "output_type": "execute_result"
    }
   ],
   "source": [
    "ts.shift(2)"
   ]
  },
  {
   "cell_type": "code",
   "execution_count": 31,
   "metadata": {},
   "outputs": [
    {
     "data": {
      "text/plain": [
       "2000-01-31    1.496250\n",
       "2000-02-29    2.328024\n",
       "2000-03-31         NaN\n",
       "2000-04-30         NaN\n",
       "Freq: M, dtype: float64"
      ]
     },
     "execution_count": 31,
     "metadata": {},
     "output_type": "execute_result"
    }
   ],
   "source": [
    "ts.shift(-2)"
   ]
  },
  {
   "cell_type": "code",
   "execution_count": 32,
   "metadata": {},
   "outputs": [
    {
     "data": {
      "text/plain": [
       "2000-01-31         NaN\n",
       "2000-02-29   -0.421713\n",
       "2000-03-31    3.671092\n",
       "2000-04-30    0.555906\n",
       "Freq: M, dtype: float64"
      ]
     },
     "execution_count": 32,
     "metadata": {},
     "output_type": "execute_result"
    }
   ],
   "source": [
    "ts/ts.shift(1)-1"
   ]
  },
  {
   "cell_type": "code",
   "execution_count": 33,
   "metadata": {},
   "outputs": [
    {
     "data": {
      "text/plain": [
       "2000-03-31    0.553914\n",
       "2000-04-30    0.320321\n",
       "2000-05-31    1.496250\n",
       "2000-06-30    2.328024\n",
       "Freq: M, dtype: float64"
      ]
     },
     "execution_count": 33,
     "metadata": {},
     "output_type": "execute_result"
    }
   ],
   "source": [
    "ts.shift(2,freq=\"M\")"
   ]
  },
  {
   "cell_type": "code",
   "execution_count": 34,
   "metadata": {},
   "outputs": [
    {
     "data": {
      "text/plain": [
       "2000-02-03    0.553914\n",
       "2000-03-03    0.320321\n",
       "2000-04-03    1.496250\n",
       "2000-05-03    2.328024\n",
       "dtype: float64"
      ]
     },
     "execution_count": 34,
     "metadata": {},
     "output_type": "execute_result"
    }
   ],
   "source": [
    "ts.shift(3,freq='D')"
   ]
  },
  {
   "cell_type": "code",
   "execution_count": 35,
   "metadata": {},
   "outputs": [
    {
     "data": {
      "text/plain": [
       "2000-01-31 01:30:00    0.553914\n",
       "2000-02-29 01:30:00    0.320321\n",
       "2000-03-31 01:30:00    1.496250\n",
       "2000-04-30 01:30:00    2.328024\n",
       "Freq: M, dtype: float64"
      ]
     },
     "execution_count": 35,
     "metadata": {},
     "output_type": "execute_result"
    }
   ],
   "source": [
    "ts.shift(1,freq='90T')"
   ]
  },
  {
   "cell_type": "code",
   "execution_count": 36,
   "metadata": {},
   "outputs": [],
   "source": [
    "from pandas.tseries.offsets import Day,MonthEnd"
   ]
  },
  {
   "cell_type": "code",
   "execution_count": 37,
   "metadata": {},
   "outputs": [],
   "source": [
    "now = datetime(2011,11,17)"
   ]
  },
  {
   "cell_type": "code",
   "execution_count": 38,
   "metadata": {},
   "outputs": [
    {
     "data": {
      "text/plain": [
       "Timestamp('2011-11-20 00:00:00')"
      ]
     },
     "execution_count": 38,
     "metadata": {},
     "output_type": "execute_result"
    }
   ],
   "source": [
    "now+3*Day()"
   ]
  },
  {
   "cell_type": "code",
   "execution_count": 39,
   "metadata": {},
   "outputs": [
    {
     "data": {
      "text/plain": [
       "Timestamp('2011-11-30 00:00:00')"
      ]
     },
     "execution_count": 39,
     "metadata": {},
     "output_type": "execute_result"
    }
   ],
   "source": [
    "now+MonthEnd()"
   ]
  },
  {
   "cell_type": "code",
   "execution_count": 40,
   "metadata": {},
   "outputs": [
    {
     "data": {
      "text/plain": [
       "Timestamp('2011-12-31 00:00:00')"
      ]
     },
     "execution_count": 40,
     "metadata": {},
     "output_type": "execute_result"
    }
   ],
   "source": [
    "now+MonthEnd(2)"
   ]
  },
  {
   "cell_type": "code",
   "execution_count": 41,
   "metadata": {},
   "outputs": [],
   "source": [
    "offset  = MonthEnd()"
   ]
  },
  {
   "cell_type": "code",
   "execution_count": 42,
   "metadata": {},
   "outputs": [
    {
     "data": {
      "text/plain": [
       "Timestamp('2011-11-30 00:00:00')"
      ]
     },
     "execution_count": 42,
     "metadata": {},
     "output_type": "execute_result"
    }
   ],
   "source": [
    "offset.rollforward(now)"
   ]
  },
  {
   "cell_type": "code",
   "execution_count": 43,
   "metadata": {},
   "outputs": [
    {
     "data": {
      "text/plain": [
       "Timestamp('2011-10-31 00:00:00')"
      ]
     },
     "execution_count": 43,
     "metadata": {},
     "output_type": "execute_result"
    }
   ],
   "source": [
    "offset.rollback(now)"
   ]
  },
  {
   "cell_type": "code",
   "execution_count": 45,
   "metadata": {},
   "outputs": [],
   "source": [
    "ts = pd.Series(np.random.randn(20),index=pd.date_range('1/15/2000',periods=20,freq='4d'))"
   ]
  },
  {
   "cell_type": "code",
   "execution_count": 46,
   "metadata": {},
   "outputs": [
    {
     "data": {
      "text/plain": [
       "2000-01-15   -0.300174\n",
       "2000-01-19   -0.381186\n",
       "2000-01-23    0.023195\n",
       "2000-01-27   -0.466453\n",
       "2000-01-31    0.834375\n",
       "2000-02-04   -0.130202\n",
       "2000-02-08   -0.177788\n",
       "2000-02-12   -0.968804\n",
       "2000-02-16   -0.895585\n",
       "2000-02-20    1.277752\n",
       "2000-02-24   -0.383479\n",
       "2000-02-28   -1.799994\n",
       "2000-03-03    0.900114\n",
       "2000-03-07    0.422569\n",
       "2000-03-11   -0.747582\n",
       "2000-03-15   -0.438858\n",
       "2000-03-19   -1.356811\n",
       "2000-03-23   -0.206336\n",
       "2000-03-27    0.936329\n",
       "2000-03-31   -0.309562\n",
       "Freq: 4D, dtype: float64"
      ]
     },
     "execution_count": 46,
     "metadata": {},
     "output_type": "execute_result"
    }
   ],
   "source": [
    "ts"
   ]
  },
  {
   "cell_type": "code",
   "execution_count": 47,
   "metadata": {},
   "outputs": [
    {
     "data": {
      "text/plain": [
       "2000-01-31   -0.058049\n",
       "2000-02-29   -0.439728\n",
       "2000-03-31   -0.100017\n",
       "dtype: float64"
      ]
     },
     "execution_count": 47,
     "metadata": {},
     "output_type": "execute_result"
    }
   ],
   "source": [
    "ts.groupby(offset.rollforward).mean()"
   ]
  },
  {
   "cell_type": "code",
   "execution_count": 48,
   "metadata": {},
   "outputs": [
    {
     "data": {
      "text/plain": [
       "2000-01-31   -0.058049\n",
       "2000-02-29   -0.439728\n",
       "2000-03-31   -0.100017\n",
       "Freq: M, dtype: float64"
      ]
     },
     "execution_count": 48,
     "metadata": {},
     "output_type": "execute_result"
    }
   ],
   "source": [
    "ts.resample('M').mean()"
   ]
  },
  {
   "cell_type": "markdown",
   "metadata": {},
   "source": [
    "## 时区处理"
   ]
  },
  {
   "cell_type": "code",
   "execution_count": 49,
   "metadata": {},
   "outputs": [],
   "source": [
    "import pytz"
   ]
  },
  {
   "cell_type": "code",
   "execution_count": 50,
   "metadata": {},
   "outputs": [
    {
     "data": {
      "text/plain": [
       "['US/Eastern', 'US/Hawaii', 'US/Mountain', 'US/Pacific', 'UTC']"
      ]
     },
     "execution_count": 50,
     "metadata": {},
     "output_type": "execute_result"
    }
   ],
   "source": [
    "pytz.common_timezones[-5:]"
   ]
  },
  {
   "cell_type": "code",
   "execution_count": 54,
   "metadata": {},
   "outputs": [],
   "source": [
    "tz = pytz.timezone('America/New_York')"
   ]
  },
  {
   "cell_type": "code",
   "execution_count": 55,
   "metadata": {},
   "outputs": [
    {
     "data": {
      "text/plain": [
       "<DstTzInfo 'America/New_York' LMT-1 day, 19:04:00 STD>"
      ]
     },
     "execution_count": 55,
     "metadata": {},
     "output_type": "execute_result"
    }
   ],
   "source": [
    "tz"
   ]
  },
  {
   "cell_type": "markdown",
   "metadata": {},
   "source": [
    "- 时区的本地化和转化"
   ]
  },
  {
   "cell_type": "code",
   "execution_count": 56,
   "metadata": {},
   "outputs": [],
   "source": [
    "rng = pd.date_range('3/9/2012 9:30',periods=6,freq='D')"
   ]
  },
  {
   "cell_type": "code",
   "execution_count": 57,
   "metadata": {},
   "outputs": [],
   "source": [
    "ts = pd.Series(np.random.randn(len(rng)),index=rng)"
   ]
  },
  {
   "cell_type": "code",
   "execution_count": 58,
   "metadata": {},
   "outputs": [
    {
     "data": {
      "text/plain": [
       "2012-03-09 09:30:00   -0.014296\n",
       "2012-03-10 09:30:00   -0.516194\n",
       "2012-03-11 09:30:00   -0.549166\n",
       "2012-03-12 09:30:00    1.067962\n",
       "2012-03-13 09:30:00   -0.414887\n",
       "2012-03-14 09:30:00   -0.675831\n",
       "Freq: D, dtype: float64"
      ]
     },
     "execution_count": 58,
     "metadata": {},
     "output_type": "execute_result"
    }
   ],
   "source": [
    "ts"
   ]
  },
  {
   "cell_type": "code",
   "execution_count": 59,
   "metadata": {},
   "outputs": [
    {
     "name": "stdout",
     "output_type": "stream",
     "text": [
      "None\n"
     ]
    }
   ],
   "source": [
    "print(ts.index.tz)"
   ]
  },
  {
   "cell_type": "code",
   "execution_count": 60,
   "metadata": {},
   "outputs": [
    {
     "data": {
      "text/plain": [
       "DatetimeIndex(['2012-03-09 09:30:00+00:00', '2012-03-10 09:30:00+00:00',\n",
       "               '2012-03-11 09:30:00+00:00', '2012-03-12 09:30:00+00:00',\n",
       "               '2012-03-13 09:30:00+00:00', '2012-03-14 09:30:00+00:00',\n",
       "               '2012-03-15 09:30:00+00:00', '2012-03-16 09:30:00+00:00',\n",
       "               '2012-03-17 09:30:00+00:00', '2012-03-18 09:30:00+00:00'],\n",
       "              dtype='datetime64[ns, UTC]', freq='D')"
      ]
     },
     "execution_count": 60,
     "metadata": {},
     "output_type": "execute_result"
    }
   ],
   "source": [
    "pd.date_range('3/9/2012 9:30',periods=10,freq='D',tz='UTC')"
   ]
  },
  {
   "cell_type": "code",
   "execution_count": 61,
   "metadata": {},
   "outputs": [
    {
     "data": {
      "text/plain": [
       "2012-03-09 09:30:00   -0.014296\n",
       "2012-03-10 09:30:00   -0.516194\n",
       "2012-03-11 09:30:00   -0.549166\n",
       "2012-03-12 09:30:00    1.067962\n",
       "2012-03-13 09:30:00   -0.414887\n",
       "2012-03-14 09:30:00   -0.675831\n",
       "Freq: D, dtype: float64"
      ]
     },
     "execution_count": 61,
     "metadata": {},
     "output_type": "execute_result"
    }
   ],
   "source": [
    "ts"
   ]
  },
  {
   "cell_type": "code",
   "execution_count": 62,
   "metadata": {},
   "outputs": [],
   "source": [
    "ts_utc = ts.tz_localize('UTC')"
   ]
  },
  {
   "cell_type": "code",
   "execution_count": 63,
   "metadata": {},
   "outputs": [
    {
     "data": {
      "text/plain": [
       "2012-03-09 09:30:00+00:00   -0.014296\n",
       "2012-03-10 09:30:00+00:00   -0.516194\n",
       "2012-03-11 09:30:00+00:00   -0.549166\n",
       "2012-03-12 09:30:00+00:00    1.067962\n",
       "2012-03-13 09:30:00+00:00   -0.414887\n",
       "2012-03-14 09:30:00+00:00   -0.675831\n",
       "Freq: D, dtype: float64"
      ]
     },
     "execution_count": 63,
     "metadata": {},
     "output_type": "execute_result"
    }
   ],
   "source": [
    "ts_utc"
   ]
  },
  {
   "cell_type": "code",
   "execution_count": 64,
   "metadata": {},
   "outputs": [
    {
     "data": {
      "text/plain": [
       "DatetimeIndex(['2012-03-09 09:30:00+00:00', '2012-03-10 09:30:00+00:00',\n",
       "               '2012-03-11 09:30:00+00:00', '2012-03-12 09:30:00+00:00',\n",
       "               '2012-03-13 09:30:00+00:00', '2012-03-14 09:30:00+00:00'],\n",
       "              dtype='datetime64[ns, UTC]', freq='D')"
      ]
     },
     "execution_count": 64,
     "metadata": {},
     "output_type": "execute_result"
    }
   ],
   "source": [
    "ts_utc.index"
   ]
  },
  {
   "cell_type": "markdown",
   "metadata": {},
   "source": [
    "## 时间区间和区间算术"
   ]
  },
  {
   "cell_type": "code",
   "execution_count": 65,
   "metadata": {},
   "outputs": [],
   "source": [
    "p = pd.Period(2007,freq='A-DEC')"
   ]
  },
  {
   "cell_type": "code",
   "execution_count": 66,
   "metadata": {},
   "outputs": [
    {
     "data": {
      "text/plain": [
       "Period('2007', 'A-DEC')"
      ]
     },
     "execution_count": 66,
     "metadata": {},
     "output_type": "execute_result"
    }
   ],
   "source": [
    "p"
   ]
  },
  {
   "cell_type": "code",
   "execution_count": 67,
   "metadata": {},
   "outputs": [
    {
     "data": {
      "text/plain": [
       "Period('2012', 'A-DEC')"
      ]
     },
     "execution_count": 67,
     "metadata": {},
     "output_type": "execute_result"
    }
   ],
   "source": [
    "p+5"
   ]
  },
  {
   "cell_type": "code",
   "execution_count": 68,
   "metadata": {},
   "outputs": [
    {
     "data": {
      "text/plain": [
       "Period('2005', 'A-DEC')"
      ]
     },
     "execution_count": 68,
     "metadata": {},
     "output_type": "execute_result"
    }
   ],
   "source": [
    "p-2"
   ]
  },
  {
   "cell_type": "code",
   "execution_count": 69,
   "metadata": {},
   "outputs": [
    {
     "data": {
      "text/plain": [
       "7"
      ]
     },
     "execution_count": 69,
     "metadata": {},
     "output_type": "execute_result"
    }
   ],
   "source": [
    "pd.Period('2014',freq='A-DEC') - p"
   ]
  },
  {
   "cell_type": "code",
   "execution_count": 70,
   "metadata": {},
   "outputs": [],
   "source": [
    "rng = pd.period_range('2000-01-01','2000-06-30',freq='M')"
   ]
  },
  {
   "cell_type": "code",
   "execution_count": 71,
   "metadata": {},
   "outputs": [
    {
     "data": {
      "text/plain": [
       "PeriodIndex(['2000-01', '2000-02', '2000-03', '2000-04', '2000-05', '2000-06'], dtype='period[M]', freq='M')"
      ]
     },
     "execution_count": 71,
     "metadata": {},
     "output_type": "execute_result"
    }
   ],
   "source": [
    "rng"
   ]
  },
  {
   "cell_type": "code",
   "execution_count": 72,
   "metadata": {},
   "outputs": [
    {
     "data": {
      "text/plain": [
       "2000-01    2.385573\n",
       "2000-02   -0.394702\n",
       "2000-03    0.079935\n",
       "2000-04   -0.142042\n",
       "2000-05    0.718831\n",
       "2000-06    0.089605\n",
       "Freq: M, dtype: float64"
      ]
     },
     "execution_count": 72,
     "metadata": {},
     "output_type": "execute_result"
    }
   ],
   "source": [
    "pd.Series(np.random.randn(6),index=rng)"
   ]
  },
  {
   "cell_type": "code",
   "execution_count": 73,
   "metadata": {},
   "outputs": [],
   "source": [
    "values = ['2001Q1','2002Q2','2003Q1']"
   ]
  },
  {
   "cell_type": "code",
   "execution_count": 74,
   "metadata": {},
   "outputs": [],
   "source": [
    "index = pd.PeriodIndex(values,freq='Q-DEC')"
   ]
  },
  {
   "cell_type": "code",
   "execution_count": 75,
   "metadata": {},
   "outputs": [
    {
     "data": {
      "text/plain": [
       "PeriodIndex(['2001Q1', '2002Q2', '2003Q1'], dtype='period[Q-DEC]', freq='Q-DEC')"
      ]
     },
     "execution_count": 75,
     "metadata": {},
     "output_type": "execute_result"
    }
   ],
   "source": [
    "index"
   ]
  },
  {
   "cell_type": "markdown",
   "metadata": {},
   "source": [
    "- 区间频率转换"
   ]
  },
  {
   "cell_type": "code",
   "execution_count": 76,
   "metadata": {},
   "outputs": [
    {
     "data": {
      "text/plain": [
       "Period('2007', 'A-DEC')"
      ]
     },
     "execution_count": 76,
     "metadata": {},
     "output_type": "execute_result"
    }
   ],
   "source": [
    "p"
   ]
  },
  {
   "cell_type": "code",
   "execution_count": 77,
   "metadata": {},
   "outputs": [
    {
     "data": {
      "text/plain": [
       "Period('2007-01', 'M')"
      ]
     },
     "execution_count": 77,
     "metadata": {},
     "output_type": "execute_result"
    }
   ],
   "source": [
    "p.asfreq('M',how='start')"
   ]
  },
  {
   "cell_type": "code",
   "execution_count": 78,
   "metadata": {},
   "outputs": [
    {
     "data": {
      "text/plain": [
       "Period('2007-12', 'M')"
      ]
     },
     "execution_count": 78,
     "metadata": {},
     "output_type": "execute_result"
    }
   ],
   "source": [
    "p.asfreq('M',how='end')"
   ]
  },
  {
   "cell_type": "code",
   "execution_count": 79,
   "metadata": {},
   "outputs": [],
   "source": [
    "p = pd.Period('2007',freq='A-JUN')"
   ]
  },
  {
   "cell_type": "code",
   "execution_count": 80,
   "metadata": {},
   "outputs": [
    {
     "data": {
      "text/plain": [
       "Period('2007', 'A-JUN')"
      ]
     },
     "execution_count": 80,
     "metadata": {},
     "output_type": "execute_result"
    }
   ],
   "source": [
    "p"
   ]
  },
  {
   "cell_type": "code",
   "execution_count": 81,
   "metadata": {},
   "outputs": [
    {
     "data": {
      "text/plain": [
       "Period('2006-07', 'M')"
      ]
     },
     "execution_count": 81,
     "metadata": {},
     "output_type": "execute_result"
    }
   ],
   "source": [
    "p.asfreq('M','start')"
   ]
  },
  {
   "cell_type": "code",
   "execution_count": 82,
   "metadata": {},
   "outputs": [
    {
     "data": {
      "text/plain": [
       "Period('2007-06', 'M')"
      ]
     },
     "execution_count": 82,
     "metadata": {},
     "output_type": "execute_result"
    }
   ],
   "source": [
    "p.asfreq('M','end')"
   ]
  },
  {
   "cell_type": "code",
   "execution_count": 83,
   "metadata": {},
   "outputs": [],
   "source": [
    "p = pd.Period('Aug-2007','M')"
   ]
  },
  {
   "cell_type": "code",
   "execution_count": 84,
   "metadata": {},
   "outputs": [
    {
     "data": {
      "text/plain": [
       "Period('2008', 'A-JUN')"
      ]
     },
     "execution_count": 84,
     "metadata": {},
     "output_type": "execute_result"
    }
   ],
   "source": [
    "p.asfreq('A-JUN')"
   ]
  },
  {
   "cell_type": "code",
   "execution_count": 85,
   "metadata": {},
   "outputs": [],
   "source": [
    "rng = pd.period_range('2006','2009',freq='A-DEC')"
   ]
  },
  {
   "cell_type": "code",
   "execution_count": 87,
   "metadata": {},
   "outputs": [],
   "source": [
    "ts = pd.Series(np.random.randn(len(rng)),index=rng)"
   ]
  },
  {
   "cell_type": "code",
   "execution_count": 88,
   "metadata": {},
   "outputs": [
    {
     "data": {
      "text/plain": [
       "2006   -0.030730\n",
       "2007    0.670613\n",
       "2008   -1.344953\n",
       "2009   -0.100625\n",
       "Freq: A-DEC, dtype: float64"
      ]
     },
     "execution_count": 88,
     "metadata": {},
     "output_type": "execute_result"
    }
   ],
   "source": [
    "ts"
   ]
  },
  {
   "cell_type": "code",
   "execution_count": 89,
   "metadata": {},
   "outputs": [
    {
     "data": {
      "text/plain": [
       "2006-01   -0.030730\n",
       "2007-01    0.670613\n",
       "2008-01   -1.344953\n",
       "2009-01   -0.100625\n",
       "Freq: M, dtype: float64"
      ]
     },
     "execution_count": 89,
     "metadata": {},
     "output_type": "execute_result"
    }
   ],
   "source": [
    "ts.asfreq(\"M\",how='start')"
   ]
  },
  {
   "cell_type": "code",
   "execution_count": 90,
   "metadata": {},
   "outputs": [
    {
     "data": {
      "text/plain": [
       "2006-12-29   -0.030730\n",
       "2007-12-31    0.670613\n",
       "2008-12-31   -1.344953\n",
       "2009-12-31   -0.100625\n",
       "Freq: B, dtype: float64"
      ]
     },
     "execution_count": 90,
     "metadata": {},
     "output_type": "execute_result"
    }
   ],
   "source": [
    "ts.asfreq('B',how='end')"
   ]
  },
  {
   "cell_type": "markdown",
   "metadata": {},
   "source": [
    "- 季度区间频率"
   ]
  },
  {
   "cell_type": "code",
   "execution_count": 92,
   "metadata": {},
   "outputs": [],
   "source": [
    "p = pd.Period('2012Q4',freq='Q-JAN')"
   ]
  },
  {
   "cell_type": "code",
   "execution_count": 93,
   "metadata": {},
   "outputs": [
    {
     "data": {
      "text/plain": [
       "Period('2012Q4', 'Q-JAN')"
      ]
     },
     "execution_count": 93,
     "metadata": {},
     "output_type": "execute_result"
    }
   ],
   "source": [
    "p"
   ]
  },
  {
   "cell_type": "code",
   "execution_count": 94,
   "metadata": {},
   "outputs": [
    {
     "data": {
      "text/plain": [
       "Period('2011-11-01', 'D')"
      ]
     },
     "execution_count": 94,
     "metadata": {},
     "output_type": "execute_result"
    }
   ],
   "source": [
    "p.asfreq('D','start')"
   ]
  },
  {
   "cell_type": "code",
   "execution_count": 95,
   "metadata": {},
   "outputs": [
    {
     "data": {
      "text/plain": [
       "Period('2012-01-31', 'D')"
      ]
     },
     "execution_count": 95,
     "metadata": {},
     "output_type": "execute_result"
    }
   ],
   "source": [
    "p.asfreq('D','end')"
   ]
  },
  {
   "cell_type": "markdown",
   "metadata": {},
   "source": [
    "## 重新采样与频率转换"
   ]
  },
  {
   "cell_type": "code",
   "execution_count": 96,
   "metadata": {},
   "outputs": [],
   "source": [
    "rng = pd.date_range('2001-01-01',periods=100,freq='D')"
   ]
  },
  {
   "cell_type": "code",
   "execution_count": 98,
   "metadata": {},
   "outputs": [],
   "source": [
    "ts = pd.Series(np.random.randn(len(rng)),index=rng)"
   ]
  },
  {
   "cell_type": "code",
   "execution_count": 99,
   "metadata": {},
   "outputs": [
    {
     "data": {
      "text/plain": [
       "2001-01-01   -0.874874\n",
       "2001-01-02   -0.022426\n",
       "2001-01-03    0.730205\n",
       "2001-01-04    1.376318\n",
       "2001-01-05   -0.295081\n",
       "2001-01-06    1.635490\n",
       "2001-01-07    0.159633\n",
       "2001-01-08   -0.031669\n",
       "2001-01-09   -0.065143\n",
       "2001-01-10    2.107002\n",
       "2001-01-11    0.877653\n",
       "2001-01-12    0.519396\n",
       "2001-01-13    0.199457\n",
       "2001-01-14    1.249072\n",
       "2001-01-15   -2.081146\n",
       "2001-01-16    0.155754\n",
       "2001-01-17   -0.255826\n",
       "2001-01-18    0.334607\n",
       "2001-01-19   -1.796708\n",
       "2001-01-20   -1.704966\n",
       "2001-01-21    0.073478\n",
       "2001-01-22   -0.341516\n",
       "2001-01-23    1.052867\n",
       "2001-01-24    1.564495\n",
       "2001-01-25    0.908513\n",
       "2001-01-26   -0.266323\n",
       "2001-01-27    0.204688\n",
       "2001-01-28    1.334322\n",
       "2001-01-29   -2.016198\n",
       "2001-01-30    0.821103\n",
       "                ...   \n",
       "2001-03-12    1.467715\n",
       "2001-03-13   -0.498387\n",
       "2001-03-14    0.483333\n",
       "2001-03-15   -1.721931\n",
       "2001-03-16    1.699672\n",
       "2001-03-17    1.134571\n",
       "2001-03-18   -0.232825\n",
       "2001-03-19    0.175935\n",
       "2001-03-20    1.759892\n",
       "2001-03-21   -0.364867\n",
       "2001-03-22    2.571336\n",
       "2001-03-23   -1.950513\n",
       "2001-03-24   -0.101868\n",
       "2001-03-25   -0.966739\n",
       "2001-03-26   -0.610262\n",
       "2001-03-27    0.273728\n",
       "2001-03-28    0.404206\n",
       "2001-03-29   -0.331415\n",
       "2001-03-30    2.052480\n",
       "2001-03-31   -1.509398\n",
       "2001-04-01   -0.259501\n",
       "2001-04-02   -0.445348\n",
       "2001-04-03    0.188758\n",
       "2001-04-04    1.191899\n",
       "2001-04-05    2.000480\n",
       "2001-04-06   -1.002595\n",
       "2001-04-07    1.977179\n",
       "2001-04-08    1.459207\n",
       "2001-04-09   -1.934882\n",
       "2001-04-10    0.084753\n",
       "Freq: D, Length: 100, dtype: float64"
      ]
     },
     "execution_count": 99,
     "metadata": {},
     "output_type": "execute_result"
    }
   ],
   "source": [
    "ts"
   ]
  },
  {
   "cell_type": "code",
   "execution_count": 100,
   "metadata": {},
   "outputs": [
    {
     "data": {
      "text/plain": [
       "2001-01-31    0.215881\n",
       "2001-02-28   -0.097202\n",
       "2001-03-31   -0.026508\n",
       "2001-04-30    0.325995\n",
       "Freq: M, dtype: float64"
      ]
     },
     "execution_count": 100,
     "metadata": {},
     "output_type": "execute_result"
    }
   ],
   "source": [
    "ts.resample('M').mean()"
   ]
  },
  {
   "cell_type": "code",
   "execution_count": 101,
   "metadata": {},
   "outputs": [
    {
     "data": {
      "text/plain": [
       "2001-01    0.215881\n",
       "2001-02   -0.097202\n",
       "2001-03   -0.026508\n",
       "2001-04    0.325995\n",
       "Freq: M, dtype: float64"
      ]
     },
     "execution_count": 101,
     "metadata": {},
     "output_type": "execute_result"
    }
   ],
   "source": [
    "ts.resample('M',kind='period').mean()"
   ]
  },
  {
   "cell_type": "markdown",
   "metadata": {},
   "source": [
    "- 向下采样"
   ]
  },
  {
   "cell_type": "code",
   "execution_count": 102,
   "metadata": {},
   "outputs": [],
   "source": [
    "rng = pd.date_range('2000-01-01',periods=12,freq='T')"
   ]
  },
  {
   "cell_type": "code",
   "execution_count": 103,
   "metadata": {},
   "outputs": [],
   "source": [
    "ts = pd.Series(np.arange(12),index=rng)"
   ]
  },
  {
   "cell_type": "code",
   "execution_count": 104,
   "metadata": {},
   "outputs": [
    {
     "data": {
      "text/plain": [
       "2000-01-01 00:00:00     0\n",
       "2000-01-01 00:01:00     1\n",
       "2000-01-01 00:02:00     2\n",
       "2000-01-01 00:03:00     3\n",
       "2000-01-01 00:04:00     4\n",
       "2000-01-01 00:05:00     5\n",
       "2000-01-01 00:06:00     6\n",
       "2000-01-01 00:07:00     7\n",
       "2000-01-01 00:08:00     8\n",
       "2000-01-01 00:09:00     9\n",
       "2000-01-01 00:10:00    10\n",
       "2000-01-01 00:11:00    11\n",
       "Freq: T, dtype: int32"
      ]
     },
     "execution_count": 104,
     "metadata": {},
     "output_type": "execute_result"
    }
   ],
   "source": [
    "ts"
   ]
  },
  {
   "cell_type": "code",
   "execution_count": 105,
   "metadata": {},
   "outputs": [
    {
     "data": {
      "text/plain": [
       "1999-12-31 23:55:00     0\n",
       "2000-01-01 00:00:00    15\n",
       "2000-01-01 00:05:00    40\n",
       "2000-01-01 00:10:00    11\n",
       "Freq: 5T, dtype: int32"
      ]
     },
     "execution_count": 105,
     "metadata": {},
     "output_type": "execute_result"
    }
   ],
   "source": [
    "ts.resample('5min',closed='right').sum()"
   ]
  },
  {
   "cell_type": "code",
   "execution_count": 106,
   "metadata": {},
   "outputs": [
    {
     "data": {
      "text/plain": [
       "2000-01-01 00:00:00     0\n",
       "2000-01-01 00:05:00    15\n",
       "2000-01-01 00:10:00    40\n",
       "2000-01-01 00:15:00    11\n",
       "Freq: 5T, dtype: int32"
      ]
     },
     "execution_count": 106,
     "metadata": {},
     "output_type": "execute_result"
    }
   ],
   "source": [
    "ts.resample('5min',closed='right',label='right').sum()"
   ]
  },
  {
   "cell_type": "code",
   "execution_count": 110,
   "metadata": {},
   "outputs": [
    {
     "data": {
      "text/plain": [
       "1999-12-31 23:59:59     0\n",
       "2000-01-01 00:04:59    15\n",
       "2000-01-01 00:09:59    40\n",
       "2000-01-01 00:14:59    11\n",
       "Freq: 5T, dtype: int32"
      ]
     },
     "execution_count": 110,
     "metadata": {},
     "output_type": "execute_result"
    }
   ],
   "source": [
    "ts.resample('5min',closed='right',label='right',loffset='-1s').sum()"
   ]
  },
  {
   "cell_type": "code",
   "execution_count": 111,
   "metadata": {},
   "outputs": [
    {
     "data": {
      "text/html": [
       "<div>\n",
       "<style scoped>\n",
       "    .dataframe tbody tr th:only-of-type {\n",
       "        vertical-align: middle;\n",
       "    }\n",
       "\n",
       "    .dataframe tbody tr th {\n",
       "        vertical-align: top;\n",
       "    }\n",
       "\n",
       "    .dataframe thead th {\n",
       "        text-align: right;\n",
       "    }\n",
       "</style>\n",
       "<table border=\"1\" class=\"dataframe\">\n",
       "  <thead>\n",
       "    <tr style=\"text-align: right;\">\n",
       "      <th></th>\n",
       "      <th>open</th>\n",
       "      <th>high</th>\n",
       "      <th>low</th>\n",
       "      <th>close</th>\n",
       "    </tr>\n",
       "  </thead>\n",
       "  <tbody>\n",
       "    <tr>\n",
       "      <th>2000-01-01 00:00:00</th>\n",
       "      <td>0</td>\n",
       "      <td>4</td>\n",
       "      <td>0</td>\n",
       "      <td>4</td>\n",
       "    </tr>\n",
       "    <tr>\n",
       "      <th>2000-01-01 00:05:00</th>\n",
       "      <td>5</td>\n",
       "      <td>9</td>\n",
       "      <td>5</td>\n",
       "      <td>9</td>\n",
       "    </tr>\n",
       "    <tr>\n",
       "      <th>2000-01-01 00:10:00</th>\n",
       "      <td>10</td>\n",
       "      <td>11</td>\n",
       "      <td>10</td>\n",
       "      <td>11</td>\n",
       "    </tr>\n",
       "  </tbody>\n",
       "</table>\n",
       "</div>"
      ],
      "text/plain": [
       "                     open  high  low  close\n",
       "2000-01-01 00:00:00     0     4    0      4\n",
       "2000-01-01 00:05:00     5     9    5      9\n",
       "2000-01-01 00:10:00    10    11   10     11"
      ]
     },
     "execution_count": 111,
     "metadata": {},
     "output_type": "execute_result"
    }
   ],
   "source": [
    "# 开端-峰值-谷值-结束（OHLC）重新采样\n",
    "ts.resample('5min').ohlc()"
   ]
  },
  {
   "cell_type": "markdown",
   "metadata": {},
   "source": [
    "- 向上采样与插值"
   ]
  },
  {
   "cell_type": "code",
   "execution_count": 113,
   "metadata": {},
   "outputs": [],
   "source": [
    "frame =  pd.DataFrame(np.random.randn(2,4),\n",
    "                     index=pd.date_range('1/1/2000',periods=2,freq='W-WED'),\n",
    "                     columns=['colorado','texas','new york','ohio'])"
   ]
  },
  {
   "cell_type": "code",
   "execution_count": 114,
   "metadata": {},
   "outputs": [
    {
     "data": {
      "text/html": [
       "<div>\n",
       "<style scoped>\n",
       "    .dataframe tbody tr th:only-of-type {\n",
       "        vertical-align: middle;\n",
       "    }\n",
       "\n",
       "    .dataframe tbody tr th {\n",
       "        vertical-align: top;\n",
       "    }\n",
       "\n",
       "    .dataframe thead th {\n",
       "        text-align: right;\n",
       "    }\n",
       "</style>\n",
       "<table border=\"1\" class=\"dataframe\">\n",
       "  <thead>\n",
       "    <tr style=\"text-align: right;\">\n",
       "      <th></th>\n",
       "      <th>colorado</th>\n",
       "      <th>texas</th>\n",
       "      <th>new york</th>\n",
       "      <th>ohio</th>\n",
       "    </tr>\n",
       "  </thead>\n",
       "  <tbody>\n",
       "    <tr>\n",
       "      <th>2000-01-05</th>\n",
       "      <td>0.290914</td>\n",
       "      <td>0.489158</td>\n",
       "      <td>-0.410278</td>\n",
       "      <td>0.229290</td>\n",
       "    </tr>\n",
       "    <tr>\n",
       "      <th>2000-01-12</th>\n",
       "      <td>0.549411</td>\n",
       "      <td>1.646014</td>\n",
       "      <td>0.296112</td>\n",
       "      <td>-0.353988</td>\n",
       "    </tr>\n",
       "  </tbody>\n",
       "</table>\n",
       "</div>"
      ],
      "text/plain": [
       "            colorado     texas  new york      ohio\n",
       "2000-01-05  0.290914  0.489158 -0.410278  0.229290\n",
       "2000-01-12  0.549411  1.646014  0.296112 -0.353988"
      ]
     },
     "execution_count": 114,
     "metadata": {},
     "output_type": "execute_result"
    }
   ],
   "source": [
    "frame"
   ]
  },
  {
   "cell_type": "code",
   "execution_count": 115,
   "metadata": {},
   "outputs": [],
   "source": [
    "df_daily = frame.resample('D').asfreq()"
   ]
  },
  {
   "cell_type": "code",
   "execution_count": 116,
   "metadata": {},
   "outputs": [
    {
     "data": {
      "text/html": [
       "<div>\n",
       "<style scoped>\n",
       "    .dataframe tbody tr th:only-of-type {\n",
       "        vertical-align: middle;\n",
       "    }\n",
       "\n",
       "    .dataframe tbody tr th {\n",
       "        vertical-align: top;\n",
       "    }\n",
       "\n",
       "    .dataframe thead th {\n",
       "        text-align: right;\n",
       "    }\n",
       "</style>\n",
       "<table border=\"1\" class=\"dataframe\">\n",
       "  <thead>\n",
       "    <tr style=\"text-align: right;\">\n",
       "      <th></th>\n",
       "      <th>colorado</th>\n",
       "      <th>texas</th>\n",
       "      <th>new york</th>\n",
       "      <th>ohio</th>\n",
       "    </tr>\n",
       "  </thead>\n",
       "  <tbody>\n",
       "    <tr>\n",
       "      <th>2000-01-05</th>\n",
       "      <td>0.290914</td>\n",
       "      <td>0.489158</td>\n",
       "      <td>-0.410278</td>\n",
       "      <td>0.229290</td>\n",
       "    </tr>\n",
       "    <tr>\n",
       "      <th>2000-01-06</th>\n",
       "      <td>NaN</td>\n",
       "      <td>NaN</td>\n",
       "      <td>NaN</td>\n",
       "      <td>NaN</td>\n",
       "    </tr>\n",
       "    <tr>\n",
       "      <th>2000-01-07</th>\n",
       "      <td>NaN</td>\n",
       "      <td>NaN</td>\n",
       "      <td>NaN</td>\n",
       "      <td>NaN</td>\n",
       "    </tr>\n",
       "    <tr>\n",
       "      <th>2000-01-08</th>\n",
       "      <td>NaN</td>\n",
       "      <td>NaN</td>\n",
       "      <td>NaN</td>\n",
       "      <td>NaN</td>\n",
       "    </tr>\n",
       "    <tr>\n",
       "      <th>2000-01-09</th>\n",
       "      <td>NaN</td>\n",
       "      <td>NaN</td>\n",
       "      <td>NaN</td>\n",
       "      <td>NaN</td>\n",
       "    </tr>\n",
       "    <tr>\n",
       "      <th>2000-01-10</th>\n",
       "      <td>NaN</td>\n",
       "      <td>NaN</td>\n",
       "      <td>NaN</td>\n",
       "      <td>NaN</td>\n",
       "    </tr>\n",
       "    <tr>\n",
       "      <th>2000-01-11</th>\n",
       "      <td>NaN</td>\n",
       "      <td>NaN</td>\n",
       "      <td>NaN</td>\n",
       "      <td>NaN</td>\n",
       "    </tr>\n",
       "    <tr>\n",
       "      <th>2000-01-12</th>\n",
       "      <td>0.549411</td>\n",
       "      <td>1.646014</td>\n",
       "      <td>0.296112</td>\n",
       "      <td>-0.353988</td>\n",
       "    </tr>\n",
       "  </tbody>\n",
       "</table>\n",
       "</div>"
      ],
      "text/plain": [
       "            colorado     texas  new york      ohio\n",
       "2000-01-05  0.290914  0.489158 -0.410278  0.229290\n",
       "2000-01-06       NaN       NaN       NaN       NaN\n",
       "2000-01-07       NaN       NaN       NaN       NaN\n",
       "2000-01-08       NaN       NaN       NaN       NaN\n",
       "2000-01-09       NaN       NaN       NaN       NaN\n",
       "2000-01-10       NaN       NaN       NaN       NaN\n",
       "2000-01-11       NaN       NaN       NaN       NaN\n",
       "2000-01-12  0.549411  1.646014  0.296112 -0.353988"
      ]
     },
     "execution_count": 116,
     "metadata": {},
     "output_type": "execute_result"
    }
   ],
   "source": [
    "df_daily"
   ]
  },
  {
   "cell_type": "code",
   "execution_count": 117,
   "metadata": {},
   "outputs": [
    {
     "data": {
      "text/html": [
       "<div>\n",
       "<style scoped>\n",
       "    .dataframe tbody tr th:only-of-type {\n",
       "        vertical-align: middle;\n",
       "    }\n",
       "\n",
       "    .dataframe tbody tr th {\n",
       "        vertical-align: top;\n",
       "    }\n",
       "\n",
       "    .dataframe thead th {\n",
       "        text-align: right;\n",
       "    }\n",
       "</style>\n",
       "<table border=\"1\" class=\"dataframe\">\n",
       "  <thead>\n",
       "    <tr style=\"text-align: right;\">\n",
       "      <th></th>\n",
       "      <th>colorado</th>\n",
       "      <th>texas</th>\n",
       "      <th>new york</th>\n",
       "      <th>ohio</th>\n",
       "    </tr>\n",
       "  </thead>\n",
       "  <tbody>\n",
       "    <tr>\n",
       "      <th>2000-01-05</th>\n",
       "      <td>0.290914</td>\n",
       "      <td>0.489158</td>\n",
       "      <td>-0.410278</td>\n",
       "      <td>0.229290</td>\n",
       "    </tr>\n",
       "    <tr>\n",
       "      <th>2000-01-06</th>\n",
       "      <td>0.290914</td>\n",
       "      <td>0.489158</td>\n",
       "      <td>-0.410278</td>\n",
       "      <td>0.229290</td>\n",
       "    </tr>\n",
       "    <tr>\n",
       "      <th>2000-01-07</th>\n",
       "      <td>0.290914</td>\n",
       "      <td>0.489158</td>\n",
       "      <td>-0.410278</td>\n",
       "      <td>0.229290</td>\n",
       "    </tr>\n",
       "    <tr>\n",
       "      <th>2000-01-08</th>\n",
       "      <td>0.290914</td>\n",
       "      <td>0.489158</td>\n",
       "      <td>-0.410278</td>\n",
       "      <td>0.229290</td>\n",
       "    </tr>\n",
       "    <tr>\n",
       "      <th>2000-01-09</th>\n",
       "      <td>0.290914</td>\n",
       "      <td>0.489158</td>\n",
       "      <td>-0.410278</td>\n",
       "      <td>0.229290</td>\n",
       "    </tr>\n",
       "    <tr>\n",
       "      <th>2000-01-10</th>\n",
       "      <td>0.290914</td>\n",
       "      <td>0.489158</td>\n",
       "      <td>-0.410278</td>\n",
       "      <td>0.229290</td>\n",
       "    </tr>\n",
       "    <tr>\n",
       "      <th>2000-01-11</th>\n",
       "      <td>0.290914</td>\n",
       "      <td>0.489158</td>\n",
       "      <td>-0.410278</td>\n",
       "      <td>0.229290</td>\n",
       "    </tr>\n",
       "    <tr>\n",
       "      <th>2000-01-12</th>\n",
       "      <td>0.549411</td>\n",
       "      <td>1.646014</td>\n",
       "      <td>0.296112</td>\n",
       "      <td>-0.353988</td>\n",
       "    </tr>\n",
       "  </tbody>\n",
       "</table>\n",
       "</div>"
      ],
      "text/plain": [
       "            colorado     texas  new york      ohio\n",
       "2000-01-05  0.290914  0.489158 -0.410278  0.229290\n",
       "2000-01-06  0.290914  0.489158 -0.410278  0.229290\n",
       "2000-01-07  0.290914  0.489158 -0.410278  0.229290\n",
       "2000-01-08  0.290914  0.489158 -0.410278  0.229290\n",
       "2000-01-09  0.290914  0.489158 -0.410278  0.229290\n",
       "2000-01-10  0.290914  0.489158 -0.410278  0.229290\n",
       "2000-01-11  0.290914  0.489158 -0.410278  0.229290\n",
       "2000-01-12  0.549411  1.646014  0.296112 -0.353988"
      ]
     },
     "execution_count": 117,
     "metadata": {},
     "output_type": "execute_result"
    }
   ],
   "source": [
    "frame.resample('D').ffill()"
   ]
  },
  {
   "cell_type": "code",
   "execution_count": 118,
   "metadata": {},
   "outputs": [
    {
     "data": {
      "text/html": [
       "<div>\n",
       "<style scoped>\n",
       "    .dataframe tbody tr th:only-of-type {\n",
       "        vertical-align: middle;\n",
       "    }\n",
       "\n",
       "    .dataframe tbody tr th {\n",
       "        vertical-align: top;\n",
       "    }\n",
       "\n",
       "    .dataframe thead th {\n",
       "        text-align: right;\n",
       "    }\n",
       "</style>\n",
       "<table border=\"1\" class=\"dataframe\">\n",
       "  <thead>\n",
       "    <tr style=\"text-align: right;\">\n",
       "      <th></th>\n",
       "      <th>colorado</th>\n",
       "      <th>texas</th>\n",
       "      <th>new york</th>\n",
       "      <th>ohio</th>\n",
       "    </tr>\n",
       "  </thead>\n",
       "  <tbody>\n",
       "    <tr>\n",
       "      <th>2000-01-05</th>\n",
       "      <td>0.290914</td>\n",
       "      <td>0.489158</td>\n",
       "      <td>-0.410278</td>\n",
       "      <td>0.229290</td>\n",
       "    </tr>\n",
       "    <tr>\n",
       "      <th>2000-01-06</th>\n",
       "      <td>0.290914</td>\n",
       "      <td>0.489158</td>\n",
       "      <td>-0.410278</td>\n",
       "      <td>0.229290</td>\n",
       "    </tr>\n",
       "    <tr>\n",
       "      <th>2000-01-07</th>\n",
       "      <td>0.290914</td>\n",
       "      <td>0.489158</td>\n",
       "      <td>-0.410278</td>\n",
       "      <td>0.229290</td>\n",
       "    </tr>\n",
       "    <tr>\n",
       "      <th>2000-01-08</th>\n",
       "      <td>NaN</td>\n",
       "      <td>NaN</td>\n",
       "      <td>NaN</td>\n",
       "      <td>NaN</td>\n",
       "    </tr>\n",
       "    <tr>\n",
       "      <th>2000-01-09</th>\n",
       "      <td>NaN</td>\n",
       "      <td>NaN</td>\n",
       "      <td>NaN</td>\n",
       "      <td>NaN</td>\n",
       "    </tr>\n",
       "    <tr>\n",
       "      <th>2000-01-10</th>\n",
       "      <td>NaN</td>\n",
       "      <td>NaN</td>\n",
       "      <td>NaN</td>\n",
       "      <td>NaN</td>\n",
       "    </tr>\n",
       "    <tr>\n",
       "      <th>2000-01-11</th>\n",
       "      <td>NaN</td>\n",
       "      <td>NaN</td>\n",
       "      <td>NaN</td>\n",
       "      <td>NaN</td>\n",
       "    </tr>\n",
       "    <tr>\n",
       "      <th>2000-01-12</th>\n",
       "      <td>0.549411</td>\n",
       "      <td>1.646014</td>\n",
       "      <td>0.296112</td>\n",
       "      <td>-0.353988</td>\n",
       "    </tr>\n",
       "  </tbody>\n",
       "</table>\n",
       "</div>"
      ],
      "text/plain": [
       "            colorado     texas  new york      ohio\n",
       "2000-01-05  0.290914  0.489158 -0.410278  0.229290\n",
       "2000-01-06  0.290914  0.489158 -0.410278  0.229290\n",
       "2000-01-07  0.290914  0.489158 -0.410278  0.229290\n",
       "2000-01-08       NaN       NaN       NaN       NaN\n",
       "2000-01-09       NaN       NaN       NaN       NaN\n",
       "2000-01-10       NaN       NaN       NaN       NaN\n",
       "2000-01-11       NaN       NaN       NaN       NaN\n",
       "2000-01-12  0.549411  1.646014  0.296112 -0.353988"
      ]
     },
     "execution_count": 118,
     "metadata": {},
     "output_type": "execute_result"
    }
   ],
   "source": [
    "frame.resample('D').ffill(limit=2)"
   ]
  },
  {
   "cell_type": "code",
   "execution_count": 119,
   "metadata": {},
   "outputs": [
    {
     "data": {
      "text/html": [
       "<div>\n",
       "<style scoped>\n",
       "    .dataframe tbody tr th:only-of-type {\n",
       "        vertical-align: middle;\n",
       "    }\n",
       "\n",
       "    .dataframe tbody tr th {\n",
       "        vertical-align: top;\n",
       "    }\n",
       "\n",
       "    .dataframe thead th {\n",
       "        text-align: right;\n",
       "    }\n",
       "</style>\n",
       "<table border=\"1\" class=\"dataframe\">\n",
       "  <thead>\n",
       "    <tr style=\"text-align: right;\">\n",
       "      <th></th>\n",
       "      <th>colorado</th>\n",
       "      <th>texas</th>\n",
       "      <th>new york</th>\n",
       "      <th>ohio</th>\n",
       "    </tr>\n",
       "  </thead>\n",
       "  <tbody>\n",
       "    <tr>\n",
       "      <th>2000-01-06</th>\n",
       "      <td>0.290914</td>\n",
       "      <td>0.489158</td>\n",
       "      <td>-0.410278</td>\n",
       "      <td>0.229290</td>\n",
       "    </tr>\n",
       "    <tr>\n",
       "      <th>2000-01-13</th>\n",
       "      <td>0.549411</td>\n",
       "      <td>1.646014</td>\n",
       "      <td>0.296112</td>\n",
       "      <td>-0.353988</td>\n",
       "    </tr>\n",
       "  </tbody>\n",
       "</table>\n",
       "</div>"
      ],
      "text/plain": [
       "            colorado     texas  new york      ohio\n",
       "2000-01-06  0.290914  0.489158 -0.410278  0.229290\n",
       "2000-01-13  0.549411  1.646014  0.296112 -0.353988"
      ]
     },
     "execution_count": 119,
     "metadata": {},
     "output_type": "execute_result"
    }
   ],
   "source": [
    "frame.resample('W-THU').ffill()"
   ]
  },
  {
   "cell_type": "markdown",
   "metadata": {},
   "source": [
    "- 使用区间进行重新采样"
   ]
  },
  {
   "cell_type": "code",
   "execution_count": 120,
   "metadata": {},
   "outputs": [],
   "source": [
    "frame = pd.DataFrame(np.random.randn(24,4),index=pd.period_range('1-2000','12-2001',freq='M'),\n",
    "                    columns=['colorado','texas','new york','ohio'])"
   ]
  },
  {
   "cell_type": "code",
   "execution_count": 121,
   "metadata": {},
   "outputs": [
    {
     "data": {
      "text/html": [
       "<div>\n",
       "<style scoped>\n",
       "    .dataframe tbody tr th:only-of-type {\n",
       "        vertical-align: middle;\n",
       "    }\n",
       "\n",
       "    .dataframe tbody tr th {\n",
       "        vertical-align: top;\n",
       "    }\n",
       "\n",
       "    .dataframe thead th {\n",
       "        text-align: right;\n",
       "    }\n",
       "</style>\n",
       "<table border=\"1\" class=\"dataframe\">\n",
       "  <thead>\n",
       "    <tr style=\"text-align: right;\">\n",
       "      <th></th>\n",
       "      <th>colorado</th>\n",
       "      <th>texas</th>\n",
       "      <th>new york</th>\n",
       "      <th>ohio</th>\n",
       "    </tr>\n",
       "  </thead>\n",
       "  <tbody>\n",
       "    <tr>\n",
       "      <th>2000-01</th>\n",
       "      <td>0.659243</td>\n",
       "      <td>1.183066</td>\n",
       "      <td>0.098354</td>\n",
       "      <td>-1.664640</td>\n",
       "    </tr>\n",
       "    <tr>\n",
       "      <th>2000-02</th>\n",
       "      <td>-0.148069</td>\n",
       "      <td>-1.205175</td>\n",
       "      <td>0.532670</td>\n",
       "      <td>-0.685280</td>\n",
       "    </tr>\n",
       "    <tr>\n",
       "      <th>2000-03</th>\n",
       "      <td>-1.217377</td>\n",
       "      <td>-1.640572</td>\n",
       "      <td>0.494931</td>\n",
       "      <td>-0.310205</td>\n",
       "    </tr>\n",
       "    <tr>\n",
       "      <th>2000-04</th>\n",
       "      <td>1.679769</td>\n",
       "      <td>-0.656112</td>\n",
       "      <td>-0.828765</td>\n",
       "      <td>0.337189</td>\n",
       "    </tr>\n",
       "    <tr>\n",
       "      <th>2000-05</th>\n",
       "      <td>-1.512835</td>\n",
       "      <td>-0.011758</td>\n",
       "      <td>-1.141399</td>\n",
       "      <td>0.571469</td>\n",
       "    </tr>\n",
       "  </tbody>\n",
       "</table>\n",
       "</div>"
      ],
      "text/plain": [
       "         colorado     texas  new york      ohio\n",
       "2000-01  0.659243  1.183066  0.098354 -1.664640\n",
       "2000-02 -0.148069 -1.205175  0.532670 -0.685280\n",
       "2000-03 -1.217377 -1.640572  0.494931 -0.310205\n",
       "2000-04  1.679769 -0.656112 -0.828765  0.337189\n",
       "2000-05 -1.512835 -0.011758 -1.141399  0.571469"
      ]
     },
     "execution_count": 121,
     "metadata": {},
     "output_type": "execute_result"
    }
   ],
   "source": [
    "frame.head()"
   ]
  },
  {
   "cell_type": "code",
   "execution_count": 122,
   "metadata": {},
   "outputs": [],
   "source": [
    "annual_frame = frame.resample('A-DEC').mean()"
   ]
  },
  {
   "cell_type": "code",
   "execution_count": 123,
   "metadata": {},
   "outputs": [
    {
     "data": {
      "text/html": [
       "<div>\n",
       "<style scoped>\n",
       "    .dataframe tbody tr th:only-of-type {\n",
       "        vertical-align: middle;\n",
       "    }\n",
       "\n",
       "    .dataframe tbody tr th {\n",
       "        vertical-align: top;\n",
       "    }\n",
       "\n",
       "    .dataframe thead th {\n",
       "        text-align: right;\n",
       "    }\n",
       "</style>\n",
       "<table border=\"1\" class=\"dataframe\">\n",
       "  <thead>\n",
       "    <tr style=\"text-align: right;\">\n",
       "      <th></th>\n",
       "      <th>colorado</th>\n",
       "      <th>texas</th>\n",
       "      <th>new york</th>\n",
       "      <th>ohio</th>\n",
       "    </tr>\n",
       "  </thead>\n",
       "  <tbody>\n",
       "    <tr>\n",
       "      <th>2000</th>\n",
       "      <td>-0.024793</td>\n",
       "      <td>-0.460488</td>\n",
       "      <td>0.142554</td>\n",
       "      <td>-0.203986</td>\n",
       "    </tr>\n",
       "    <tr>\n",
       "      <th>2001</th>\n",
       "      <td>-0.096569</td>\n",
       "      <td>-0.052153</td>\n",
       "      <td>0.084669</td>\n",
       "      <td>0.108678</td>\n",
       "    </tr>\n",
       "  </tbody>\n",
       "</table>\n",
       "</div>"
      ],
      "text/plain": [
       "      colorado     texas  new york      ohio\n",
       "2000 -0.024793 -0.460488  0.142554 -0.203986\n",
       "2001 -0.096569 -0.052153  0.084669  0.108678"
      ]
     },
     "execution_count": 123,
     "metadata": {},
     "output_type": "execute_result"
    }
   ],
   "source": [
    "annual_frame"
   ]
  },
  {
   "cell_type": "code",
   "execution_count": 124,
   "metadata": {},
   "outputs": [
    {
     "data": {
      "text/html": [
       "<div>\n",
       "<style scoped>\n",
       "    .dataframe tbody tr th:only-of-type {\n",
       "        vertical-align: middle;\n",
       "    }\n",
       "\n",
       "    .dataframe tbody tr th {\n",
       "        vertical-align: top;\n",
       "    }\n",
       "\n",
       "    .dataframe thead th {\n",
       "        text-align: right;\n",
       "    }\n",
       "</style>\n",
       "<table border=\"1\" class=\"dataframe\">\n",
       "  <thead>\n",
       "    <tr style=\"text-align: right;\">\n",
       "      <th></th>\n",
       "      <th>colorado</th>\n",
       "      <th>texas</th>\n",
       "      <th>new york</th>\n",
       "      <th>ohio</th>\n",
       "    </tr>\n",
       "  </thead>\n",
       "  <tbody>\n",
       "    <tr>\n",
       "      <th>2000Q1</th>\n",
       "      <td>-0.024793</td>\n",
       "      <td>-0.460488</td>\n",
       "      <td>0.142554</td>\n",
       "      <td>-0.203986</td>\n",
       "    </tr>\n",
       "    <tr>\n",
       "      <th>2000Q2</th>\n",
       "      <td>-0.024793</td>\n",
       "      <td>-0.460488</td>\n",
       "      <td>0.142554</td>\n",
       "      <td>-0.203986</td>\n",
       "    </tr>\n",
       "    <tr>\n",
       "      <th>2000Q3</th>\n",
       "      <td>-0.024793</td>\n",
       "      <td>-0.460488</td>\n",
       "      <td>0.142554</td>\n",
       "      <td>-0.203986</td>\n",
       "    </tr>\n",
       "    <tr>\n",
       "      <th>2000Q4</th>\n",
       "      <td>-0.024793</td>\n",
       "      <td>-0.460488</td>\n",
       "      <td>0.142554</td>\n",
       "      <td>-0.203986</td>\n",
       "    </tr>\n",
       "    <tr>\n",
       "      <th>2001Q1</th>\n",
       "      <td>-0.096569</td>\n",
       "      <td>-0.052153</td>\n",
       "      <td>0.084669</td>\n",
       "      <td>0.108678</td>\n",
       "    </tr>\n",
       "    <tr>\n",
       "      <th>2001Q2</th>\n",
       "      <td>-0.096569</td>\n",
       "      <td>-0.052153</td>\n",
       "      <td>0.084669</td>\n",
       "      <td>0.108678</td>\n",
       "    </tr>\n",
       "    <tr>\n",
       "      <th>2001Q3</th>\n",
       "      <td>-0.096569</td>\n",
       "      <td>-0.052153</td>\n",
       "      <td>0.084669</td>\n",
       "      <td>0.108678</td>\n",
       "    </tr>\n",
       "    <tr>\n",
       "      <th>2001Q4</th>\n",
       "      <td>-0.096569</td>\n",
       "      <td>-0.052153</td>\n",
       "      <td>0.084669</td>\n",
       "      <td>0.108678</td>\n",
       "    </tr>\n",
       "  </tbody>\n",
       "</table>\n",
       "</div>"
      ],
      "text/plain": [
       "        colorado     texas  new york      ohio\n",
       "2000Q1 -0.024793 -0.460488  0.142554 -0.203986\n",
       "2000Q2 -0.024793 -0.460488  0.142554 -0.203986\n",
       "2000Q3 -0.024793 -0.460488  0.142554 -0.203986\n",
       "2000Q4 -0.024793 -0.460488  0.142554 -0.203986\n",
       "2001Q1 -0.096569 -0.052153  0.084669  0.108678\n",
       "2001Q2 -0.096569 -0.052153  0.084669  0.108678\n",
       "2001Q3 -0.096569 -0.052153  0.084669  0.108678\n",
       "2001Q4 -0.096569 -0.052153  0.084669  0.108678"
      ]
     },
     "execution_count": 124,
     "metadata": {},
     "output_type": "execute_result"
    }
   ],
   "source": [
    "annual_frame.resample('Q-DEC').ffill()"
   ]
  },
  {
   "cell_type": "code",
   "execution_count": 125,
   "metadata": {},
   "outputs": [
    {
     "data": {
      "text/html": [
       "<div>\n",
       "<style scoped>\n",
       "    .dataframe tbody tr th:only-of-type {\n",
       "        vertical-align: middle;\n",
       "    }\n",
       "\n",
       "    .dataframe tbody tr th {\n",
       "        vertical-align: top;\n",
       "    }\n",
       "\n",
       "    .dataframe thead th {\n",
       "        text-align: right;\n",
       "    }\n",
       "</style>\n",
       "<table border=\"1\" class=\"dataframe\">\n",
       "  <thead>\n",
       "    <tr style=\"text-align: right;\">\n",
       "      <th></th>\n",
       "      <th>colorado</th>\n",
       "      <th>texas</th>\n",
       "      <th>new york</th>\n",
       "      <th>ohio</th>\n",
       "    </tr>\n",
       "  </thead>\n",
       "  <tbody>\n",
       "    <tr>\n",
       "      <th>2000Q4</th>\n",
       "      <td>-0.024793</td>\n",
       "      <td>-0.460488</td>\n",
       "      <td>0.142554</td>\n",
       "      <td>-0.203986</td>\n",
       "    </tr>\n",
       "    <tr>\n",
       "      <th>2001Q1</th>\n",
       "      <td>-0.024793</td>\n",
       "      <td>-0.460488</td>\n",
       "      <td>0.142554</td>\n",
       "      <td>-0.203986</td>\n",
       "    </tr>\n",
       "    <tr>\n",
       "      <th>2001Q2</th>\n",
       "      <td>-0.024793</td>\n",
       "      <td>-0.460488</td>\n",
       "      <td>0.142554</td>\n",
       "      <td>-0.203986</td>\n",
       "    </tr>\n",
       "    <tr>\n",
       "      <th>2001Q3</th>\n",
       "      <td>-0.024793</td>\n",
       "      <td>-0.460488</td>\n",
       "      <td>0.142554</td>\n",
       "      <td>-0.203986</td>\n",
       "    </tr>\n",
       "    <tr>\n",
       "      <th>2001Q4</th>\n",
       "      <td>-0.096569</td>\n",
       "      <td>-0.052153</td>\n",
       "      <td>0.084669</td>\n",
       "      <td>0.108678</td>\n",
       "    </tr>\n",
       "  </tbody>\n",
       "</table>\n",
       "</div>"
      ],
      "text/plain": [
       "        colorado     texas  new york      ohio\n",
       "2000Q4 -0.024793 -0.460488  0.142554 -0.203986\n",
       "2001Q1 -0.024793 -0.460488  0.142554 -0.203986\n",
       "2001Q2 -0.024793 -0.460488  0.142554 -0.203986\n",
       "2001Q3 -0.024793 -0.460488  0.142554 -0.203986\n",
       "2001Q4 -0.096569 -0.052153  0.084669  0.108678"
      ]
     },
     "execution_count": 125,
     "metadata": {},
     "output_type": "execute_result"
    }
   ],
   "source": [
    "annual_frame.resample('Q-DEC',convention='end').ffill()"
   ]
  },
  {
   "cell_type": "markdown",
   "metadata": {},
   "source": [
    "## 移动窗口函数"
   ]
  },
  {
   "cell_type": "code",
   "execution_count": 131,
   "metadata": {},
   "outputs": [],
   "source": [
    "close_px_all = pd.read_csv('stock_px_2.csv',parse_dates=True,index_col=0)"
   ]
  },
  {
   "cell_type": "code",
   "execution_count": 128,
   "metadata": {},
   "outputs": [
    {
     "data": {
      "text/html": [
       "<div>\n",
       "<style scoped>\n",
       "    .dataframe tbody tr th:only-of-type {\n",
       "        vertical-align: middle;\n",
       "    }\n",
       "\n",
       "    .dataframe tbody tr th {\n",
       "        vertical-align: top;\n",
       "    }\n",
       "\n",
       "    .dataframe thead th {\n",
       "        text-align: right;\n",
       "    }\n",
       "</style>\n",
       "<table border=\"1\" class=\"dataframe\">\n",
       "  <thead>\n",
       "    <tr style=\"text-align: right;\">\n",
       "      <th></th>\n",
       "      <th>AAPL</th>\n",
       "      <th>MSFT</th>\n",
       "      <th>XOM</th>\n",
       "      <th>SPX</th>\n",
       "    </tr>\n",
       "  </thead>\n",
       "  <tbody>\n",
       "    <tr>\n",
       "      <th>2003-01-02</th>\n",
       "      <td>7.40</td>\n",
       "      <td>21.11</td>\n",
       "      <td>29.22</td>\n",
       "      <td>909.03</td>\n",
       "    </tr>\n",
       "    <tr>\n",
       "      <th>2003-01-03</th>\n",
       "      <td>7.45</td>\n",
       "      <td>21.14</td>\n",
       "      <td>29.24</td>\n",
       "      <td>908.59</td>\n",
       "    </tr>\n",
       "    <tr>\n",
       "      <th>2003-01-06</th>\n",
       "      <td>7.45</td>\n",
       "      <td>21.52</td>\n",
       "      <td>29.96</td>\n",
       "      <td>929.01</td>\n",
       "    </tr>\n",
       "  </tbody>\n",
       "</table>\n",
       "</div>"
      ],
      "text/plain": [
       "            AAPL   MSFT    XOM     SPX\n",
       "2003-01-02  7.40  21.11  29.22  909.03\n",
       "2003-01-03  7.45  21.14  29.24  908.59\n",
       "2003-01-06  7.45  21.52  29.96  929.01"
      ]
     },
     "execution_count": 128,
     "metadata": {},
     "output_type": "execute_result"
    }
   ],
   "source": [
    "close_px_all.head(3)"
   ]
  },
  {
   "cell_type": "code",
   "execution_count": 132,
   "metadata": {},
   "outputs": [],
   "source": [
    "close_px = close_px_all[['AAPL','MSFT','XOM']]"
   ]
  },
  {
   "cell_type": "code",
   "execution_count": 133,
   "metadata": {},
   "outputs": [
    {
     "data": {
      "text/html": [
       "<div>\n",
       "<style scoped>\n",
       "    .dataframe tbody tr th:only-of-type {\n",
       "        vertical-align: middle;\n",
       "    }\n",
       "\n",
       "    .dataframe tbody tr th {\n",
       "        vertical-align: top;\n",
       "    }\n",
       "\n",
       "    .dataframe thead th {\n",
       "        text-align: right;\n",
       "    }\n",
       "</style>\n",
       "<table border=\"1\" class=\"dataframe\">\n",
       "  <thead>\n",
       "    <tr style=\"text-align: right;\">\n",
       "      <th></th>\n",
       "      <th>AAPL</th>\n",
       "      <th>MSFT</th>\n",
       "      <th>XOM</th>\n",
       "    </tr>\n",
       "  </thead>\n",
       "  <tbody>\n",
       "    <tr>\n",
       "      <th>2003-01-02</th>\n",
       "      <td>7.40</td>\n",
       "      <td>21.11</td>\n",
       "      <td>29.22</td>\n",
       "    </tr>\n",
       "    <tr>\n",
       "      <th>2003-01-03</th>\n",
       "      <td>7.45</td>\n",
       "      <td>21.14</td>\n",
       "      <td>29.24</td>\n",
       "    </tr>\n",
       "    <tr>\n",
       "      <th>2003-01-06</th>\n",
       "      <td>7.45</td>\n",
       "      <td>21.52</td>\n",
       "      <td>29.96</td>\n",
       "    </tr>\n",
       "  </tbody>\n",
       "</table>\n",
       "</div>"
      ],
      "text/plain": [
       "            AAPL   MSFT    XOM\n",
       "2003-01-02  7.40  21.11  29.22\n",
       "2003-01-03  7.45  21.14  29.24\n",
       "2003-01-06  7.45  21.52  29.96"
      ]
     },
     "execution_count": 133,
     "metadata": {},
     "output_type": "execute_result"
    }
   ],
   "source": [
    "close_px.head(3)"
   ]
  },
  {
   "cell_type": "code",
   "execution_count": 134,
   "metadata": {},
   "outputs": [],
   "source": [
    "close_px = close_px.resample('B').ffill()"
   ]
  },
  {
   "cell_type": "code",
   "execution_count": 140,
   "metadata": {},
   "outputs": [],
   "source": [
    "import matplotlib.pyplot as plt\n",
    "%matplotlib notebook"
   ]
  },
  {
   "cell_type": "code",
   "execution_count": 145,
   "metadata": {},
   "outputs": [
    {
     "data": {
      "application/javascript": [
       "/* Put everything inside the global mpl namespace */\n",
       "window.mpl = {};\n",
       "\n",
       "\n",
       "mpl.get_websocket_type = function() {\n",
       "    if (typeof(WebSocket) !== 'undefined') {\n",
       "        return WebSocket;\n",
       "    } else if (typeof(MozWebSocket) !== 'undefined') {\n",
       "        return MozWebSocket;\n",
       "    } else {\n",
       "        alert('Your browser does not have WebSocket support.' +\n",
       "              'Please try Chrome, Safari or Firefox ≥ 6. ' +\n",
       "              'Firefox 4 and 5 are also supported but you ' +\n",
       "              'have to enable WebSockets in about:config.');\n",
       "    };\n",
       "}\n",
       "\n",
       "mpl.figure = function(figure_id, websocket, ondownload, parent_element) {\n",
       "    this.id = figure_id;\n",
       "\n",
       "    this.ws = websocket;\n",
       "\n",
       "    this.supports_binary = (this.ws.binaryType != undefined);\n",
       "\n",
       "    if (!this.supports_binary) {\n",
       "        var warnings = document.getElementById(\"mpl-warnings\");\n",
       "        if (warnings) {\n",
       "            warnings.style.display = 'block';\n",
       "            warnings.textContent = (\n",
       "                \"This browser does not support binary websocket messages. \" +\n",
       "                    \"Performance may be slow.\");\n",
       "        }\n",
       "    }\n",
       "\n",
       "    this.imageObj = new Image();\n",
       "\n",
       "    this.context = undefined;\n",
       "    this.message = undefined;\n",
       "    this.canvas = undefined;\n",
       "    this.rubberband_canvas = undefined;\n",
       "    this.rubberband_context = undefined;\n",
       "    this.format_dropdown = undefined;\n",
       "\n",
       "    this.image_mode = 'full';\n",
       "\n",
       "    this.root = $('<div/>');\n",
       "    this._root_extra_style(this.root)\n",
       "    this.root.attr('style', 'display: inline-block');\n",
       "\n",
       "    $(parent_element).append(this.root);\n",
       "\n",
       "    this._init_header(this);\n",
       "    this._init_canvas(this);\n",
       "    this._init_toolbar(this);\n",
       "\n",
       "    var fig = this;\n",
       "\n",
       "    this.waiting = false;\n",
       "\n",
       "    this.ws.onopen =  function () {\n",
       "            fig.send_message(\"supports_binary\", {value: fig.supports_binary});\n",
       "            fig.send_message(\"send_image_mode\", {});\n",
       "            if (mpl.ratio != 1) {\n",
       "                fig.send_message(\"set_dpi_ratio\", {'dpi_ratio': mpl.ratio});\n",
       "            }\n",
       "            fig.send_message(\"refresh\", {});\n",
       "        }\n",
       "\n",
       "    this.imageObj.onload = function() {\n",
       "            if (fig.image_mode == 'full') {\n",
       "                // Full images could contain transparency (where diff images\n",
       "                // almost always do), so we need to clear the canvas so that\n",
       "                // there is no ghosting.\n",
       "                fig.context.clearRect(0, 0, fig.canvas.width, fig.canvas.height);\n",
       "            }\n",
       "            fig.context.drawImage(fig.imageObj, 0, 0);\n",
       "        };\n",
       "\n",
       "    this.imageObj.onunload = function() {\n",
       "        fig.ws.close();\n",
       "    }\n",
       "\n",
       "    this.ws.onmessage = this._make_on_message_function(this);\n",
       "\n",
       "    this.ondownload = ondownload;\n",
       "}\n",
       "\n",
       "mpl.figure.prototype._init_header = function() {\n",
       "    var titlebar = $(\n",
       "        '<div class=\"ui-dialog-titlebar ui-widget-header ui-corner-all ' +\n",
       "        'ui-helper-clearfix\"/>');\n",
       "    var titletext = $(\n",
       "        '<div class=\"ui-dialog-title\" style=\"width: 100%; ' +\n",
       "        'text-align: center; padding: 3px;\"/>');\n",
       "    titlebar.append(titletext)\n",
       "    this.root.append(titlebar);\n",
       "    this.header = titletext[0];\n",
       "}\n",
       "\n",
       "\n",
       "\n",
       "mpl.figure.prototype._canvas_extra_style = function(canvas_div) {\n",
       "\n",
       "}\n",
       "\n",
       "\n",
       "mpl.figure.prototype._root_extra_style = function(canvas_div) {\n",
       "\n",
       "}\n",
       "\n",
       "mpl.figure.prototype._init_canvas = function() {\n",
       "    var fig = this;\n",
       "\n",
       "    var canvas_div = $('<div/>');\n",
       "\n",
       "    canvas_div.attr('style', 'position: relative; clear: both; outline: 0');\n",
       "\n",
       "    function canvas_keyboard_event(event) {\n",
       "        return fig.key_event(event, event['data']);\n",
       "    }\n",
       "\n",
       "    canvas_div.keydown('key_press', canvas_keyboard_event);\n",
       "    canvas_div.keyup('key_release', canvas_keyboard_event);\n",
       "    this.canvas_div = canvas_div\n",
       "    this._canvas_extra_style(canvas_div)\n",
       "    this.root.append(canvas_div);\n",
       "\n",
       "    var canvas = $('<canvas/>');\n",
       "    canvas.addClass('mpl-canvas');\n",
       "    canvas.attr('style', \"left: 0; top: 0; z-index: 0; outline: 0\")\n",
       "\n",
       "    this.canvas = canvas[0];\n",
       "    this.context = canvas[0].getContext(\"2d\");\n",
       "\n",
       "    var backingStore = this.context.backingStorePixelRatio ||\n",
       "\tthis.context.webkitBackingStorePixelRatio ||\n",
       "\tthis.context.mozBackingStorePixelRatio ||\n",
       "\tthis.context.msBackingStorePixelRatio ||\n",
       "\tthis.context.oBackingStorePixelRatio ||\n",
       "\tthis.context.backingStorePixelRatio || 1;\n",
       "\n",
       "    mpl.ratio = (window.devicePixelRatio || 1) / backingStore;\n",
       "\n",
       "    var rubberband = $('<canvas/>');\n",
       "    rubberband.attr('style', \"position: absolute; left: 0; top: 0; z-index: 1;\")\n",
       "\n",
       "    var pass_mouse_events = true;\n",
       "\n",
       "    canvas_div.resizable({\n",
       "        start: function(event, ui) {\n",
       "            pass_mouse_events = false;\n",
       "        },\n",
       "        resize: function(event, ui) {\n",
       "            fig.request_resize(ui.size.width, ui.size.height);\n",
       "        },\n",
       "        stop: function(event, ui) {\n",
       "            pass_mouse_events = true;\n",
       "            fig.request_resize(ui.size.width, ui.size.height);\n",
       "        },\n",
       "    });\n",
       "\n",
       "    function mouse_event_fn(event) {\n",
       "        if (pass_mouse_events)\n",
       "            return fig.mouse_event(event, event['data']);\n",
       "    }\n",
       "\n",
       "    rubberband.mousedown('button_press', mouse_event_fn);\n",
       "    rubberband.mouseup('button_release', mouse_event_fn);\n",
       "    // Throttle sequential mouse events to 1 every 20ms.\n",
       "    rubberband.mousemove('motion_notify', mouse_event_fn);\n",
       "\n",
       "    rubberband.mouseenter('figure_enter', mouse_event_fn);\n",
       "    rubberband.mouseleave('figure_leave', mouse_event_fn);\n",
       "\n",
       "    canvas_div.on(\"wheel\", function (event) {\n",
       "        event = event.originalEvent;\n",
       "        event['data'] = 'scroll'\n",
       "        if (event.deltaY < 0) {\n",
       "            event.step = 1;\n",
       "        } else {\n",
       "            event.step = -1;\n",
       "        }\n",
       "        mouse_event_fn(event);\n",
       "    });\n",
       "\n",
       "    canvas_div.append(canvas);\n",
       "    canvas_div.append(rubberband);\n",
       "\n",
       "    this.rubberband = rubberband;\n",
       "    this.rubberband_canvas = rubberband[0];\n",
       "    this.rubberband_context = rubberband[0].getContext(\"2d\");\n",
       "    this.rubberband_context.strokeStyle = \"#000000\";\n",
       "\n",
       "    this._resize_canvas = function(width, height) {\n",
       "        // Keep the size of the canvas, canvas container, and rubber band\n",
       "        // canvas in synch.\n",
       "        canvas_div.css('width', width)\n",
       "        canvas_div.css('height', height)\n",
       "\n",
       "        canvas.attr('width', width * mpl.ratio);\n",
       "        canvas.attr('height', height * mpl.ratio);\n",
       "        canvas.attr('style', 'width: ' + width + 'px; height: ' + height + 'px;');\n",
       "\n",
       "        rubberband.attr('width', width);\n",
       "        rubberband.attr('height', height);\n",
       "    }\n",
       "\n",
       "    // Set the figure to an initial 600x600px, this will subsequently be updated\n",
       "    // upon first draw.\n",
       "    this._resize_canvas(600, 600);\n",
       "\n",
       "    // Disable right mouse context menu.\n",
       "    $(this.rubberband_canvas).bind(\"contextmenu\",function(e){\n",
       "        return false;\n",
       "    });\n",
       "\n",
       "    function set_focus () {\n",
       "        canvas.focus();\n",
       "        canvas_div.focus();\n",
       "    }\n",
       "\n",
       "    window.setTimeout(set_focus, 100);\n",
       "}\n",
       "\n",
       "mpl.figure.prototype._init_toolbar = function() {\n",
       "    var fig = this;\n",
       "\n",
       "    var nav_element = $('<div/>')\n",
       "    nav_element.attr('style', 'width: 100%');\n",
       "    this.root.append(nav_element);\n",
       "\n",
       "    // Define a callback function for later on.\n",
       "    function toolbar_event(event) {\n",
       "        return fig.toolbar_button_onclick(event['data']);\n",
       "    }\n",
       "    function toolbar_mouse_event(event) {\n",
       "        return fig.toolbar_button_onmouseover(event['data']);\n",
       "    }\n",
       "\n",
       "    for(var toolbar_ind in mpl.toolbar_items) {\n",
       "        var name = mpl.toolbar_items[toolbar_ind][0];\n",
       "        var tooltip = mpl.toolbar_items[toolbar_ind][1];\n",
       "        var image = mpl.toolbar_items[toolbar_ind][2];\n",
       "        var method_name = mpl.toolbar_items[toolbar_ind][3];\n",
       "\n",
       "        if (!name) {\n",
       "            // put a spacer in here.\n",
       "            continue;\n",
       "        }\n",
       "        var button = $('<button/>');\n",
       "        button.addClass('ui-button ui-widget ui-state-default ui-corner-all ' +\n",
       "                        'ui-button-icon-only');\n",
       "        button.attr('role', 'button');\n",
       "        button.attr('aria-disabled', 'false');\n",
       "        button.click(method_name, toolbar_event);\n",
       "        button.mouseover(tooltip, toolbar_mouse_event);\n",
       "\n",
       "        var icon_img = $('<span/>');\n",
       "        icon_img.addClass('ui-button-icon-primary ui-icon');\n",
       "        icon_img.addClass(image);\n",
       "        icon_img.addClass('ui-corner-all');\n",
       "\n",
       "        var tooltip_span = $('<span/>');\n",
       "        tooltip_span.addClass('ui-button-text');\n",
       "        tooltip_span.html(tooltip);\n",
       "\n",
       "        button.append(icon_img);\n",
       "        button.append(tooltip_span);\n",
       "\n",
       "        nav_element.append(button);\n",
       "    }\n",
       "\n",
       "    var fmt_picker_span = $('<span/>');\n",
       "\n",
       "    var fmt_picker = $('<select/>');\n",
       "    fmt_picker.addClass('mpl-toolbar-option ui-widget ui-widget-content');\n",
       "    fmt_picker_span.append(fmt_picker);\n",
       "    nav_element.append(fmt_picker_span);\n",
       "    this.format_dropdown = fmt_picker[0];\n",
       "\n",
       "    for (var ind in mpl.extensions) {\n",
       "        var fmt = mpl.extensions[ind];\n",
       "        var option = $(\n",
       "            '<option/>', {selected: fmt === mpl.default_extension}).html(fmt);\n",
       "        fmt_picker.append(option)\n",
       "    }\n",
       "\n",
       "    // Add hover states to the ui-buttons\n",
       "    $( \".ui-button\" ).hover(\n",
       "        function() { $(this).addClass(\"ui-state-hover\");},\n",
       "        function() { $(this).removeClass(\"ui-state-hover\");}\n",
       "    );\n",
       "\n",
       "    var status_bar = $('<span class=\"mpl-message\"/>');\n",
       "    nav_element.append(status_bar);\n",
       "    this.message = status_bar[0];\n",
       "}\n",
       "\n",
       "mpl.figure.prototype.request_resize = function(x_pixels, y_pixels) {\n",
       "    // Request matplotlib to resize the figure. Matplotlib will then trigger a resize in the client,\n",
       "    // which will in turn request a refresh of the image.\n",
       "    this.send_message('resize', {'width': x_pixels, 'height': y_pixels});\n",
       "}\n",
       "\n",
       "mpl.figure.prototype.send_message = function(type, properties) {\n",
       "    properties['type'] = type;\n",
       "    properties['figure_id'] = this.id;\n",
       "    this.ws.send(JSON.stringify(properties));\n",
       "}\n",
       "\n",
       "mpl.figure.prototype.send_draw_message = function() {\n",
       "    if (!this.waiting) {\n",
       "        this.waiting = true;\n",
       "        this.ws.send(JSON.stringify({type: \"draw\", figure_id: this.id}));\n",
       "    }\n",
       "}\n",
       "\n",
       "\n",
       "mpl.figure.prototype.handle_save = function(fig, msg) {\n",
       "    var format_dropdown = fig.format_dropdown;\n",
       "    var format = format_dropdown.options[format_dropdown.selectedIndex].value;\n",
       "    fig.ondownload(fig, format);\n",
       "}\n",
       "\n",
       "\n",
       "mpl.figure.prototype.handle_resize = function(fig, msg) {\n",
       "    var size = msg['size'];\n",
       "    if (size[0] != fig.canvas.width || size[1] != fig.canvas.height) {\n",
       "        fig._resize_canvas(size[0], size[1]);\n",
       "        fig.send_message(\"refresh\", {});\n",
       "    };\n",
       "}\n",
       "\n",
       "mpl.figure.prototype.handle_rubberband = function(fig, msg) {\n",
       "    var x0 = msg['x0'] / mpl.ratio;\n",
       "    var y0 = (fig.canvas.height - msg['y0']) / mpl.ratio;\n",
       "    var x1 = msg['x1'] / mpl.ratio;\n",
       "    var y1 = (fig.canvas.height - msg['y1']) / mpl.ratio;\n",
       "    x0 = Math.floor(x0) + 0.5;\n",
       "    y0 = Math.floor(y0) + 0.5;\n",
       "    x1 = Math.floor(x1) + 0.5;\n",
       "    y1 = Math.floor(y1) + 0.5;\n",
       "    var min_x = Math.min(x0, x1);\n",
       "    var min_y = Math.min(y0, y1);\n",
       "    var width = Math.abs(x1 - x0);\n",
       "    var height = Math.abs(y1 - y0);\n",
       "\n",
       "    fig.rubberband_context.clearRect(\n",
       "        0, 0, fig.canvas.width, fig.canvas.height);\n",
       "\n",
       "    fig.rubberband_context.strokeRect(min_x, min_y, width, height);\n",
       "}\n",
       "\n",
       "mpl.figure.prototype.handle_figure_label = function(fig, msg) {\n",
       "    // Updates the figure title.\n",
       "    fig.header.textContent = msg['label'];\n",
       "}\n",
       "\n",
       "mpl.figure.prototype.handle_cursor = function(fig, msg) {\n",
       "    var cursor = msg['cursor'];\n",
       "    switch(cursor)\n",
       "    {\n",
       "    case 0:\n",
       "        cursor = 'pointer';\n",
       "        break;\n",
       "    case 1:\n",
       "        cursor = 'default';\n",
       "        break;\n",
       "    case 2:\n",
       "        cursor = 'crosshair';\n",
       "        break;\n",
       "    case 3:\n",
       "        cursor = 'move';\n",
       "        break;\n",
       "    }\n",
       "    fig.rubberband_canvas.style.cursor = cursor;\n",
       "}\n",
       "\n",
       "mpl.figure.prototype.handle_message = function(fig, msg) {\n",
       "    fig.message.textContent = msg['message'];\n",
       "}\n",
       "\n",
       "mpl.figure.prototype.handle_draw = function(fig, msg) {\n",
       "    // Request the server to send over a new figure.\n",
       "    fig.send_draw_message();\n",
       "}\n",
       "\n",
       "mpl.figure.prototype.handle_image_mode = function(fig, msg) {\n",
       "    fig.image_mode = msg['mode'];\n",
       "}\n",
       "\n",
       "mpl.figure.prototype.updated_canvas_event = function() {\n",
       "    // Called whenever the canvas gets updated.\n",
       "    this.send_message(\"ack\", {});\n",
       "}\n",
       "\n",
       "// A function to construct a web socket function for onmessage handling.\n",
       "// Called in the figure constructor.\n",
       "mpl.figure.prototype._make_on_message_function = function(fig) {\n",
       "    return function socket_on_message(evt) {\n",
       "        if (evt.data instanceof Blob) {\n",
       "            /* FIXME: We get \"Resource interpreted as Image but\n",
       "             * transferred with MIME type text/plain:\" errors on\n",
       "             * Chrome.  But how to set the MIME type?  It doesn't seem\n",
       "             * to be part of the websocket stream */\n",
       "            evt.data.type = \"image/png\";\n",
       "\n",
       "            /* Free the memory for the previous frames */\n",
       "            if (fig.imageObj.src) {\n",
       "                (window.URL || window.webkitURL).revokeObjectURL(\n",
       "                    fig.imageObj.src);\n",
       "            }\n",
       "\n",
       "            fig.imageObj.src = (window.URL || window.webkitURL).createObjectURL(\n",
       "                evt.data);\n",
       "            fig.updated_canvas_event();\n",
       "            fig.waiting = false;\n",
       "            return;\n",
       "        }\n",
       "        else if (typeof evt.data === 'string' && evt.data.slice(0, 21) == \"data:image/png;base64\") {\n",
       "            fig.imageObj.src = evt.data;\n",
       "            fig.updated_canvas_event();\n",
       "            fig.waiting = false;\n",
       "            return;\n",
       "        }\n",
       "\n",
       "        var msg = JSON.parse(evt.data);\n",
       "        var msg_type = msg['type'];\n",
       "\n",
       "        // Call the  \"handle_{type}\" callback, which takes\n",
       "        // the figure and JSON message as its only arguments.\n",
       "        try {\n",
       "            var callback = fig[\"handle_\" + msg_type];\n",
       "        } catch (e) {\n",
       "            console.log(\"No handler for the '\" + msg_type + \"' message type: \", msg);\n",
       "            return;\n",
       "        }\n",
       "\n",
       "        if (callback) {\n",
       "            try {\n",
       "                // console.log(\"Handling '\" + msg_type + \"' message: \", msg);\n",
       "                callback(fig, msg);\n",
       "            } catch (e) {\n",
       "                console.log(\"Exception inside the 'handler_\" + msg_type + \"' callback:\", e, e.stack, msg);\n",
       "            }\n",
       "        }\n",
       "    };\n",
       "}\n",
       "\n",
       "// from http://stackoverflow.com/questions/1114465/getting-mouse-location-in-canvas\n",
       "mpl.findpos = function(e) {\n",
       "    //this section is from http://www.quirksmode.org/js/events_properties.html\n",
       "    var targ;\n",
       "    if (!e)\n",
       "        e = window.event;\n",
       "    if (e.target)\n",
       "        targ = e.target;\n",
       "    else if (e.srcElement)\n",
       "        targ = e.srcElement;\n",
       "    if (targ.nodeType == 3) // defeat Safari bug\n",
       "        targ = targ.parentNode;\n",
       "\n",
       "    // jQuery normalizes the pageX and pageY\n",
       "    // pageX,Y are the mouse positions relative to the document\n",
       "    // offset() returns the position of the element relative to the document\n",
       "    var x = e.pageX - $(targ).offset().left;\n",
       "    var y = e.pageY - $(targ).offset().top;\n",
       "\n",
       "    return {\"x\": x, \"y\": y};\n",
       "};\n",
       "\n",
       "/*\n",
       " * return a copy of an object with only non-object keys\n",
       " * we need this to avoid circular references\n",
       " * http://stackoverflow.com/a/24161582/3208463\n",
       " */\n",
       "function simpleKeys (original) {\n",
       "  return Object.keys(original).reduce(function (obj, key) {\n",
       "    if (typeof original[key] !== 'object')\n",
       "        obj[key] = original[key]\n",
       "    return obj;\n",
       "  }, {});\n",
       "}\n",
       "\n",
       "mpl.figure.prototype.mouse_event = function(event, name) {\n",
       "    var canvas_pos = mpl.findpos(event)\n",
       "\n",
       "    if (name === 'button_press')\n",
       "    {\n",
       "        this.canvas.focus();\n",
       "        this.canvas_div.focus();\n",
       "    }\n",
       "\n",
       "    var x = canvas_pos.x * mpl.ratio;\n",
       "    var y = canvas_pos.y * mpl.ratio;\n",
       "\n",
       "    this.send_message(name, {x: x, y: y, button: event.button,\n",
       "                             step: event.step,\n",
       "                             guiEvent: simpleKeys(event)});\n",
       "\n",
       "    /* This prevents the web browser from automatically changing to\n",
       "     * the text insertion cursor when the button is pressed.  We want\n",
       "     * to control all of the cursor setting manually through the\n",
       "     * 'cursor' event from matplotlib */\n",
       "    event.preventDefault();\n",
       "    return false;\n",
       "}\n",
       "\n",
       "mpl.figure.prototype._key_event_extra = function(event, name) {\n",
       "    // Handle any extra behaviour associated with a key event\n",
       "}\n",
       "\n",
       "mpl.figure.prototype.key_event = function(event, name) {\n",
       "\n",
       "    // Prevent repeat events\n",
       "    if (name == 'key_press')\n",
       "    {\n",
       "        if (event.which === this._key)\n",
       "            return;\n",
       "        else\n",
       "            this._key = event.which;\n",
       "    }\n",
       "    if (name == 'key_release')\n",
       "        this._key = null;\n",
       "\n",
       "    var value = '';\n",
       "    if (event.ctrlKey && event.which != 17)\n",
       "        value += \"ctrl+\";\n",
       "    if (event.altKey && event.which != 18)\n",
       "        value += \"alt+\";\n",
       "    if (event.shiftKey && event.which != 16)\n",
       "        value += \"shift+\";\n",
       "\n",
       "    value += 'k';\n",
       "    value += event.which.toString();\n",
       "\n",
       "    this._key_event_extra(event, name);\n",
       "\n",
       "    this.send_message(name, {key: value,\n",
       "                             guiEvent: simpleKeys(event)});\n",
       "    return false;\n",
       "}\n",
       "\n",
       "mpl.figure.prototype.toolbar_button_onclick = function(name) {\n",
       "    if (name == 'download') {\n",
       "        this.handle_save(this, null);\n",
       "    } else {\n",
       "        this.send_message(\"toolbar_button\", {name: name});\n",
       "    }\n",
       "};\n",
       "\n",
       "mpl.figure.prototype.toolbar_button_onmouseover = function(tooltip) {\n",
       "    this.message.textContent = tooltip;\n",
       "};\n",
       "mpl.toolbar_items = [[\"Home\", \"Reset original view\", \"fa fa-home icon-home\", \"home\"], [\"Back\", \"Back to previous view\", \"fa fa-arrow-left icon-arrow-left\", \"back\"], [\"Forward\", \"Forward to next view\", \"fa fa-arrow-right icon-arrow-right\", \"forward\"], [\"\", \"\", \"\", \"\"], [\"Pan\", \"Pan axes with left mouse, zoom with right\", \"fa fa-arrows icon-move\", \"pan\"], [\"Zoom\", \"Zoom to rectangle\", \"fa fa-square-o icon-check-empty\", \"zoom\"], [\"\", \"\", \"\", \"\"], [\"Download\", \"Download plot\", \"fa fa-floppy-o icon-save\", \"download\"]];\n",
       "\n",
       "mpl.extensions = [\"eps\", \"jpeg\", \"pdf\", \"png\", \"ps\", \"raw\", \"svg\", \"tif\"];\n",
       "\n",
       "mpl.default_extension = \"png\";var comm_websocket_adapter = function(comm) {\n",
       "    // Create a \"websocket\"-like object which calls the given IPython comm\n",
       "    // object with the appropriate methods. Currently this is a non binary\n",
       "    // socket, so there is still some room for performance tuning.\n",
       "    var ws = {};\n",
       "\n",
       "    ws.close = function() {\n",
       "        comm.close()\n",
       "    };\n",
       "    ws.send = function(m) {\n",
       "        //console.log('sending', m);\n",
       "        comm.send(m);\n",
       "    };\n",
       "    // Register the callback with on_msg.\n",
       "    comm.on_msg(function(msg) {\n",
       "        //console.log('receiving', msg['content']['data'], msg);\n",
       "        // Pass the mpl event to the overridden (by mpl) onmessage function.\n",
       "        ws.onmessage(msg['content']['data'])\n",
       "    });\n",
       "    return ws;\n",
       "}\n",
       "\n",
       "mpl.mpl_figure_comm = function(comm, msg) {\n",
       "    // This is the function which gets called when the mpl process\n",
       "    // starts-up an IPython Comm through the \"matplotlib\" channel.\n",
       "\n",
       "    var id = msg.content.data.id;\n",
       "    // Get hold of the div created by the display call when the Comm\n",
       "    // socket was opened in Python.\n",
       "    var element = $(\"#\" + id);\n",
       "    var ws_proxy = comm_websocket_adapter(comm)\n",
       "\n",
       "    function ondownload(figure, format) {\n",
       "        window.open(figure.imageObj.src);\n",
       "    }\n",
       "\n",
       "    var fig = new mpl.figure(id, ws_proxy,\n",
       "                           ondownload,\n",
       "                           element.get(0));\n",
       "\n",
       "    // Call onopen now - mpl needs it, as it is assuming we've passed it a real\n",
       "    // web socket which is closed, not our websocket->open comm proxy.\n",
       "    ws_proxy.onopen();\n",
       "\n",
       "    fig.parent_element = element.get(0);\n",
       "    fig.cell_info = mpl.find_output_cell(\"<div id='\" + id + \"'></div>\");\n",
       "    if (!fig.cell_info) {\n",
       "        console.error(\"Failed to find cell for figure\", id, fig);\n",
       "        return;\n",
       "    }\n",
       "\n",
       "    var output_index = fig.cell_info[2]\n",
       "    var cell = fig.cell_info[0];\n",
       "\n",
       "};\n",
       "\n",
       "mpl.figure.prototype.handle_close = function(fig, msg) {\n",
       "    var width = fig.canvas.width/mpl.ratio\n",
       "    fig.root.unbind('remove')\n",
       "\n",
       "    // Update the output cell to use the data from the current canvas.\n",
       "    fig.push_to_output();\n",
       "    var dataURL = fig.canvas.toDataURL();\n",
       "    // Re-enable the keyboard manager in IPython - without this line, in FF,\n",
       "    // the notebook keyboard shortcuts fail.\n",
       "    IPython.keyboard_manager.enable()\n",
       "    $(fig.parent_element).html('<img src=\"' + dataURL + '\" width=\"' + width + '\">');\n",
       "    fig.close_ws(fig, msg);\n",
       "}\n",
       "\n",
       "mpl.figure.prototype.close_ws = function(fig, msg){\n",
       "    fig.send_message('closing', msg);\n",
       "    // fig.ws.close()\n",
       "}\n",
       "\n",
       "mpl.figure.prototype.push_to_output = function(remove_interactive) {\n",
       "    // Turn the data on the canvas into data in the output cell.\n",
       "    var width = this.canvas.width/mpl.ratio\n",
       "    var dataURL = this.canvas.toDataURL();\n",
       "    this.cell_info[1]['text/html'] = '<img src=\"' + dataURL + '\" width=\"' + width + '\">';\n",
       "}\n",
       "\n",
       "mpl.figure.prototype.updated_canvas_event = function() {\n",
       "    // Tell IPython that the notebook contents must change.\n",
       "    IPython.notebook.set_dirty(true);\n",
       "    this.send_message(\"ack\", {});\n",
       "    var fig = this;\n",
       "    // Wait a second, then push the new image to the DOM so\n",
       "    // that it is saved nicely (might be nice to debounce this).\n",
       "    setTimeout(function () { fig.push_to_output() }, 1000);\n",
       "}\n",
       "\n",
       "mpl.figure.prototype._init_toolbar = function() {\n",
       "    var fig = this;\n",
       "\n",
       "    var nav_element = $('<div/>')\n",
       "    nav_element.attr('style', 'width: 100%');\n",
       "    this.root.append(nav_element);\n",
       "\n",
       "    // Define a callback function for later on.\n",
       "    function toolbar_event(event) {\n",
       "        return fig.toolbar_button_onclick(event['data']);\n",
       "    }\n",
       "    function toolbar_mouse_event(event) {\n",
       "        return fig.toolbar_button_onmouseover(event['data']);\n",
       "    }\n",
       "\n",
       "    for(var toolbar_ind in mpl.toolbar_items){\n",
       "        var name = mpl.toolbar_items[toolbar_ind][0];\n",
       "        var tooltip = mpl.toolbar_items[toolbar_ind][1];\n",
       "        var image = mpl.toolbar_items[toolbar_ind][2];\n",
       "        var method_name = mpl.toolbar_items[toolbar_ind][3];\n",
       "\n",
       "        if (!name) { continue; };\n",
       "\n",
       "        var button = $('<button class=\"btn btn-default\" href=\"#\" title=\"' + name + '\"><i class=\"fa ' + image + ' fa-lg\"></i></button>');\n",
       "        button.click(method_name, toolbar_event);\n",
       "        button.mouseover(tooltip, toolbar_mouse_event);\n",
       "        nav_element.append(button);\n",
       "    }\n",
       "\n",
       "    // Add the status bar.\n",
       "    var status_bar = $('<span class=\"mpl-message\" style=\"text-align:right; float: right;\"/>');\n",
       "    nav_element.append(status_bar);\n",
       "    this.message = status_bar[0];\n",
       "\n",
       "    // Add the close button to the window.\n",
       "    var buttongrp = $('<div class=\"btn-group inline pull-right\"></div>');\n",
       "    var button = $('<button class=\"btn btn-mini btn-primary\" href=\"#\" title=\"Stop Interaction\"><i class=\"fa fa-power-off icon-remove icon-large\"></i></button>');\n",
       "    button.click(function (evt) { fig.handle_close(fig, {}); } );\n",
       "    button.mouseover('Stop Interaction', toolbar_mouse_event);\n",
       "    buttongrp.append(button);\n",
       "    var titlebar = this.root.find($('.ui-dialog-titlebar'));\n",
       "    titlebar.prepend(buttongrp);\n",
       "}\n",
       "\n",
       "mpl.figure.prototype._root_extra_style = function(el){\n",
       "    var fig = this\n",
       "    el.on(\"remove\", function(){\n",
       "\tfig.close_ws(fig, {});\n",
       "    });\n",
       "}\n",
       "\n",
       "mpl.figure.prototype._canvas_extra_style = function(el){\n",
       "    // this is important to make the div 'focusable\n",
       "    el.attr('tabindex', 0)\n",
       "    // reach out to IPython and tell the keyboard manager to turn it's self\n",
       "    // off when our div gets focus\n",
       "\n",
       "    // location in version 3\n",
       "    if (IPython.notebook.keyboard_manager) {\n",
       "        IPython.notebook.keyboard_manager.register_events(el);\n",
       "    }\n",
       "    else {\n",
       "        // location in version 2\n",
       "        IPython.keyboard_manager.register_events(el);\n",
       "    }\n",
       "\n",
       "}\n",
       "\n",
       "mpl.figure.prototype._key_event_extra = function(event, name) {\n",
       "    var manager = IPython.notebook.keyboard_manager;\n",
       "    if (!manager)\n",
       "        manager = IPython.keyboard_manager;\n",
       "\n",
       "    // Check for shift+enter\n",
       "    if (event.shiftKey && event.which == 13) {\n",
       "        this.canvas_div.blur();\n",
       "        event.shiftKey = false;\n",
       "        // Send a \"J\" for go to next cell\n",
       "        event.which = 74;\n",
       "        event.keyCode = 74;\n",
       "        manager.command_mode();\n",
       "        manager.handle_keydown(event);\n",
       "    }\n",
       "}\n",
       "\n",
       "mpl.figure.prototype.handle_save = function(fig, msg) {\n",
       "    fig.ondownload(fig, null);\n",
       "}\n",
       "\n",
       "\n",
       "mpl.find_output_cell = function(html_output) {\n",
       "    // Return the cell and output element which can be found *uniquely* in the notebook.\n",
       "    // Note - this is a bit hacky, but it is done because the \"notebook_saving.Notebook\"\n",
       "    // IPython event is triggered only after the cells have been serialised, which for\n",
       "    // our purposes (turning an active figure into a static one), is too late.\n",
       "    var cells = IPython.notebook.get_cells();\n",
       "    var ncells = cells.length;\n",
       "    for (var i=0; i<ncells; i++) {\n",
       "        var cell = cells[i];\n",
       "        if (cell.cell_type === 'code'){\n",
       "            for (var j=0; j<cell.output_area.outputs.length; j++) {\n",
       "                var data = cell.output_area.outputs[j];\n",
       "                if (data.data) {\n",
       "                    // IPython >= 3 moved mimebundle to data attribute of output\n",
       "                    data = data.data;\n",
       "                }\n",
       "                if (data['text/html'] == html_output) {\n",
       "                    return [cell, data, j];\n",
       "                }\n",
       "            }\n",
       "        }\n",
       "    }\n",
       "}\n",
       "\n",
       "// Register the function which deals with the matplotlib target/channel.\n",
       "// The kernel may be null if the page has been refreshed.\n",
       "if (IPython.notebook.kernel != null) {\n",
       "    IPython.notebook.kernel.comm_manager.register_target('matplotlib', mpl.mpl_figure_comm);\n",
       "}\n"
      ],
      "text/plain": [
       "<IPython.core.display.Javascript object>"
      ]
     },
     "metadata": {},
     "output_type": "display_data"
    },
    {
     "data": {
      "text/html": [
       "<img src=\"data:image/png;base64,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\" width=\"640\">"
      ],
      "text/plain": [
       "<IPython.core.display.HTML object>"
      ]
     },
     "metadata": {},
     "output_type": "display_data"
    },
    {
     "data": {
      "text/plain": [
       "<matplotlib.axes._subplots.AxesSubplot at 0x1cdd1b0f668>"
      ]
     },
     "execution_count": 145,
     "metadata": {},
     "output_type": "execute_result"
    }
   ],
   "source": [
    "close_px.AAPL.plot()\n"
   ]
  },
  {
   "cell_type": "code",
   "execution_count": 142,
   "metadata": {},
   "outputs": [],
   "source": [
    "appl_std250 = close_px.AAPL.rolling(250,min_periods=10).std()"
   ]
  },
  {
   "cell_type": "code",
   "execution_count": 143,
   "metadata": {},
   "outputs": [
    {
     "data": {
      "text/plain": [
       "2003-01-02         NaN\n",
       "2003-01-03         NaN\n",
       "2003-01-06         NaN\n",
       "2003-01-07         NaN\n",
       "2003-01-08         NaN\n",
       "2003-01-09         NaN\n",
       "2003-01-10         NaN\n",
       "2003-01-13         NaN\n",
       "2003-01-14         NaN\n",
       "2003-01-15    0.077496\n",
       "2003-01-16    0.074760\n",
       "2003-01-17    0.112368\n",
       "Freq: B, Name: AAPL, dtype: float64"
      ]
     },
     "execution_count": 143,
     "metadata": {},
     "output_type": "execute_result"
    }
   ],
   "source": [
    "appl_std250[:12]"
   ]
  },
  {
   "cell_type": "code",
   "execution_count": 146,
   "metadata": {},
   "outputs": [
    {
     "data": {
      "application/javascript": [
       "/* Put everything inside the global mpl namespace */\n",
       "window.mpl = {};\n",
       "\n",
       "\n",
       "mpl.get_websocket_type = function() {\n",
       "    if (typeof(WebSocket) !== 'undefined') {\n",
       "        return WebSocket;\n",
       "    } else if (typeof(MozWebSocket) !== 'undefined') {\n",
       "        return MozWebSocket;\n",
       "    } else {\n",
       "        alert('Your browser does not have WebSocket support.' +\n",
       "              'Please try Chrome, Safari or Firefox ≥ 6. ' +\n",
       "              'Firefox 4 and 5 are also supported but you ' +\n",
       "              'have to enable WebSockets in about:config.');\n",
       "    };\n",
       "}\n",
       "\n",
       "mpl.figure = function(figure_id, websocket, ondownload, parent_element) {\n",
       "    this.id = figure_id;\n",
       "\n",
       "    this.ws = websocket;\n",
       "\n",
       "    this.supports_binary = (this.ws.binaryType != undefined);\n",
       "\n",
       "    if (!this.supports_binary) {\n",
       "        var warnings = document.getElementById(\"mpl-warnings\");\n",
       "        if (warnings) {\n",
       "            warnings.style.display = 'block';\n",
       "            warnings.textContent = (\n",
       "                \"This browser does not support binary websocket messages. \" +\n",
       "                    \"Performance may be slow.\");\n",
       "        }\n",
       "    }\n",
       "\n",
       "    this.imageObj = new Image();\n",
       "\n",
       "    this.context = undefined;\n",
       "    this.message = undefined;\n",
       "    this.canvas = undefined;\n",
       "    this.rubberband_canvas = undefined;\n",
       "    this.rubberband_context = undefined;\n",
       "    this.format_dropdown = undefined;\n",
       "\n",
       "    this.image_mode = 'full';\n",
       "\n",
       "    this.root = $('<div/>');\n",
       "    this._root_extra_style(this.root)\n",
       "    this.root.attr('style', 'display: inline-block');\n",
       "\n",
       "    $(parent_element).append(this.root);\n",
       "\n",
       "    this._init_header(this);\n",
       "    this._init_canvas(this);\n",
       "    this._init_toolbar(this);\n",
       "\n",
       "    var fig = this;\n",
       "\n",
       "    this.waiting = false;\n",
       "\n",
       "    this.ws.onopen =  function () {\n",
       "            fig.send_message(\"supports_binary\", {value: fig.supports_binary});\n",
       "            fig.send_message(\"send_image_mode\", {});\n",
       "            if (mpl.ratio != 1) {\n",
       "                fig.send_message(\"set_dpi_ratio\", {'dpi_ratio': mpl.ratio});\n",
       "            }\n",
       "            fig.send_message(\"refresh\", {});\n",
       "        }\n",
       "\n",
       "    this.imageObj.onload = function() {\n",
       "            if (fig.image_mode == 'full') {\n",
       "                // Full images could contain transparency (where diff images\n",
       "                // almost always do), so we need to clear the canvas so that\n",
       "                // there is no ghosting.\n",
       "                fig.context.clearRect(0, 0, fig.canvas.width, fig.canvas.height);\n",
       "            }\n",
       "            fig.context.drawImage(fig.imageObj, 0, 0);\n",
       "        };\n",
       "\n",
       "    this.imageObj.onunload = function() {\n",
       "        fig.ws.close();\n",
       "    }\n",
       "\n",
       "    this.ws.onmessage = this._make_on_message_function(this);\n",
       "\n",
       "    this.ondownload = ondownload;\n",
       "}\n",
       "\n",
       "mpl.figure.prototype._init_header = function() {\n",
       "    var titlebar = $(\n",
       "        '<div class=\"ui-dialog-titlebar ui-widget-header ui-corner-all ' +\n",
       "        'ui-helper-clearfix\"/>');\n",
       "    var titletext = $(\n",
       "        '<div class=\"ui-dialog-title\" style=\"width: 100%; ' +\n",
       "        'text-align: center; padding: 3px;\"/>');\n",
       "    titlebar.append(titletext)\n",
       "    this.root.append(titlebar);\n",
       "    this.header = titletext[0];\n",
       "}\n",
       "\n",
       "\n",
       "\n",
       "mpl.figure.prototype._canvas_extra_style = function(canvas_div) {\n",
       "\n",
       "}\n",
       "\n",
       "\n",
       "mpl.figure.prototype._root_extra_style = function(canvas_div) {\n",
       "\n",
       "}\n",
       "\n",
       "mpl.figure.prototype._init_canvas = function() {\n",
       "    var fig = this;\n",
       "\n",
       "    var canvas_div = $('<div/>');\n",
       "\n",
       "    canvas_div.attr('style', 'position: relative; clear: both; outline: 0');\n",
       "\n",
       "    function canvas_keyboard_event(event) {\n",
       "        return fig.key_event(event, event['data']);\n",
       "    }\n",
       "\n",
       "    canvas_div.keydown('key_press', canvas_keyboard_event);\n",
       "    canvas_div.keyup('key_release', canvas_keyboard_event);\n",
       "    this.canvas_div = canvas_div\n",
       "    this._canvas_extra_style(canvas_div)\n",
       "    this.root.append(canvas_div);\n",
       "\n",
       "    var canvas = $('<canvas/>');\n",
       "    canvas.addClass('mpl-canvas');\n",
       "    canvas.attr('style', \"left: 0; top: 0; z-index: 0; outline: 0\")\n",
       "\n",
       "    this.canvas = canvas[0];\n",
       "    this.context = canvas[0].getContext(\"2d\");\n",
       "\n",
       "    var backingStore = this.context.backingStorePixelRatio ||\n",
       "\tthis.context.webkitBackingStorePixelRatio ||\n",
       "\tthis.context.mozBackingStorePixelRatio ||\n",
       "\tthis.context.msBackingStorePixelRatio ||\n",
       "\tthis.context.oBackingStorePixelRatio ||\n",
       "\tthis.context.backingStorePixelRatio || 1;\n",
       "\n",
       "    mpl.ratio = (window.devicePixelRatio || 1) / backingStore;\n",
       "\n",
       "    var rubberband = $('<canvas/>');\n",
       "    rubberband.attr('style', \"position: absolute; left: 0; top: 0; z-index: 1;\")\n",
       "\n",
       "    var pass_mouse_events = true;\n",
       "\n",
       "    canvas_div.resizable({\n",
       "        start: function(event, ui) {\n",
       "            pass_mouse_events = false;\n",
       "        },\n",
       "        resize: function(event, ui) {\n",
       "            fig.request_resize(ui.size.width, ui.size.height);\n",
       "        },\n",
       "        stop: function(event, ui) {\n",
       "            pass_mouse_events = true;\n",
       "            fig.request_resize(ui.size.width, ui.size.height);\n",
       "        },\n",
       "    });\n",
       "\n",
       "    function mouse_event_fn(event) {\n",
       "        if (pass_mouse_events)\n",
       "            return fig.mouse_event(event, event['data']);\n",
       "    }\n",
       "\n",
       "    rubberband.mousedown('button_press', mouse_event_fn);\n",
       "    rubberband.mouseup('button_release', mouse_event_fn);\n",
       "    // Throttle sequential mouse events to 1 every 20ms.\n",
       "    rubberband.mousemove('motion_notify', mouse_event_fn);\n",
       "\n",
       "    rubberband.mouseenter('figure_enter', mouse_event_fn);\n",
       "    rubberband.mouseleave('figure_leave', mouse_event_fn);\n",
       "\n",
       "    canvas_div.on(\"wheel\", function (event) {\n",
       "        event = event.originalEvent;\n",
       "        event['data'] = 'scroll'\n",
       "        if (event.deltaY < 0) {\n",
       "            event.step = 1;\n",
       "        } else {\n",
       "            event.step = -1;\n",
       "        }\n",
       "        mouse_event_fn(event);\n",
       "    });\n",
       "\n",
       "    canvas_div.append(canvas);\n",
       "    canvas_div.append(rubberband);\n",
       "\n",
       "    this.rubberband = rubberband;\n",
       "    this.rubberband_canvas = rubberband[0];\n",
       "    this.rubberband_context = rubberband[0].getContext(\"2d\");\n",
       "    this.rubberband_context.strokeStyle = \"#000000\";\n",
       "\n",
       "    this._resize_canvas = function(width, height) {\n",
       "        // Keep the size of the canvas, canvas container, and rubber band\n",
       "        // canvas in synch.\n",
       "        canvas_div.css('width', width)\n",
       "        canvas_div.css('height', height)\n",
       "\n",
       "        canvas.attr('width', width * mpl.ratio);\n",
       "        canvas.attr('height', height * mpl.ratio);\n",
       "        canvas.attr('style', 'width: ' + width + 'px; height: ' + height + 'px;');\n",
       "\n",
       "        rubberband.attr('width', width);\n",
       "        rubberband.attr('height', height);\n",
       "    }\n",
       "\n",
       "    // Set the figure to an initial 600x600px, this will subsequently be updated\n",
       "    // upon first draw.\n",
       "    this._resize_canvas(600, 600);\n",
       "\n",
       "    // Disable right mouse context menu.\n",
       "    $(this.rubberband_canvas).bind(\"contextmenu\",function(e){\n",
       "        return false;\n",
       "    });\n",
       "\n",
       "    function set_focus () {\n",
       "        canvas.focus();\n",
       "        canvas_div.focus();\n",
       "    }\n",
       "\n",
       "    window.setTimeout(set_focus, 100);\n",
       "}\n",
       "\n",
       "mpl.figure.prototype._init_toolbar = function() {\n",
       "    var fig = this;\n",
       "\n",
       "    var nav_element = $('<div/>')\n",
       "    nav_element.attr('style', 'width: 100%');\n",
       "    this.root.append(nav_element);\n",
       "\n",
       "    // Define a callback function for later on.\n",
       "    function toolbar_event(event) {\n",
       "        return fig.toolbar_button_onclick(event['data']);\n",
       "    }\n",
       "    function toolbar_mouse_event(event) {\n",
       "        return fig.toolbar_button_onmouseover(event['data']);\n",
       "    }\n",
       "\n",
       "    for(var toolbar_ind in mpl.toolbar_items) {\n",
       "        var name = mpl.toolbar_items[toolbar_ind][0];\n",
       "        var tooltip = mpl.toolbar_items[toolbar_ind][1];\n",
       "        var image = mpl.toolbar_items[toolbar_ind][2];\n",
       "        var method_name = mpl.toolbar_items[toolbar_ind][3];\n",
       "\n",
       "        if (!name) {\n",
       "            // put a spacer in here.\n",
       "            continue;\n",
       "        }\n",
       "        var button = $('<button/>');\n",
       "        button.addClass('ui-button ui-widget ui-state-default ui-corner-all ' +\n",
       "                        'ui-button-icon-only');\n",
       "        button.attr('role', 'button');\n",
       "        button.attr('aria-disabled', 'false');\n",
       "        button.click(method_name, toolbar_event);\n",
       "        button.mouseover(tooltip, toolbar_mouse_event);\n",
       "\n",
       "        var icon_img = $('<span/>');\n",
       "        icon_img.addClass('ui-button-icon-primary ui-icon');\n",
       "        icon_img.addClass(image);\n",
       "        icon_img.addClass('ui-corner-all');\n",
       "\n",
       "        var tooltip_span = $('<span/>');\n",
       "        tooltip_span.addClass('ui-button-text');\n",
       "        tooltip_span.html(tooltip);\n",
       "\n",
       "        button.append(icon_img);\n",
       "        button.append(tooltip_span);\n",
       "\n",
       "        nav_element.append(button);\n",
       "    }\n",
       "\n",
       "    var fmt_picker_span = $('<span/>');\n",
       "\n",
       "    var fmt_picker = $('<select/>');\n",
       "    fmt_picker.addClass('mpl-toolbar-option ui-widget ui-widget-content');\n",
       "    fmt_picker_span.append(fmt_picker);\n",
       "    nav_element.append(fmt_picker_span);\n",
       "    this.format_dropdown = fmt_picker[0];\n",
       "\n",
       "    for (var ind in mpl.extensions) {\n",
       "        var fmt = mpl.extensions[ind];\n",
       "        var option = $(\n",
       "            '<option/>', {selected: fmt === mpl.default_extension}).html(fmt);\n",
       "        fmt_picker.append(option)\n",
       "    }\n",
       "\n",
       "    // Add hover states to the ui-buttons\n",
       "    $( \".ui-button\" ).hover(\n",
       "        function() { $(this).addClass(\"ui-state-hover\");},\n",
       "        function() { $(this).removeClass(\"ui-state-hover\");}\n",
       "    );\n",
       "\n",
       "    var status_bar = $('<span class=\"mpl-message\"/>');\n",
       "    nav_element.append(status_bar);\n",
       "    this.message = status_bar[0];\n",
       "}\n",
       "\n",
       "mpl.figure.prototype.request_resize = function(x_pixels, y_pixels) {\n",
       "    // Request matplotlib to resize the figure. Matplotlib will then trigger a resize in the client,\n",
       "    // which will in turn request a refresh of the image.\n",
       "    this.send_message('resize', {'width': x_pixels, 'height': y_pixels});\n",
       "}\n",
       "\n",
       "mpl.figure.prototype.send_message = function(type, properties) {\n",
       "    properties['type'] = type;\n",
       "    properties['figure_id'] = this.id;\n",
       "    this.ws.send(JSON.stringify(properties));\n",
       "}\n",
       "\n",
       "mpl.figure.prototype.send_draw_message = function() {\n",
       "    if (!this.waiting) {\n",
       "        this.waiting = true;\n",
       "        this.ws.send(JSON.stringify({type: \"draw\", figure_id: this.id}));\n",
       "    }\n",
       "}\n",
       "\n",
       "\n",
       "mpl.figure.prototype.handle_save = function(fig, msg) {\n",
       "    var format_dropdown = fig.format_dropdown;\n",
       "    var format = format_dropdown.options[format_dropdown.selectedIndex].value;\n",
       "    fig.ondownload(fig, format);\n",
       "}\n",
       "\n",
       "\n",
       "mpl.figure.prototype.handle_resize = function(fig, msg) {\n",
       "    var size = msg['size'];\n",
       "    if (size[0] != fig.canvas.width || size[1] != fig.canvas.height) {\n",
       "        fig._resize_canvas(size[0], size[1]);\n",
       "        fig.send_message(\"refresh\", {});\n",
       "    };\n",
       "}\n",
       "\n",
       "mpl.figure.prototype.handle_rubberband = function(fig, msg) {\n",
       "    var x0 = msg['x0'] / mpl.ratio;\n",
       "    var y0 = (fig.canvas.height - msg['y0']) / mpl.ratio;\n",
       "    var x1 = msg['x1'] / mpl.ratio;\n",
       "    var y1 = (fig.canvas.height - msg['y1']) / mpl.ratio;\n",
       "    x0 = Math.floor(x0) + 0.5;\n",
       "    y0 = Math.floor(y0) + 0.5;\n",
       "    x1 = Math.floor(x1) + 0.5;\n",
       "    y1 = Math.floor(y1) + 0.5;\n",
       "    var min_x = Math.min(x0, x1);\n",
       "    var min_y = Math.min(y0, y1);\n",
       "    var width = Math.abs(x1 - x0);\n",
       "    var height = Math.abs(y1 - y0);\n",
       "\n",
       "    fig.rubberband_context.clearRect(\n",
       "        0, 0, fig.canvas.width, fig.canvas.height);\n",
       "\n",
       "    fig.rubberband_context.strokeRect(min_x, min_y, width, height);\n",
       "}\n",
       "\n",
       "mpl.figure.prototype.handle_figure_label = function(fig, msg) {\n",
       "    // Updates the figure title.\n",
       "    fig.header.textContent = msg['label'];\n",
       "}\n",
       "\n",
       "mpl.figure.prototype.handle_cursor = function(fig, msg) {\n",
       "    var cursor = msg['cursor'];\n",
       "    switch(cursor)\n",
       "    {\n",
       "    case 0:\n",
       "        cursor = 'pointer';\n",
       "        break;\n",
       "    case 1:\n",
       "        cursor = 'default';\n",
       "        break;\n",
       "    case 2:\n",
       "        cursor = 'crosshair';\n",
       "        break;\n",
       "    case 3:\n",
       "        cursor = 'move';\n",
       "        break;\n",
       "    }\n",
       "    fig.rubberband_canvas.style.cursor = cursor;\n",
       "}\n",
       "\n",
       "mpl.figure.prototype.handle_message = function(fig, msg) {\n",
       "    fig.message.textContent = msg['message'];\n",
       "}\n",
       "\n",
       "mpl.figure.prototype.handle_draw = function(fig, msg) {\n",
       "    // Request the server to send over a new figure.\n",
       "    fig.send_draw_message();\n",
       "}\n",
       "\n",
       "mpl.figure.prototype.handle_image_mode = function(fig, msg) {\n",
       "    fig.image_mode = msg['mode'];\n",
       "}\n",
       "\n",
       "mpl.figure.prototype.updated_canvas_event = function() {\n",
       "    // Called whenever the canvas gets updated.\n",
       "    this.send_message(\"ack\", {});\n",
       "}\n",
       "\n",
       "// A function to construct a web socket function for onmessage handling.\n",
       "// Called in the figure constructor.\n",
       "mpl.figure.prototype._make_on_message_function = function(fig) {\n",
       "    return function socket_on_message(evt) {\n",
       "        if (evt.data instanceof Blob) {\n",
       "            /* FIXME: We get \"Resource interpreted as Image but\n",
       "             * transferred with MIME type text/plain:\" errors on\n",
       "             * Chrome.  But how to set the MIME type?  It doesn't seem\n",
       "             * to be part of the websocket stream */\n",
       "            evt.data.type = \"image/png\";\n",
       "\n",
       "            /* Free the memory for the previous frames */\n",
       "            if (fig.imageObj.src) {\n",
       "                (window.URL || window.webkitURL).revokeObjectURL(\n",
       "                    fig.imageObj.src);\n",
       "            }\n",
       "\n",
       "            fig.imageObj.src = (window.URL || window.webkitURL).createObjectURL(\n",
       "                evt.data);\n",
       "            fig.updated_canvas_event();\n",
       "            fig.waiting = false;\n",
       "            return;\n",
       "        }\n",
       "        else if (typeof evt.data === 'string' && evt.data.slice(0, 21) == \"data:image/png;base64\") {\n",
       "            fig.imageObj.src = evt.data;\n",
       "            fig.updated_canvas_event();\n",
       "            fig.waiting = false;\n",
       "            return;\n",
       "        }\n",
       "\n",
       "        var msg = JSON.parse(evt.data);\n",
       "        var msg_type = msg['type'];\n",
       "\n",
       "        // Call the  \"handle_{type}\" callback, which takes\n",
       "        // the figure and JSON message as its only arguments.\n",
       "        try {\n",
       "            var callback = fig[\"handle_\" + msg_type];\n",
       "        } catch (e) {\n",
       "            console.log(\"No handler for the '\" + msg_type + \"' message type: \", msg);\n",
       "            return;\n",
       "        }\n",
       "\n",
       "        if (callback) {\n",
       "            try {\n",
       "                // console.log(\"Handling '\" + msg_type + \"' message: \", msg);\n",
       "                callback(fig, msg);\n",
       "            } catch (e) {\n",
       "                console.log(\"Exception inside the 'handler_\" + msg_type + \"' callback:\", e, e.stack, msg);\n",
       "            }\n",
       "        }\n",
       "    };\n",
       "}\n",
       "\n",
       "// from http://stackoverflow.com/questions/1114465/getting-mouse-location-in-canvas\n",
       "mpl.findpos = function(e) {\n",
       "    //this section is from http://www.quirksmode.org/js/events_properties.html\n",
       "    var targ;\n",
       "    if (!e)\n",
       "        e = window.event;\n",
       "    if (e.target)\n",
       "        targ = e.target;\n",
       "    else if (e.srcElement)\n",
       "        targ = e.srcElement;\n",
       "    if (targ.nodeType == 3) // defeat Safari bug\n",
       "        targ = targ.parentNode;\n",
       "\n",
       "    // jQuery normalizes the pageX and pageY\n",
       "    // pageX,Y are the mouse positions relative to the document\n",
       "    // offset() returns the position of the element relative to the document\n",
       "    var x = e.pageX - $(targ).offset().left;\n",
       "    var y = e.pageY - $(targ).offset().top;\n",
       "\n",
       "    return {\"x\": x, \"y\": y};\n",
       "};\n",
       "\n",
       "/*\n",
       " * return a copy of an object with only non-object keys\n",
       " * we need this to avoid circular references\n",
       " * http://stackoverflow.com/a/24161582/3208463\n",
       " */\n",
       "function simpleKeys (original) {\n",
       "  return Object.keys(original).reduce(function (obj, key) {\n",
       "    if (typeof original[key] !== 'object')\n",
       "        obj[key] = original[key]\n",
       "    return obj;\n",
       "  }, {});\n",
       "}\n",
       "\n",
       "mpl.figure.prototype.mouse_event = function(event, name) {\n",
       "    var canvas_pos = mpl.findpos(event)\n",
       "\n",
       "    if (name === 'button_press')\n",
       "    {\n",
       "        this.canvas.focus();\n",
       "        this.canvas_div.focus();\n",
       "    }\n",
       "\n",
       "    var x = canvas_pos.x * mpl.ratio;\n",
       "    var y = canvas_pos.y * mpl.ratio;\n",
       "\n",
       "    this.send_message(name, {x: x, y: y, button: event.button,\n",
       "                             step: event.step,\n",
       "                             guiEvent: simpleKeys(event)});\n",
       "\n",
       "    /* This prevents the web browser from automatically changing to\n",
       "     * the text insertion cursor when the button is pressed.  We want\n",
       "     * to control all of the cursor setting manually through the\n",
       "     * 'cursor' event from matplotlib */\n",
       "    event.preventDefault();\n",
       "    return false;\n",
       "}\n",
       "\n",
       "mpl.figure.prototype._key_event_extra = function(event, name) {\n",
       "    // Handle any extra behaviour associated with a key event\n",
       "}\n",
       "\n",
       "mpl.figure.prototype.key_event = function(event, name) {\n",
       "\n",
       "    // Prevent repeat events\n",
       "    if (name == 'key_press')\n",
       "    {\n",
       "        if (event.which === this._key)\n",
       "            return;\n",
       "        else\n",
       "            this._key = event.which;\n",
       "    }\n",
       "    if (name == 'key_release')\n",
       "        this._key = null;\n",
       "\n",
       "    var value = '';\n",
       "    if (event.ctrlKey && event.which != 17)\n",
       "        value += \"ctrl+\";\n",
       "    if (event.altKey && event.which != 18)\n",
       "        value += \"alt+\";\n",
       "    if (event.shiftKey && event.which != 16)\n",
       "        value += \"shift+\";\n",
       "\n",
       "    value += 'k';\n",
       "    value += event.which.toString();\n",
       "\n",
       "    this._key_event_extra(event, name);\n",
       "\n",
       "    this.send_message(name, {key: value,\n",
       "                             guiEvent: simpleKeys(event)});\n",
       "    return false;\n",
       "}\n",
       "\n",
       "mpl.figure.prototype.toolbar_button_onclick = function(name) {\n",
       "    if (name == 'download') {\n",
       "        this.handle_save(this, null);\n",
       "    } else {\n",
       "        this.send_message(\"toolbar_button\", {name: name});\n",
       "    }\n",
       "};\n",
       "\n",
       "mpl.figure.prototype.toolbar_button_onmouseover = function(tooltip) {\n",
       "    this.message.textContent = tooltip;\n",
       "};\n",
       "mpl.toolbar_items = [[\"Home\", \"Reset original view\", \"fa fa-home icon-home\", \"home\"], [\"Back\", \"Back to previous view\", \"fa fa-arrow-left icon-arrow-left\", \"back\"], [\"Forward\", \"Forward to next view\", \"fa fa-arrow-right icon-arrow-right\", \"forward\"], [\"\", \"\", \"\", \"\"], [\"Pan\", \"Pan axes with left mouse, zoom with right\", \"fa fa-arrows icon-move\", \"pan\"], [\"Zoom\", \"Zoom to rectangle\", \"fa fa-square-o icon-check-empty\", \"zoom\"], [\"\", \"\", \"\", \"\"], [\"Download\", \"Download plot\", \"fa fa-floppy-o icon-save\", \"download\"]];\n",
       "\n",
       "mpl.extensions = [\"eps\", \"jpeg\", \"pdf\", \"png\", \"ps\", \"raw\", \"svg\", \"tif\"];\n",
       "\n",
       "mpl.default_extension = \"png\";var comm_websocket_adapter = function(comm) {\n",
       "    // Create a \"websocket\"-like object which calls the given IPython comm\n",
       "    // object with the appropriate methods. Currently this is a non binary\n",
       "    // socket, so there is still some room for performance tuning.\n",
       "    var ws = {};\n",
       "\n",
       "    ws.close = function() {\n",
       "        comm.close()\n",
       "    };\n",
       "    ws.send = function(m) {\n",
       "        //console.log('sending', m);\n",
       "        comm.send(m);\n",
       "    };\n",
       "    // Register the callback with on_msg.\n",
       "    comm.on_msg(function(msg) {\n",
       "        //console.log('receiving', msg['content']['data'], msg);\n",
       "        // Pass the mpl event to the overridden (by mpl) onmessage function.\n",
       "        ws.onmessage(msg['content']['data'])\n",
       "    });\n",
       "    return ws;\n",
       "}\n",
       "\n",
       "mpl.mpl_figure_comm = function(comm, msg) {\n",
       "    // This is the function which gets called when the mpl process\n",
       "    // starts-up an IPython Comm through the \"matplotlib\" channel.\n",
       "\n",
       "    var id = msg.content.data.id;\n",
       "    // Get hold of the div created by the display call when the Comm\n",
       "    // socket was opened in Python.\n",
       "    var element = $(\"#\" + id);\n",
       "    var ws_proxy = comm_websocket_adapter(comm)\n",
       "\n",
       "    function ondownload(figure, format) {\n",
       "        window.open(figure.imageObj.src);\n",
       "    }\n",
       "\n",
       "    var fig = new mpl.figure(id, ws_proxy,\n",
       "                           ondownload,\n",
       "                           element.get(0));\n",
       "\n",
       "    // Call onopen now - mpl needs it, as it is assuming we've passed it a real\n",
       "    // web socket which is closed, not our websocket->open comm proxy.\n",
       "    ws_proxy.onopen();\n",
       "\n",
       "    fig.parent_element = element.get(0);\n",
       "    fig.cell_info = mpl.find_output_cell(\"<div id='\" + id + \"'></div>\");\n",
       "    if (!fig.cell_info) {\n",
       "        console.error(\"Failed to find cell for figure\", id, fig);\n",
       "        return;\n",
       "    }\n",
       "\n",
       "    var output_index = fig.cell_info[2]\n",
       "    var cell = fig.cell_info[0];\n",
       "\n",
       "};\n",
       "\n",
       "mpl.figure.prototype.handle_close = function(fig, msg) {\n",
       "    var width = fig.canvas.width/mpl.ratio\n",
       "    fig.root.unbind('remove')\n",
       "\n",
       "    // Update the output cell to use the data from the current canvas.\n",
       "    fig.push_to_output();\n",
       "    var dataURL = fig.canvas.toDataURL();\n",
       "    // Re-enable the keyboard manager in IPython - without this line, in FF,\n",
       "    // the notebook keyboard shortcuts fail.\n",
       "    IPython.keyboard_manager.enable()\n",
       "    $(fig.parent_element).html('<img src=\"' + dataURL + '\" width=\"' + width + '\">');\n",
       "    fig.close_ws(fig, msg);\n",
       "}\n",
       "\n",
       "mpl.figure.prototype.close_ws = function(fig, msg){\n",
       "    fig.send_message('closing', msg);\n",
       "    // fig.ws.close()\n",
       "}\n",
       "\n",
       "mpl.figure.prototype.push_to_output = function(remove_interactive) {\n",
       "    // Turn the data on the canvas into data in the output cell.\n",
       "    var width = this.canvas.width/mpl.ratio\n",
       "    var dataURL = this.canvas.toDataURL();\n",
       "    this.cell_info[1]['text/html'] = '<img src=\"' + dataURL + '\" width=\"' + width + '\">';\n",
       "}\n",
       "\n",
       "mpl.figure.prototype.updated_canvas_event = function() {\n",
       "    // Tell IPython that the notebook contents must change.\n",
       "    IPython.notebook.set_dirty(true);\n",
       "    this.send_message(\"ack\", {});\n",
       "    var fig = this;\n",
       "    // Wait a second, then push the new image to the DOM so\n",
       "    // that it is saved nicely (might be nice to debounce this).\n",
       "    setTimeout(function () { fig.push_to_output() }, 1000);\n",
       "}\n",
       "\n",
       "mpl.figure.prototype._init_toolbar = function() {\n",
       "    var fig = this;\n",
       "\n",
       "    var nav_element = $('<div/>')\n",
       "    nav_element.attr('style', 'width: 100%');\n",
       "    this.root.append(nav_element);\n",
       "\n",
       "    // Define a callback function for later on.\n",
       "    function toolbar_event(event) {\n",
       "        return fig.toolbar_button_onclick(event['data']);\n",
       "    }\n",
       "    function toolbar_mouse_event(event) {\n",
       "        return fig.toolbar_button_onmouseover(event['data']);\n",
       "    }\n",
       "\n",
       "    for(var toolbar_ind in mpl.toolbar_items){\n",
       "        var name = mpl.toolbar_items[toolbar_ind][0];\n",
       "        var tooltip = mpl.toolbar_items[toolbar_ind][1];\n",
       "        var image = mpl.toolbar_items[toolbar_ind][2];\n",
       "        var method_name = mpl.toolbar_items[toolbar_ind][3];\n",
       "\n",
       "        if (!name) { continue; };\n",
       "\n",
       "        var button = $('<button class=\"btn btn-default\" href=\"#\" title=\"' + name + '\"><i class=\"fa ' + image + ' fa-lg\"></i></button>');\n",
       "        button.click(method_name, toolbar_event);\n",
       "        button.mouseover(tooltip, toolbar_mouse_event);\n",
       "        nav_element.append(button);\n",
       "    }\n",
       "\n",
       "    // Add the status bar.\n",
       "    var status_bar = $('<span class=\"mpl-message\" style=\"text-align:right; float: right;\"/>');\n",
       "    nav_element.append(status_bar);\n",
       "    this.message = status_bar[0];\n",
       "\n",
       "    // Add the close button to the window.\n",
       "    var buttongrp = $('<div class=\"btn-group inline pull-right\"></div>');\n",
       "    var button = $('<button class=\"btn btn-mini btn-primary\" href=\"#\" title=\"Stop Interaction\"><i class=\"fa fa-power-off icon-remove icon-large\"></i></button>');\n",
       "    button.click(function (evt) { fig.handle_close(fig, {}); } );\n",
       "    button.mouseover('Stop Interaction', toolbar_mouse_event);\n",
       "    buttongrp.append(button);\n",
       "    var titlebar = this.root.find($('.ui-dialog-titlebar'));\n",
       "    titlebar.prepend(buttongrp);\n",
       "}\n",
       "\n",
       "mpl.figure.prototype._root_extra_style = function(el){\n",
       "    var fig = this\n",
       "    el.on(\"remove\", function(){\n",
       "\tfig.close_ws(fig, {});\n",
       "    });\n",
       "}\n",
       "\n",
       "mpl.figure.prototype._canvas_extra_style = function(el){\n",
       "    // this is important to make the div 'focusable\n",
       "    el.attr('tabindex', 0)\n",
       "    // reach out to IPython and tell the keyboard manager to turn it's self\n",
       "    // off when our div gets focus\n",
       "\n",
       "    // location in version 3\n",
       "    if (IPython.notebook.keyboard_manager) {\n",
       "        IPython.notebook.keyboard_manager.register_events(el);\n",
       "    }\n",
       "    else {\n",
       "        // location in version 2\n",
       "        IPython.keyboard_manager.register_events(el);\n",
       "    }\n",
       "\n",
       "}\n",
       "\n",
       "mpl.figure.prototype._key_event_extra = function(event, name) {\n",
       "    var manager = IPython.notebook.keyboard_manager;\n",
       "    if (!manager)\n",
       "        manager = IPython.keyboard_manager;\n",
       "\n",
       "    // Check for shift+enter\n",
       "    if (event.shiftKey && event.which == 13) {\n",
       "        this.canvas_div.blur();\n",
       "        event.shiftKey = false;\n",
       "        // Send a \"J\" for go to next cell\n",
       "        event.which = 74;\n",
       "        event.keyCode = 74;\n",
       "        manager.command_mode();\n",
       "        manager.handle_keydown(event);\n",
       "    }\n",
       "}\n",
       "\n",
       "mpl.figure.prototype.handle_save = function(fig, msg) {\n",
       "    fig.ondownload(fig, null);\n",
       "}\n",
       "\n",
       "\n",
       "mpl.find_output_cell = function(html_output) {\n",
       "    // Return the cell and output element which can be found *uniquely* in the notebook.\n",
       "    // Note - this is a bit hacky, but it is done because the \"notebook_saving.Notebook\"\n",
       "    // IPython event is triggered only after the cells have been serialised, which for\n",
       "    // our purposes (turning an active figure into a static one), is too late.\n",
       "    var cells = IPython.notebook.get_cells();\n",
       "    var ncells = cells.length;\n",
       "    for (var i=0; i<ncells; i++) {\n",
       "        var cell = cells[i];\n",
       "        if (cell.cell_type === 'code'){\n",
       "            for (var j=0; j<cell.output_area.outputs.length; j++) {\n",
       "                var data = cell.output_area.outputs[j];\n",
       "                if (data.data) {\n",
       "                    // IPython >= 3 moved mimebundle to data attribute of output\n",
       "                    data = data.data;\n",
       "                }\n",
       "                if (data['text/html'] == html_output) {\n",
       "                    return [cell, data, j];\n",
       "                }\n",
       "            }\n",
       "        }\n",
       "    }\n",
       "}\n",
       "\n",
       "// Register the function which deals with the matplotlib target/channel.\n",
       "// The kernel may be null if the page has been refreshed.\n",
       "if (IPython.notebook.kernel != null) {\n",
       "    IPython.notebook.kernel.comm_manager.register_target('matplotlib', mpl.mpl_figure_comm);\n",
       "}\n"
      ],
      "text/plain": [
       "<IPython.core.display.Javascript object>"
      ]
     },
     "metadata": {},
     "output_type": "display_data"
    },
    {
     "data": {
      "text/html": [
       "<img src=\"data:image/png;base64,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\" width=\"640\">"
      ],
      "text/plain": [
       "<IPython.core.display.HTML object>"
      ]
     },
     "metadata": {},
     "output_type": "display_data"
    },
    {
     "data": {
      "text/plain": [
       "<matplotlib.axes._subplots.AxesSubplot at 0x1cdd19d1e10>"
      ]
     },
     "execution_count": 146,
     "metadata": {},
     "output_type": "execute_result"
    }
   ],
   "source": [
    "appl_std250.plot()"
   ]
  },
  {
   "cell_type": "code",
   "execution_count": 147,
   "metadata": {},
   "outputs": [],
   "source": [
    "expanding_mean = appl_std250.expanding().mean()"
   ]
  },
  {
   "cell_type": "code",
   "execution_count": 148,
   "metadata": {},
   "outputs": [
    {
     "data": {
      "application/javascript": [
       "/* Put everything inside the global mpl namespace */\n",
       "window.mpl = {};\n",
       "\n",
       "\n",
       "mpl.get_websocket_type = function() {\n",
       "    if (typeof(WebSocket) !== 'undefined') {\n",
       "        return WebSocket;\n",
       "    } else if (typeof(MozWebSocket) !== 'undefined') {\n",
       "        return MozWebSocket;\n",
       "    } else {\n",
       "        alert('Your browser does not have WebSocket support.' +\n",
       "              'Please try Chrome, Safari or Firefox ≥ 6. ' +\n",
       "              'Firefox 4 and 5 are also supported but you ' +\n",
       "              'have to enable WebSockets in about:config.');\n",
       "    };\n",
       "}\n",
       "\n",
       "mpl.figure = function(figure_id, websocket, ondownload, parent_element) {\n",
       "    this.id = figure_id;\n",
       "\n",
       "    this.ws = websocket;\n",
       "\n",
       "    this.supports_binary = (this.ws.binaryType != undefined);\n",
       "\n",
       "    if (!this.supports_binary) {\n",
       "        var warnings = document.getElementById(\"mpl-warnings\");\n",
       "        if (warnings) {\n",
       "            warnings.style.display = 'block';\n",
       "            warnings.textContent = (\n",
       "                \"This browser does not support binary websocket messages. \" +\n",
       "                    \"Performance may be slow.\");\n",
       "        }\n",
       "    }\n",
       "\n",
       "    this.imageObj = new Image();\n",
       "\n",
       "    this.context = undefined;\n",
       "    this.message = undefined;\n",
       "    this.canvas = undefined;\n",
       "    this.rubberband_canvas = undefined;\n",
       "    this.rubberband_context = undefined;\n",
       "    this.format_dropdown = undefined;\n",
       "\n",
       "    this.image_mode = 'full';\n",
       "\n",
       "    this.root = $('<div/>');\n",
       "    this._root_extra_style(this.root)\n",
       "    this.root.attr('style', 'display: inline-block');\n",
       "\n",
       "    $(parent_element).append(this.root);\n",
       "\n",
       "    this._init_header(this);\n",
       "    this._init_canvas(this);\n",
       "    this._init_toolbar(this);\n",
       "\n",
       "    var fig = this;\n",
       "\n",
       "    this.waiting = false;\n",
       "\n",
       "    this.ws.onopen =  function () {\n",
       "            fig.send_message(\"supports_binary\", {value: fig.supports_binary});\n",
       "            fig.send_message(\"send_image_mode\", {});\n",
       "            if (mpl.ratio != 1) {\n",
       "                fig.send_message(\"set_dpi_ratio\", {'dpi_ratio': mpl.ratio});\n",
       "            }\n",
       "            fig.send_message(\"refresh\", {});\n",
       "        }\n",
       "\n",
       "    this.imageObj.onload = function() {\n",
       "            if (fig.image_mode == 'full') {\n",
       "                // Full images could contain transparency (where diff images\n",
       "                // almost always do), so we need to clear the canvas so that\n",
       "                // there is no ghosting.\n",
       "                fig.context.clearRect(0, 0, fig.canvas.width, fig.canvas.height);\n",
       "            }\n",
       "            fig.context.drawImage(fig.imageObj, 0, 0);\n",
       "        };\n",
       "\n",
       "    this.imageObj.onunload = function() {\n",
       "        fig.ws.close();\n",
       "    }\n",
       "\n",
       "    this.ws.onmessage = this._make_on_message_function(this);\n",
       "\n",
       "    this.ondownload = ondownload;\n",
       "}\n",
       "\n",
       "mpl.figure.prototype._init_header = function() {\n",
       "    var titlebar = $(\n",
       "        '<div class=\"ui-dialog-titlebar ui-widget-header ui-corner-all ' +\n",
       "        'ui-helper-clearfix\"/>');\n",
       "    var titletext = $(\n",
       "        '<div class=\"ui-dialog-title\" style=\"width: 100%; ' +\n",
       "        'text-align: center; padding: 3px;\"/>');\n",
       "    titlebar.append(titletext)\n",
       "    this.root.append(titlebar);\n",
       "    this.header = titletext[0];\n",
       "}\n",
       "\n",
       "\n",
       "\n",
       "mpl.figure.prototype._canvas_extra_style = function(canvas_div) {\n",
       "\n",
       "}\n",
       "\n",
       "\n",
       "mpl.figure.prototype._root_extra_style = function(canvas_div) {\n",
       "\n",
       "}\n",
       "\n",
       "mpl.figure.prototype._init_canvas = function() {\n",
       "    var fig = this;\n",
       "\n",
       "    var canvas_div = $('<div/>');\n",
       "\n",
       "    canvas_div.attr('style', 'position: relative; clear: both; outline: 0');\n",
       "\n",
       "    function canvas_keyboard_event(event) {\n",
       "        return fig.key_event(event, event['data']);\n",
       "    }\n",
       "\n",
       "    canvas_div.keydown('key_press', canvas_keyboard_event);\n",
       "    canvas_div.keyup('key_release', canvas_keyboard_event);\n",
       "    this.canvas_div = canvas_div\n",
       "    this._canvas_extra_style(canvas_div)\n",
       "    this.root.append(canvas_div);\n",
       "\n",
       "    var canvas = $('<canvas/>');\n",
       "    canvas.addClass('mpl-canvas');\n",
       "    canvas.attr('style', \"left: 0; top: 0; z-index: 0; outline: 0\")\n",
       "\n",
       "    this.canvas = canvas[0];\n",
       "    this.context = canvas[0].getContext(\"2d\");\n",
       "\n",
       "    var backingStore = this.context.backingStorePixelRatio ||\n",
       "\tthis.context.webkitBackingStorePixelRatio ||\n",
       "\tthis.context.mozBackingStorePixelRatio ||\n",
       "\tthis.context.msBackingStorePixelRatio ||\n",
       "\tthis.context.oBackingStorePixelRatio ||\n",
       "\tthis.context.backingStorePixelRatio || 1;\n",
       "\n",
       "    mpl.ratio = (window.devicePixelRatio || 1) / backingStore;\n",
       "\n",
       "    var rubberband = $('<canvas/>');\n",
       "    rubberband.attr('style', \"position: absolute; left: 0; top: 0; z-index: 1;\")\n",
       "\n",
       "    var pass_mouse_events = true;\n",
       "\n",
       "    canvas_div.resizable({\n",
       "        start: function(event, ui) {\n",
       "            pass_mouse_events = false;\n",
       "        },\n",
       "        resize: function(event, ui) {\n",
       "            fig.request_resize(ui.size.width, ui.size.height);\n",
       "        },\n",
       "        stop: function(event, ui) {\n",
       "            pass_mouse_events = true;\n",
       "            fig.request_resize(ui.size.width, ui.size.height);\n",
       "        },\n",
       "    });\n",
       "\n",
       "    function mouse_event_fn(event) {\n",
       "        if (pass_mouse_events)\n",
       "            return fig.mouse_event(event, event['data']);\n",
       "    }\n",
       "\n",
       "    rubberband.mousedown('button_press', mouse_event_fn);\n",
       "    rubberband.mouseup('button_release', mouse_event_fn);\n",
       "    // Throttle sequential mouse events to 1 every 20ms.\n",
       "    rubberband.mousemove('motion_notify', mouse_event_fn);\n",
       "\n",
       "    rubberband.mouseenter('figure_enter', mouse_event_fn);\n",
       "    rubberband.mouseleave('figure_leave', mouse_event_fn);\n",
       "\n",
       "    canvas_div.on(\"wheel\", function (event) {\n",
       "        event = event.originalEvent;\n",
       "        event['data'] = 'scroll'\n",
       "        if (event.deltaY < 0) {\n",
       "            event.step = 1;\n",
       "        } else {\n",
       "            event.step = -1;\n",
       "        }\n",
       "        mouse_event_fn(event);\n",
       "    });\n",
       "\n",
       "    canvas_div.append(canvas);\n",
       "    canvas_div.append(rubberband);\n",
       "\n",
       "    this.rubberband = rubberband;\n",
       "    this.rubberband_canvas = rubberband[0];\n",
       "    this.rubberband_context = rubberband[0].getContext(\"2d\");\n",
       "    this.rubberband_context.strokeStyle = \"#000000\";\n",
       "\n",
       "    this._resize_canvas = function(width, height) {\n",
       "        // Keep the size of the canvas, canvas container, and rubber band\n",
       "        // canvas in synch.\n",
       "        canvas_div.css('width', width)\n",
       "        canvas_div.css('height', height)\n",
       "\n",
       "        canvas.attr('width', width * mpl.ratio);\n",
       "        canvas.attr('height', height * mpl.ratio);\n",
       "        canvas.attr('style', 'width: ' + width + 'px; height: ' + height + 'px;');\n",
       "\n",
       "        rubberband.attr('width', width);\n",
       "        rubberband.attr('height', height);\n",
       "    }\n",
       "\n",
       "    // Set the figure to an initial 600x600px, this will subsequently be updated\n",
       "    // upon first draw.\n",
       "    this._resize_canvas(600, 600);\n",
       "\n",
       "    // Disable right mouse context menu.\n",
       "    $(this.rubberband_canvas).bind(\"contextmenu\",function(e){\n",
       "        return false;\n",
       "    });\n",
       "\n",
       "    function set_focus () {\n",
       "        canvas.focus();\n",
       "        canvas_div.focus();\n",
       "    }\n",
       "\n",
       "    window.setTimeout(set_focus, 100);\n",
       "}\n",
       "\n",
       "mpl.figure.prototype._init_toolbar = function() {\n",
       "    var fig = this;\n",
       "\n",
       "    var nav_element = $('<div/>')\n",
       "    nav_element.attr('style', 'width: 100%');\n",
       "    this.root.append(nav_element);\n",
       "\n",
       "    // Define a callback function for later on.\n",
       "    function toolbar_event(event) {\n",
       "        return fig.toolbar_button_onclick(event['data']);\n",
       "    }\n",
       "    function toolbar_mouse_event(event) {\n",
       "        return fig.toolbar_button_onmouseover(event['data']);\n",
       "    }\n",
       "\n",
       "    for(var toolbar_ind in mpl.toolbar_items) {\n",
       "        var name = mpl.toolbar_items[toolbar_ind][0];\n",
       "        var tooltip = mpl.toolbar_items[toolbar_ind][1];\n",
       "        var image = mpl.toolbar_items[toolbar_ind][2];\n",
       "        var method_name = mpl.toolbar_items[toolbar_ind][3];\n",
       "\n",
       "        if (!name) {\n",
       "            // put a spacer in here.\n",
       "            continue;\n",
       "        }\n",
       "        var button = $('<button/>');\n",
       "        button.addClass('ui-button ui-widget ui-state-default ui-corner-all ' +\n",
       "                        'ui-button-icon-only');\n",
       "        button.attr('role', 'button');\n",
       "        button.attr('aria-disabled', 'false');\n",
       "        button.click(method_name, toolbar_event);\n",
       "        button.mouseover(tooltip, toolbar_mouse_event);\n",
       "\n",
       "        var icon_img = $('<span/>');\n",
       "        icon_img.addClass('ui-button-icon-primary ui-icon');\n",
       "        icon_img.addClass(image);\n",
       "        icon_img.addClass('ui-corner-all');\n",
       "\n",
       "        var tooltip_span = $('<span/>');\n",
       "        tooltip_span.addClass('ui-button-text');\n",
       "        tooltip_span.html(tooltip);\n",
       "\n",
       "        button.append(icon_img);\n",
       "        button.append(tooltip_span);\n",
       "\n",
       "        nav_element.append(button);\n",
       "    }\n",
       "\n",
       "    var fmt_picker_span = $('<span/>');\n",
       "\n",
       "    var fmt_picker = $('<select/>');\n",
       "    fmt_picker.addClass('mpl-toolbar-option ui-widget ui-widget-content');\n",
       "    fmt_picker_span.append(fmt_picker);\n",
       "    nav_element.append(fmt_picker_span);\n",
       "    this.format_dropdown = fmt_picker[0];\n",
       "\n",
       "    for (var ind in mpl.extensions) {\n",
       "        var fmt = mpl.extensions[ind];\n",
       "        var option = $(\n",
       "            '<option/>', {selected: fmt === mpl.default_extension}).html(fmt);\n",
       "        fmt_picker.append(option)\n",
       "    }\n",
       "\n",
       "    // Add hover states to the ui-buttons\n",
       "    $( \".ui-button\" ).hover(\n",
       "        function() { $(this).addClass(\"ui-state-hover\");},\n",
       "        function() { $(this).removeClass(\"ui-state-hover\");}\n",
       "    );\n",
       "\n",
       "    var status_bar = $('<span class=\"mpl-message\"/>');\n",
       "    nav_element.append(status_bar);\n",
       "    this.message = status_bar[0];\n",
       "}\n",
       "\n",
       "mpl.figure.prototype.request_resize = function(x_pixels, y_pixels) {\n",
       "    // Request matplotlib to resize the figure. Matplotlib will then trigger a resize in the client,\n",
       "    // which will in turn request a refresh of the image.\n",
       "    this.send_message('resize', {'width': x_pixels, 'height': y_pixels});\n",
       "}\n",
       "\n",
       "mpl.figure.prototype.send_message = function(type, properties) {\n",
       "    properties['type'] = type;\n",
       "    properties['figure_id'] = this.id;\n",
       "    this.ws.send(JSON.stringify(properties));\n",
       "}\n",
       "\n",
       "mpl.figure.prototype.send_draw_message = function() {\n",
       "    if (!this.waiting) {\n",
       "        this.waiting = true;\n",
       "        this.ws.send(JSON.stringify({type: \"draw\", figure_id: this.id}));\n",
       "    }\n",
       "}\n",
       "\n",
       "\n",
       "mpl.figure.prototype.handle_save = function(fig, msg) {\n",
       "    var format_dropdown = fig.format_dropdown;\n",
       "    var format = format_dropdown.options[format_dropdown.selectedIndex].value;\n",
       "    fig.ondownload(fig, format);\n",
       "}\n",
       "\n",
       "\n",
       "mpl.figure.prototype.handle_resize = function(fig, msg) {\n",
       "    var size = msg['size'];\n",
       "    if (size[0] != fig.canvas.width || size[1] != fig.canvas.height) {\n",
       "        fig._resize_canvas(size[0], size[1]);\n",
       "        fig.send_message(\"refresh\", {});\n",
       "    };\n",
       "}\n",
       "\n",
       "mpl.figure.prototype.handle_rubberband = function(fig, msg) {\n",
       "    var x0 = msg['x0'] / mpl.ratio;\n",
       "    var y0 = (fig.canvas.height - msg['y0']) / mpl.ratio;\n",
       "    var x1 = msg['x1'] / mpl.ratio;\n",
       "    var y1 = (fig.canvas.height - msg['y1']) / mpl.ratio;\n",
       "    x0 = Math.floor(x0) + 0.5;\n",
       "    y0 = Math.floor(y0) + 0.5;\n",
       "    x1 = Math.floor(x1) + 0.5;\n",
       "    y1 = Math.floor(y1) + 0.5;\n",
       "    var min_x = Math.min(x0, x1);\n",
       "    var min_y = Math.min(y0, y1);\n",
       "    var width = Math.abs(x1 - x0);\n",
       "    var height = Math.abs(y1 - y0);\n",
       "\n",
       "    fig.rubberband_context.clearRect(\n",
       "        0, 0, fig.canvas.width, fig.canvas.height);\n",
       "\n",
       "    fig.rubberband_context.strokeRect(min_x, min_y, width, height);\n",
       "}\n",
       "\n",
       "mpl.figure.prototype.handle_figure_label = function(fig, msg) {\n",
       "    // Updates the figure title.\n",
       "    fig.header.textContent = msg['label'];\n",
       "}\n",
       "\n",
       "mpl.figure.prototype.handle_cursor = function(fig, msg) {\n",
       "    var cursor = msg['cursor'];\n",
       "    switch(cursor)\n",
       "    {\n",
       "    case 0:\n",
       "        cursor = 'pointer';\n",
       "        break;\n",
       "    case 1:\n",
       "        cursor = 'default';\n",
       "        break;\n",
       "    case 2:\n",
       "        cursor = 'crosshair';\n",
       "        break;\n",
       "    case 3:\n",
       "        cursor = 'move';\n",
       "        break;\n",
       "    }\n",
       "    fig.rubberband_canvas.style.cursor = cursor;\n",
       "}\n",
       "\n",
       "mpl.figure.prototype.handle_message = function(fig, msg) {\n",
       "    fig.message.textContent = msg['message'];\n",
       "}\n",
       "\n",
       "mpl.figure.prototype.handle_draw = function(fig, msg) {\n",
       "    // Request the server to send over a new figure.\n",
       "    fig.send_draw_message();\n",
       "}\n",
       "\n",
       "mpl.figure.prototype.handle_image_mode = function(fig, msg) {\n",
       "    fig.image_mode = msg['mode'];\n",
       "}\n",
       "\n",
       "mpl.figure.prototype.updated_canvas_event = function() {\n",
       "    // Called whenever the canvas gets updated.\n",
       "    this.send_message(\"ack\", {});\n",
       "}\n",
       "\n",
       "// A function to construct a web socket function for onmessage handling.\n",
       "// Called in the figure constructor.\n",
       "mpl.figure.prototype._make_on_message_function = function(fig) {\n",
       "    return function socket_on_message(evt) {\n",
       "        if (evt.data instanceof Blob) {\n",
       "            /* FIXME: We get \"Resource interpreted as Image but\n",
       "             * transferred with MIME type text/plain:\" errors on\n",
       "             * Chrome.  But how to set the MIME type?  It doesn't seem\n",
       "             * to be part of the websocket stream */\n",
       "            evt.data.type = \"image/png\";\n",
       "\n",
       "            /* Free the memory for the previous frames */\n",
       "            if (fig.imageObj.src) {\n",
       "                (window.URL || window.webkitURL).revokeObjectURL(\n",
       "                    fig.imageObj.src);\n",
       "            }\n",
       "\n",
       "            fig.imageObj.src = (window.URL || window.webkitURL).createObjectURL(\n",
       "                evt.data);\n",
       "            fig.updated_canvas_event();\n",
       "            fig.waiting = false;\n",
       "            return;\n",
       "        }\n",
       "        else if (typeof evt.data === 'string' && evt.data.slice(0, 21) == \"data:image/png;base64\") {\n",
       "            fig.imageObj.src = evt.data;\n",
       "            fig.updated_canvas_event();\n",
       "            fig.waiting = false;\n",
       "            return;\n",
       "        }\n",
       "\n",
       "        var msg = JSON.parse(evt.data);\n",
       "        var msg_type = msg['type'];\n",
       "\n",
       "        // Call the  \"handle_{type}\" callback, which takes\n",
       "        // the figure and JSON message as its only arguments.\n",
       "        try {\n",
       "            var callback = fig[\"handle_\" + msg_type];\n",
       "        } catch (e) {\n",
       "            console.log(\"No handler for the '\" + msg_type + \"' message type: \", msg);\n",
       "            return;\n",
       "        }\n",
       "\n",
       "        if (callback) {\n",
       "            try {\n",
       "                // console.log(\"Handling '\" + msg_type + \"' message: \", msg);\n",
       "                callback(fig, msg);\n",
       "            } catch (e) {\n",
       "                console.log(\"Exception inside the 'handler_\" + msg_type + \"' callback:\", e, e.stack, msg);\n",
       "            }\n",
       "        }\n",
       "    };\n",
       "}\n",
       "\n",
       "// from http://stackoverflow.com/questions/1114465/getting-mouse-location-in-canvas\n",
       "mpl.findpos = function(e) {\n",
       "    //this section is from http://www.quirksmode.org/js/events_properties.html\n",
       "    var targ;\n",
       "    if (!e)\n",
       "        e = window.event;\n",
       "    if (e.target)\n",
       "        targ = e.target;\n",
       "    else if (e.srcElement)\n",
       "        targ = e.srcElement;\n",
       "    if (targ.nodeType == 3) // defeat Safari bug\n",
       "        targ = targ.parentNode;\n",
       "\n",
       "    // jQuery normalizes the pageX and pageY\n",
       "    // pageX,Y are the mouse positions relative to the document\n",
       "    // offset() returns the position of the element relative to the document\n",
       "    var x = e.pageX - $(targ).offset().left;\n",
       "    var y = e.pageY - $(targ).offset().top;\n",
       "\n",
       "    return {\"x\": x, \"y\": y};\n",
       "};\n",
       "\n",
       "/*\n",
       " * return a copy of an object with only non-object keys\n",
       " * we need this to avoid circular references\n",
       " * http://stackoverflow.com/a/24161582/3208463\n",
       " */\n",
       "function simpleKeys (original) {\n",
       "  return Object.keys(original).reduce(function (obj, key) {\n",
       "    if (typeof original[key] !== 'object')\n",
       "        obj[key] = original[key]\n",
       "    return obj;\n",
       "  }, {});\n",
       "}\n",
       "\n",
       "mpl.figure.prototype.mouse_event = function(event, name) {\n",
       "    var canvas_pos = mpl.findpos(event)\n",
       "\n",
       "    if (name === 'button_press')\n",
       "    {\n",
       "        this.canvas.focus();\n",
       "        this.canvas_div.focus();\n",
       "    }\n",
       "\n",
       "    var x = canvas_pos.x * mpl.ratio;\n",
       "    var y = canvas_pos.y * mpl.ratio;\n",
       "\n",
       "    this.send_message(name, {x: x, y: y, button: event.button,\n",
       "                             step: event.step,\n",
       "                             guiEvent: simpleKeys(event)});\n",
       "\n",
       "    /* This prevents the web browser from automatically changing to\n",
       "     * the text insertion cursor when the button is pressed.  We want\n",
       "     * to control all of the cursor setting manually through the\n",
       "     * 'cursor' event from matplotlib */\n",
       "    event.preventDefault();\n",
       "    return false;\n",
       "}\n",
       "\n",
       "mpl.figure.prototype._key_event_extra = function(event, name) {\n",
       "    // Handle any extra behaviour associated with a key event\n",
       "}\n",
       "\n",
       "mpl.figure.prototype.key_event = function(event, name) {\n",
       "\n",
       "    // Prevent repeat events\n",
       "    if (name == 'key_press')\n",
       "    {\n",
       "        if (event.which === this._key)\n",
       "            return;\n",
       "        else\n",
       "            this._key = event.which;\n",
       "    }\n",
       "    if (name == 'key_release')\n",
       "        this._key = null;\n",
       "\n",
       "    var value = '';\n",
       "    if (event.ctrlKey && event.which != 17)\n",
       "        value += \"ctrl+\";\n",
       "    if (event.altKey && event.which != 18)\n",
       "        value += \"alt+\";\n",
       "    if (event.shiftKey && event.which != 16)\n",
       "        value += \"shift+\";\n",
       "\n",
       "    value += 'k';\n",
       "    value += event.which.toString();\n",
       "\n",
       "    this._key_event_extra(event, name);\n",
       "\n",
       "    this.send_message(name, {key: value,\n",
       "                             guiEvent: simpleKeys(event)});\n",
       "    return false;\n",
       "}\n",
       "\n",
       "mpl.figure.prototype.toolbar_button_onclick = function(name) {\n",
       "    if (name == 'download') {\n",
       "        this.handle_save(this, null);\n",
       "    } else {\n",
       "        this.send_message(\"toolbar_button\", {name: name});\n",
       "    }\n",
       "};\n",
       "\n",
       "mpl.figure.prototype.toolbar_button_onmouseover = function(tooltip) {\n",
       "    this.message.textContent = tooltip;\n",
       "};\n",
       "mpl.toolbar_items = [[\"Home\", \"Reset original view\", \"fa fa-home icon-home\", \"home\"], [\"Back\", \"Back to previous view\", \"fa fa-arrow-left icon-arrow-left\", \"back\"], [\"Forward\", \"Forward to next view\", \"fa fa-arrow-right icon-arrow-right\", \"forward\"], [\"\", \"\", \"\", \"\"], [\"Pan\", \"Pan axes with left mouse, zoom with right\", \"fa fa-arrows icon-move\", \"pan\"], [\"Zoom\", \"Zoom to rectangle\", \"fa fa-square-o icon-check-empty\", \"zoom\"], [\"\", \"\", \"\", \"\"], [\"Download\", \"Download plot\", \"fa fa-floppy-o icon-save\", \"download\"]];\n",
       "\n",
       "mpl.extensions = [\"eps\", \"jpeg\", \"pdf\", \"png\", \"ps\", \"raw\", \"svg\", \"tif\"];\n",
       "\n",
       "mpl.default_extension = \"png\";var comm_websocket_adapter = function(comm) {\n",
       "    // Create a \"websocket\"-like object which calls the given IPython comm\n",
       "    // object with the appropriate methods. Currently this is a non binary\n",
       "    // socket, so there is still some room for performance tuning.\n",
       "    var ws = {};\n",
       "\n",
       "    ws.close = function() {\n",
       "        comm.close()\n",
       "    };\n",
       "    ws.send = function(m) {\n",
       "        //console.log('sending', m);\n",
       "        comm.send(m);\n",
       "    };\n",
       "    // Register the callback with on_msg.\n",
       "    comm.on_msg(function(msg) {\n",
       "        //console.log('receiving', msg['content']['data'], msg);\n",
       "        // Pass the mpl event to the overridden (by mpl) onmessage function.\n",
       "        ws.onmessage(msg['content']['data'])\n",
       "    });\n",
       "    return ws;\n",
       "}\n",
       "\n",
       "mpl.mpl_figure_comm = function(comm, msg) {\n",
       "    // This is the function which gets called when the mpl process\n",
       "    // starts-up an IPython Comm through the \"matplotlib\" channel.\n",
       "\n",
       "    var id = msg.content.data.id;\n",
       "    // Get hold of the div created by the display call when the Comm\n",
       "    // socket was opened in Python.\n",
       "    var element = $(\"#\" + id);\n",
       "    var ws_proxy = comm_websocket_adapter(comm)\n",
       "\n",
       "    function ondownload(figure, format) {\n",
       "        window.open(figure.imageObj.src);\n",
       "    }\n",
       "\n",
       "    var fig = new mpl.figure(id, ws_proxy,\n",
       "                           ondownload,\n",
       "                           element.get(0));\n",
       "\n",
       "    // Call onopen now - mpl needs it, as it is assuming we've passed it a real\n",
       "    // web socket which is closed, not our websocket->open comm proxy.\n",
       "    ws_proxy.onopen();\n",
       "\n",
       "    fig.parent_element = element.get(0);\n",
       "    fig.cell_info = mpl.find_output_cell(\"<div id='\" + id + \"'></div>\");\n",
       "    if (!fig.cell_info) {\n",
       "        console.error(\"Failed to find cell for figure\", id, fig);\n",
       "        return;\n",
       "    }\n",
       "\n",
       "    var output_index = fig.cell_info[2]\n",
       "    var cell = fig.cell_info[0];\n",
       "\n",
       "};\n",
       "\n",
       "mpl.figure.prototype.handle_close = function(fig, msg) {\n",
       "    var width = fig.canvas.width/mpl.ratio\n",
       "    fig.root.unbind('remove')\n",
       "\n",
       "    // Update the output cell to use the data from the current canvas.\n",
       "    fig.push_to_output();\n",
       "    var dataURL = fig.canvas.toDataURL();\n",
       "    // Re-enable the keyboard manager in IPython - without this line, in FF,\n",
       "    // the notebook keyboard shortcuts fail.\n",
       "    IPython.keyboard_manager.enable()\n",
       "    $(fig.parent_element).html('<img src=\"' + dataURL + '\" width=\"' + width + '\">');\n",
       "    fig.close_ws(fig, msg);\n",
       "}\n",
       "\n",
       "mpl.figure.prototype.close_ws = function(fig, msg){\n",
       "    fig.send_message('closing', msg);\n",
       "    // fig.ws.close()\n",
       "}\n",
       "\n",
       "mpl.figure.prototype.push_to_output = function(remove_interactive) {\n",
       "    // Turn the data on the canvas into data in the output cell.\n",
       "    var width = this.canvas.width/mpl.ratio\n",
       "    var dataURL = this.canvas.toDataURL();\n",
       "    this.cell_info[1]['text/html'] = '<img src=\"' + dataURL + '\" width=\"' + width + '\">';\n",
       "}\n",
       "\n",
       "mpl.figure.prototype.updated_canvas_event = function() {\n",
       "    // Tell IPython that the notebook contents must change.\n",
       "    IPython.notebook.set_dirty(true);\n",
       "    this.send_message(\"ack\", {});\n",
       "    var fig = this;\n",
       "    // Wait a second, then push the new image to the DOM so\n",
       "    // that it is saved nicely (might be nice to debounce this).\n",
       "    setTimeout(function () { fig.push_to_output() }, 1000);\n",
       "}\n",
       "\n",
       "mpl.figure.prototype._init_toolbar = function() {\n",
       "    var fig = this;\n",
       "\n",
       "    var nav_element = $('<div/>')\n",
       "    nav_element.attr('style', 'width: 100%');\n",
       "    this.root.append(nav_element);\n",
       "\n",
       "    // Define a callback function for later on.\n",
       "    function toolbar_event(event) {\n",
       "        return fig.toolbar_button_onclick(event['data']);\n",
       "    }\n",
       "    function toolbar_mouse_event(event) {\n",
       "        return fig.toolbar_button_onmouseover(event['data']);\n",
       "    }\n",
       "\n",
       "    for(var toolbar_ind in mpl.toolbar_items){\n",
       "        var name = mpl.toolbar_items[toolbar_ind][0];\n",
       "        var tooltip = mpl.toolbar_items[toolbar_ind][1];\n",
       "        var image = mpl.toolbar_items[toolbar_ind][2];\n",
       "        var method_name = mpl.toolbar_items[toolbar_ind][3];\n",
       "\n",
       "        if (!name) { continue; };\n",
       "\n",
       "        var button = $('<button class=\"btn btn-default\" href=\"#\" title=\"' + name + '\"><i class=\"fa ' + image + ' fa-lg\"></i></button>');\n",
       "        button.click(method_name, toolbar_event);\n",
       "        button.mouseover(tooltip, toolbar_mouse_event);\n",
       "        nav_element.append(button);\n",
       "    }\n",
       "\n",
       "    // Add the status bar.\n",
       "    var status_bar = $('<span class=\"mpl-message\" style=\"text-align:right; float: right;\"/>');\n",
       "    nav_element.append(status_bar);\n",
       "    this.message = status_bar[0];\n",
       "\n",
       "    // Add the close button to the window.\n",
       "    var buttongrp = $('<div class=\"btn-group inline pull-right\"></div>');\n",
       "    var button = $('<button class=\"btn btn-mini btn-primary\" href=\"#\" title=\"Stop Interaction\"><i class=\"fa fa-power-off icon-remove icon-large\"></i></button>');\n",
       "    button.click(function (evt) { fig.handle_close(fig, {}); } );\n",
       "    button.mouseover('Stop Interaction', toolbar_mouse_event);\n",
       "    buttongrp.append(button);\n",
       "    var titlebar = this.root.find($('.ui-dialog-titlebar'));\n",
       "    titlebar.prepend(buttongrp);\n",
       "}\n",
       "\n",
       "mpl.figure.prototype._root_extra_style = function(el){\n",
       "    var fig = this\n",
       "    el.on(\"remove\", function(){\n",
       "\tfig.close_ws(fig, {});\n",
       "    });\n",
       "}\n",
       "\n",
       "mpl.figure.prototype._canvas_extra_style = function(el){\n",
       "    // this is important to make the div 'focusable\n",
       "    el.attr('tabindex', 0)\n",
       "    // reach out to IPython and tell the keyboard manager to turn it's self\n",
       "    // off when our div gets focus\n",
       "\n",
       "    // location in version 3\n",
       "    if (IPython.notebook.keyboard_manager) {\n",
       "        IPython.notebook.keyboard_manager.register_events(el);\n",
       "    }\n",
       "    else {\n",
       "        // location in version 2\n",
       "        IPython.keyboard_manager.register_events(el);\n",
       "    }\n",
       "\n",
       "}\n",
       "\n",
       "mpl.figure.prototype._key_event_extra = function(event, name) {\n",
       "    var manager = IPython.notebook.keyboard_manager;\n",
       "    if (!manager)\n",
       "        manager = IPython.keyboard_manager;\n",
       "\n",
       "    // Check for shift+enter\n",
       "    if (event.shiftKey && event.which == 13) {\n",
       "        this.canvas_div.blur();\n",
       "        event.shiftKey = false;\n",
       "        // Send a \"J\" for go to next cell\n",
       "        event.which = 74;\n",
       "        event.keyCode = 74;\n",
       "        manager.command_mode();\n",
       "        manager.handle_keydown(event);\n",
       "    }\n",
       "}\n",
       "\n",
       "mpl.figure.prototype.handle_save = function(fig, msg) {\n",
       "    fig.ondownload(fig, null);\n",
       "}\n",
       "\n",
       "\n",
       "mpl.find_output_cell = function(html_output) {\n",
       "    // Return the cell and output element which can be found *uniquely* in the notebook.\n",
       "    // Note - this is a bit hacky, but it is done because the \"notebook_saving.Notebook\"\n",
       "    // IPython event is triggered only after the cells have been serialised, which for\n",
       "    // our purposes (turning an active figure into a static one), is too late.\n",
       "    var cells = IPython.notebook.get_cells();\n",
       "    var ncells = cells.length;\n",
       "    for (var i=0; i<ncells; i++) {\n",
       "        var cell = cells[i];\n",
       "        if (cell.cell_type === 'code'){\n",
       "            for (var j=0; j<cell.output_area.outputs.length; j++) {\n",
       "                var data = cell.output_area.outputs[j];\n",
       "                if (data.data) {\n",
       "                    // IPython >= 3 moved mimebundle to data attribute of output\n",
       "                    data = data.data;\n",
       "                }\n",
       "                if (data['text/html'] == html_output) {\n",
       "                    return [cell, data, j];\n",
       "                }\n",
       "            }\n",
       "        }\n",
       "    }\n",
       "}\n",
       "\n",
       "// Register the function which deals with the matplotlib target/channel.\n",
       "// The kernel may be null if the page has been refreshed.\n",
       "if (IPython.notebook.kernel != null) {\n",
       "    IPython.notebook.kernel.comm_manager.register_target('matplotlib', mpl.mpl_figure_comm);\n",
       "}\n"
      ],
      "text/plain": [
       "<IPython.core.display.Javascript object>"
      ]
     },
     "metadata": {},
     "output_type": "display_data"
    },
    {
     "data": {
      "text/html": [
       "<img src=\"data:image/png;base64,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\" width=\"640\">"
      ],
      "text/plain": [
       "<IPython.core.display.HTML object>"
      ]
     },
     "metadata": {},
     "output_type": "display_data"
    },
    {
     "data": {
      "text/plain": [
       "<matplotlib.axes._subplots.AxesSubplot at 0x1cdd1e3a668>"
      ]
     },
     "execution_count": 148,
     "metadata": {},
     "output_type": "execute_result"
    }
   ],
   "source": [
    "close_px.rolling(60).mean().plot(logy=True)"
   ]
  },
  {
   "cell_type": "code",
   "execution_count": 149,
   "metadata": {},
   "outputs": [
    {
     "data": {
      "text/html": [
       "<div>\n",
       "<style scoped>\n",
       "    .dataframe tbody tr th:only-of-type {\n",
       "        vertical-align: middle;\n",
       "    }\n",
       "\n",
       "    .dataframe tbody tr th {\n",
       "        vertical-align: top;\n",
       "    }\n",
       "\n",
       "    .dataframe thead th {\n",
       "        text-align: right;\n",
       "    }\n",
       "</style>\n",
       "<table border=\"1\" class=\"dataframe\">\n",
       "  <thead>\n",
       "    <tr style=\"text-align: right;\">\n",
       "      <th></th>\n",
       "      <th>AAPL</th>\n",
       "      <th>MSFT</th>\n",
       "      <th>XOM</th>\n",
       "    </tr>\n",
       "  </thead>\n",
       "  <tbody>\n",
       "    <tr>\n",
       "      <th>2003-01-02</th>\n",
       "      <td>7.400000</td>\n",
       "      <td>21.110000</td>\n",
       "      <td>29.220000</td>\n",
       "    </tr>\n",
       "    <tr>\n",
       "      <th>2003-01-03</th>\n",
       "      <td>7.425000</td>\n",
       "      <td>21.125000</td>\n",
       "      <td>29.230000</td>\n",
       "    </tr>\n",
       "    <tr>\n",
       "      <th>2003-01-06</th>\n",
       "      <td>7.433333</td>\n",
       "      <td>21.256667</td>\n",
       "      <td>29.473333</td>\n",
       "    </tr>\n",
       "    <tr>\n",
       "      <th>2003-01-07</th>\n",
       "      <td>7.432500</td>\n",
       "      <td>21.425000</td>\n",
       "      <td>29.342500</td>\n",
       "    </tr>\n",
       "    <tr>\n",
       "      <th>2003-01-08</th>\n",
       "      <td>7.402000</td>\n",
       "      <td>21.402000</td>\n",
       "      <td>29.240000</td>\n",
       "    </tr>\n",
       "    <tr>\n",
       "      <th>2003-01-09</th>\n",
       "      <td>7.391667</td>\n",
       "      <td>21.490000</td>\n",
       "      <td>29.273333</td>\n",
       "    </tr>\n",
       "    <tr>\n",
       "      <th>2003-01-10</th>\n",
       "      <td>7.387143</td>\n",
       "      <td>21.558571</td>\n",
       "      <td>29.238571</td>\n",
       "    </tr>\n",
       "    <tr>\n",
       "      <th>2003-01-13</th>\n",
       "      <td>7.378750</td>\n",
       "      <td>21.633750</td>\n",
       "      <td>29.197500</td>\n",
       "    </tr>\n",
       "    <tr>\n",
       "      <th>2003-01-14</th>\n",
       "      <td>7.370000</td>\n",
       "      <td>21.717778</td>\n",
       "      <td>29.194444</td>\n",
       "    </tr>\n",
       "    <tr>\n",
       "      <th>2003-01-15</th>\n",
       "      <td>7.355000</td>\n",
       "      <td>21.757000</td>\n",
       "      <td>29.152000</td>\n",
       "    </tr>\n",
       "    <tr>\n",
       "      <th>2003-01-16</th>\n",
       "      <td>7.350909</td>\n",
       "      <td>21.756364</td>\n",
       "      <td>29.129091</td>\n",
       "    </tr>\n",
       "    <tr>\n",
       "      <th>2003-01-17</th>\n",
       "      <td>7.325833</td>\n",
       "      <td>21.628333</td>\n",
       "      <td>29.085000</td>\n",
       "    </tr>\n",
       "    <tr>\n",
       "      <th>2003-01-20</th>\n",
       "      <td>7.304615</td>\n",
       "      <td>21.520000</td>\n",
       "      <td>29.047692</td>\n",
       "    </tr>\n",
       "    <tr>\n",
       "      <th>2003-01-21</th>\n",
       "      <td>7.283571</td>\n",
       "      <td>21.423571</td>\n",
       "      <td>28.968571</td>\n",
       "    </tr>\n",
       "    <tr>\n",
       "      <th>2003-01-22</th>\n",
       "      <td>7.250714</td>\n",
       "      <td>21.347143</td>\n",
       "      <td>28.851429</td>\n",
       "    </tr>\n",
       "    <tr>\n",
       "      <th>2003-01-23</th>\n",
       "      <td>7.225000</td>\n",
       "      <td>21.304286</td>\n",
       "      <td>28.728571</td>\n",
       "    </tr>\n",
       "    <tr>\n",
       "      <th>2003-01-24</th>\n",
       "      <td>7.203333</td>\n",
       "      <td>21.190000</td>\n",
       "      <td>28.608667</td>\n",
       "    </tr>\n",
       "    <tr>\n",
       "      <th>2003-01-27</th>\n",
       "      <td>7.160000</td>\n",
       "      <td>20.980000</td>\n",
       "      <td>28.316429</td>\n",
       "    </tr>\n",
       "    <tr>\n",
       "      <th>2003-01-28</th>\n",
       "      <td>7.160714</td>\n",
       "      <td>20.827857</td>\n",
       "      <td>28.178571</td>\n",
       "    </tr>\n",
       "    <tr>\n",
       "      <th>2003-01-29</th>\n",
       "      <td>7.170000</td>\n",
       "      <td>20.662143</td>\n",
       "      <td>28.067143</td>\n",
       "    </tr>\n",
       "    <tr>\n",
       "      <th>2003-01-30</th>\n",
       "      <td>7.155714</td>\n",
       "      <td>20.446429</td>\n",
       "      <td>27.948571</td>\n",
       "    </tr>\n",
       "    <tr>\n",
       "      <th>2003-01-31</th>\n",
       "      <td>7.157333</td>\n",
       "      <td>20.326667</td>\n",
       "      <td>27.960667</td>\n",
       "    </tr>\n",
       "    <tr>\n",
       "      <th>2003-02-03</th>\n",
       "      <td>7.147857</td>\n",
       "      <td>19.959286</td>\n",
       "      <td>27.846429</td>\n",
       "    </tr>\n",
       "    <tr>\n",
       "      <th>2003-02-04</th>\n",
       "      <td>7.153571</td>\n",
       "      <td>19.707857</td>\n",
       "      <td>27.828571</td>\n",
       "    </tr>\n",
       "    <tr>\n",
       "      <th>2003-02-05</th>\n",
       "      <td>7.147143</td>\n",
       "      <td>19.472143</td>\n",
       "      <td>27.772143</td>\n",
       "    </tr>\n",
       "    <tr>\n",
       "      <th>2003-02-06</th>\n",
       "      <td>7.159286</td>\n",
       "      <td>19.358571</td>\n",
       "      <td>27.720000</td>\n",
       "    </tr>\n",
       "    <tr>\n",
       "      <th>2003-02-07</th>\n",
       "      <td>7.153333</td>\n",
       "      <td>19.288000</td>\n",
       "      <td>27.716000</td>\n",
       "    </tr>\n",
       "    <tr>\n",
       "      <th>2003-02-10</th>\n",
       "      <td>7.172857</td>\n",
       "      <td>19.110714</td>\n",
       "      <td>27.647857</td>\n",
       "    </tr>\n",
       "    <tr>\n",
       "      <th>2003-02-11</th>\n",
       "      <td>7.190000</td>\n",
       "      <td>18.982857</td>\n",
       "      <td>27.654286</td>\n",
       "    </tr>\n",
       "    <tr>\n",
       "      <th>2003-02-12</th>\n",
       "      <td>7.197857</td>\n",
       "      <td>18.819286</td>\n",
       "      <td>27.625714</td>\n",
       "    </tr>\n",
       "    <tr>\n",
       "      <th>...</th>\n",
       "      <td>...</td>\n",
       "      <td>...</td>\n",
       "      <td>...</td>\n",
       "    </tr>\n",
       "    <tr>\n",
       "      <th>2011-09-05</th>\n",
       "      <td>375.711429</td>\n",
       "      <td>25.276429</td>\n",
       "      <td>72.607857</td>\n",
       "    </tr>\n",
       "    <tr>\n",
       "      <th>2011-09-06</th>\n",
       "      <td>375.661429</td>\n",
       "      <td>25.295000</td>\n",
       "      <td>72.392857</td>\n",
       "    </tr>\n",
       "    <tr>\n",
       "      <th>2011-09-07</th>\n",
       "      <td>376.938571</td>\n",
       "      <td>25.390000</td>\n",
       "      <td>72.586429</td>\n",
       "    </tr>\n",
       "    <tr>\n",
       "      <th>2011-09-08</th>\n",
       "      <td>378.946429</td>\n",
       "      <td>25.545000</td>\n",
       "      <td>72.802143</td>\n",
       "    </tr>\n",
       "    <tr>\n",
       "      <th>2011-09-09</th>\n",
       "      <td>378.848667</td>\n",
       "      <td>25.558000</td>\n",
       "      <td>72.682667</td>\n",
       "    </tr>\n",
       "    <tr>\n",
       "      <th>2011-09-12</th>\n",
       "      <td>380.902143</td>\n",
       "      <td>25.754286</td>\n",
       "      <td>72.731429</td>\n",
       "    </tr>\n",
       "    <tr>\n",
       "      <th>2011-09-13</th>\n",
       "      <td>381.505000</td>\n",
       "      <td>25.835714</td>\n",
       "      <td>72.596429</td>\n",
       "    </tr>\n",
       "    <tr>\n",
       "      <th>2011-09-14</th>\n",
       "      <td>382.617857</td>\n",
       "      <td>25.973571</td>\n",
       "      <td>72.658571</td>\n",
       "    </tr>\n",
       "    <tr>\n",
       "      <th>2011-09-15</th>\n",
       "      <td>383.287857</td>\n",
       "      <td>26.097857</td>\n",
       "      <td>72.756429</td>\n",
       "    </tr>\n",
       "    <tr>\n",
       "      <th>2011-09-16</th>\n",
       "      <td>384.435333</td>\n",
       "      <td>26.166000</td>\n",
       "      <td>72.876000</td>\n",
       "    </tr>\n",
       "    <tr>\n",
       "      <th>2011-09-19</th>\n",
       "      <td>385.585714</td>\n",
       "      <td>26.259286</td>\n",
       "      <td>72.772143</td>\n",
       "    </tr>\n",
       "    <tr>\n",
       "      <th>2011-09-20</th>\n",
       "      <td>387.630000</td>\n",
       "      <td>26.286429</td>\n",
       "      <td>72.771429</td>\n",
       "    </tr>\n",
       "    <tr>\n",
       "      <th>2011-09-21</th>\n",
       "      <td>389.852143</td>\n",
       "      <td>26.270714</td>\n",
       "      <td>72.662857</td>\n",
       "    </tr>\n",
       "    <tr>\n",
       "      <th>2011-09-22</th>\n",
       "      <td>391.835714</td>\n",
       "      <td>26.217857</td>\n",
       "      <td>72.455714</td>\n",
       "    </tr>\n",
       "    <tr>\n",
       "      <th>2011-09-23</th>\n",
       "      <td>392.666667</td>\n",
       "      <td>26.140667</td>\n",
       "      <td>72.246000</td>\n",
       "    </tr>\n",
       "    <tr>\n",
       "      <th>2011-09-26</th>\n",
       "      <td>395.670000</td>\n",
       "      <td>26.160000</td>\n",
       "      <td>72.294286</td>\n",
       "    </tr>\n",
       "    <tr>\n",
       "      <th>2011-09-27</th>\n",
       "      <td>396.765000</td>\n",
       "      <td>26.136429</td>\n",
       "      <td>72.241429</td>\n",
       "    </tr>\n",
       "    <tr>\n",
       "      <th>2011-09-28</th>\n",
       "      <td>397.684286</td>\n",
       "      <td>26.090714</td>\n",
       "      <td>72.187857</td>\n",
       "    </tr>\n",
       "    <tr>\n",
       "      <th>2011-09-29</th>\n",
       "      <td>398.619286</td>\n",
       "      <td>26.070000</td>\n",
       "      <td>72.392857</td>\n",
       "    </tr>\n",
       "    <tr>\n",
       "      <th>2011-09-30</th>\n",
       "      <td>397.466000</td>\n",
       "      <td>25.991333</td>\n",
       "      <td>72.408667</td>\n",
       "    </tr>\n",
       "    <tr>\n",
       "      <th>2011-10-03</th>\n",
       "      <td>398.002143</td>\n",
       "      <td>25.890714</td>\n",
       "      <td>72.413571</td>\n",
       "    </tr>\n",
       "    <tr>\n",
       "      <th>2011-10-04</th>\n",
       "      <td>396.802143</td>\n",
       "      <td>25.807857</td>\n",
       "      <td>72.427143</td>\n",
       "    </tr>\n",
       "    <tr>\n",
       "      <th>2011-10-05</th>\n",
       "      <td>395.751429</td>\n",
       "      <td>25.729286</td>\n",
       "      <td>72.422857</td>\n",
       "    </tr>\n",
       "    <tr>\n",
       "      <th>2011-10-06</th>\n",
       "      <td>394.099286</td>\n",
       "      <td>25.673571</td>\n",
       "      <td>72.375714</td>\n",
       "    </tr>\n",
       "    <tr>\n",
       "      <th>2011-10-07</th>\n",
       "      <td>392.479333</td>\n",
       "      <td>25.712000</td>\n",
       "      <td>72.454667</td>\n",
       "    </tr>\n",
       "    <tr>\n",
       "      <th>2011-10-10</th>\n",
       "      <td>389.351429</td>\n",
       "      <td>25.602143</td>\n",
       "      <td>72.527857</td>\n",
       "    </tr>\n",
       "    <tr>\n",
       "      <th>2011-10-11</th>\n",
       "      <td>388.505000</td>\n",
       "      <td>25.674286</td>\n",
       "      <td>72.835000</td>\n",
       "    </tr>\n",
       "    <tr>\n",
       "      <th>2011-10-12</th>\n",
       "      <td>388.531429</td>\n",
       "      <td>25.810000</td>\n",
       "      <td>73.400714</td>\n",
       "    </tr>\n",
       "    <tr>\n",
       "      <th>2011-10-13</th>\n",
       "      <td>388.826429</td>\n",
       "      <td>25.961429</td>\n",
       "      <td>73.905000</td>\n",
       "    </tr>\n",
       "    <tr>\n",
       "      <th>2011-10-14</th>\n",
       "      <td>391.038000</td>\n",
       "      <td>26.048667</td>\n",
       "      <td>74.185333</td>\n",
       "    </tr>\n",
       "  </tbody>\n",
       "</table>\n",
       "<p>2292 rows × 3 columns</p>\n",
       "</div>"
      ],
      "text/plain": [
       "                  AAPL       MSFT        XOM\n",
       "2003-01-02    7.400000  21.110000  29.220000\n",
       "2003-01-03    7.425000  21.125000  29.230000\n",
       "2003-01-06    7.433333  21.256667  29.473333\n",
       "2003-01-07    7.432500  21.425000  29.342500\n",
       "2003-01-08    7.402000  21.402000  29.240000\n",
       "2003-01-09    7.391667  21.490000  29.273333\n",
       "2003-01-10    7.387143  21.558571  29.238571\n",
       "2003-01-13    7.378750  21.633750  29.197500\n",
       "2003-01-14    7.370000  21.717778  29.194444\n",
       "2003-01-15    7.355000  21.757000  29.152000\n",
       "2003-01-16    7.350909  21.756364  29.129091\n",
       "2003-01-17    7.325833  21.628333  29.085000\n",
       "2003-01-20    7.304615  21.520000  29.047692\n",
       "2003-01-21    7.283571  21.423571  28.968571\n",
       "2003-01-22    7.250714  21.347143  28.851429\n",
       "2003-01-23    7.225000  21.304286  28.728571\n",
       "2003-01-24    7.203333  21.190000  28.608667\n",
       "2003-01-27    7.160000  20.980000  28.316429\n",
       "2003-01-28    7.160714  20.827857  28.178571\n",
       "2003-01-29    7.170000  20.662143  28.067143\n",
       "2003-01-30    7.155714  20.446429  27.948571\n",
       "2003-01-31    7.157333  20.326667  27.960667\n",
       "2003-02-03    7.147857  19.959286  27.846429\n",
       "2003-02-04    7.153571  19.707857  27.828571\n",
       "2003-02-05    7.147143  19.472143  27.772143\n",
       "2003-02-06    7.159286  19.358571  27.720000\n",
       "2003-02-07    7.153333  19.288000  27.716000\n",
       "2003-02-10    7.172857  19.110714  27.647857\n",
       "2003-02-11    7.190000  18.982857  27.654286\n",
       "2003-02-12    7.197857  18.819286  27.625714\n",
       "...                ...        ...        ...\n",
       "2011-09-05  375.711429  25.276429  72.607857\n",
       "2011-09-06  375.661429  25.295000  72.392857\n",
       "2011-09-07  376.938571  25.390000  72.586429\n",
       "2011-09-08  378.946429  25.545000  72.802143\n",
       "2011-09-09  378.848667  25.558000  72.682667\n",
       "2011-09-12  380.902143  25.754286  72.731429\n",
       "2011-09-13  381.505000  25.835714  72.596429\n",
       "2011-09-14  382.617857  25.973571  72.658571\n",
       "2011-09-15  383.287857  26.097857  72.756429\n",
       "2011-09-16  384.435333  26.166000  72.876000\n",
       "2011-09-19  385.585714  26.259286  72.772143\n",
       "2011-09-20  387.630000  26.286429  72.771429\n",
       "2011-09-21  389.852143  26.270714  72.662857\n",
       "2011-09-22  391.835714  26.217857  72.455714\n",
       "2011-09-23  392.666667  26.140667  72.246000\n",
       "2011-09-26  395.670000  26.160000  72.294286\n",
       "2011-09-27  396.765000  26.136429  72.241429\n",
       "2011-09-28  397.684286  26.090714  72.187857\n",
       "2011-09-29  398.619286  26.070000  72.392857\n",
       "2011-09-30  397.466000  25.991333  72.408667\n",
       "2011-10-03  398.002143  25.890714  72.413571\n",
       "2011-10-04  396.802143  25.807857  72.427143\n",
       "2011-10-05  395.751429  25.729286  72.422857\n",
       "2011-10-06  394.099286  25.673571  72.375714\n",
       "2011-10-07  392.479333  25.712000  72.454667\n",
       "2011-10-10  389.351429  25.602143  72.527857\n",
       "2011-10-11  388.505000  25.674286  72.835000\n",
       "2011-10-12  388.531429  25.810000  73.400714\n",
       "2011-10-13  388.826429  25.961429  73.905000\n",
       "2011-10-14  391.038000  26.048667  74.185333\n",
       "\n",
       "[2292 rows x 3 columns]"
      ]
     },
     "execution_count": 149,
     "metadata": {},
     "output_type": "execute_result"
    }
   ],
   "source": [
    "close_px.rolling('20D').mean()"
   ]
  },
  {
   "cell_type": "markdown",
   "metadata": {},
   "source": [
    "- 指数加权函数"
   ]
  },
  {
   "cell_type": "markdown",
   "metadata": {},
   "source": [
    "- 二元移动窗口函数"
   ]
  },
  {
   "cell_type": "markdown",
   "metadata": {},
   "source": [
    "# 第12章 高阶pandas"
   ]
  },
  {
   "cell_type": "markdown",
   "metadata": {},
   "source": [
    "## 分类数据"
   ]
  },
  {
   "cell_type": "code",
   "execution_count": 1,
   "metadata": {},
   "outputs": [],
   "source": [
    "import pandas as pd\n",
    "import numpy as np"
   ]
  },
  {
   "cell_type": "code",
   "execution_count": 2,
   "metadata": {},
   "outputs": [],
   "source": [
    "values = pd.Series(['apple','orange','apple','apple']*2)"
   ]
  },
  {
   "cell_type": "code",
   "execution_count": 3,
   "metadata": {},
   "outputs": [
    {
     "data": {
      "text/plain": [
       "0     apple\n",
       "1    orange\n",
       "2     apple\n",
       "3     apple\n",
       "4     apple\n",
       "5    orange\n",
       "6     apple\n",
       "7     apple\n",
       "dtype: object"
      ]
     },
     "execution_count": 3,
     "metadata": {},
     "output_type": "execute_result"
    }
   ],
   "source": [
    "values"
   ]
  },
  {
   "cell_type": "code",
   "execution_count": 4,
   "metadata": {},
   "outputs": [
    {
     "data": {
      "text/plain": [
       "array(['apple', 'orange'], dtype=object)"
      ]
     },
     "execution_count": 4,
     "metadata": {},
     "output_type": "execute_result"
    }
   ],
   "source": [
    "pd.unique(values)"
   ]
  },
  {
   "cell_type": "code",
   "execution_count": 5,
   "metadata": {},
   "outputs": [
    {
     "data": {
      "text/plain": [
       "apple     6\n",
       "orange    2\n",
       "dtype: int64"
      ]
     },
     "execution_count": 5,
     "metadata": {},
     "output_type": "execute_result"
    }
   ],
   "source": [
    "pd.value_counts(values)"
   ]
  },
  {
   "cell_type": "code",
   "execution_count": 6,
   "metadata": {},
   "outputs": [],
   "source": [
    "values = pd.Series([0,1,0,0]*2)"
   ]
  },
  {
   "cell_type": "code",
   "execution_count": 7,
   "metadata": {},
   "outputs": [],
   "source": [
    "dim = pd.Series(['apple','orange'])"
   ]
  },
  {
   "cell_type": "code",
   "execution_count": 8,
   "metadata": {},
   "outputs": [
    {
     "data": {
      "text/plain": [
       "0    0\n",
       "1    1\n",
       "2    0\n",
       "3    0\n",
       "4    0\n",
       "5    1\n",
       "6    0\n",
       "7    0\n",
       "dtype: int64"
      ]
     },
     "execution_count": 8,
     "metadata": {},
     "output_type": "execute_result"
    }
   ],
   "source": [
    "values"
   ]
  },
  {
   "cell_type": "code",
   "execution_count": 9,
   "metadata": {},
   "outputs": [
    {
     "data": {
      "text/plain": [
       "0     apple\n",
       "1    orange\n",
       "0     apple\n",
       "0     apple\n",
       "0     apple\n",
       "1    orange\n",
       "0     apple\n",
       "0     apple\n",
       "dtype: object"
      ]
     },
     "execution_count": 9,
     "metadata": {},
     "output_type": "execute_result"
    }
   ],
   "source": [
    "dim.take(values)"
   ]
  },
  {
   "cell_type": "markdown",
   "metadata": {},
   "source": [
    "- pandas中的Categorical类型"
   ]
  },
  {
   "cell_type": "code",
   "execution_count": 10,
   "metadata": {},
   "outputs": [],
   "source": [
    "fruits = ['apple','orange','apple','apple']*2"
   ]
  },
  {
   "cell_type": "code",
   "execution_count": 11,
   "metadata": {},
   "outputs": [],
   "source": [
    "N = len(fruits)"
   ]
  },
  {
   "cell_type": "code",
   "execution_count": 13,
   "metadata": {},
   "outputs": [],
   "source": [
    "df = pd.DataFrame({'fruit':fruits,\n",
    "                  'basket_id':np.arange(N),\n",
    "                  'count':np.random.randint(3,15,size=N),\n",
    "                  'weight':np.random.uniform(0,4,size=N)},\n",
    "                  columns=['basket_id','fruit','count','weight'])"
   ]
  },
  {
   "cell_type": "code",
   "execution_count": 14,
   "metadata": {},
   "outputs": [
    {
     "data": {
      "text/html": [
       "<div>\n",
       "<style scoped>\n",
       "    .dataframe tbody tr th:only-of-type {\n",
       "        vertical-align: middle;\n",
       "    }\n",
       "\n",
       "    .dataframe tbody tr th {\n",
       "        vertical-align: top;\n",
       "    }\n",
       "\n",
       "    .dataframe thead th {\n",
       "        text-align: right;\n",
       "    }\n",
       "</style>\n",
       "<table border=\"1\" class=\"dataframe\">\n",
       "  <thead>\n",
       "    <tr style=\"text-align: right;\">\n",
       "      <th></th>\n",
       "      <th>basket_id</th>\n",
       "      <th>fruit</th>\n",
       "      <th>count</th>\n",
       "      <th>weight</th>\n",
       "    </tr>\n",
       "  </thead>\n",
       "  <tbody>\n",
       "    <tr>\n",
       "      <th>0</th>\n",
       "      <td>0</td>\n",
       "      <td>apple</td>\n",
       "      <td>12</td>\n",
       "      <td>0.132259</td>\n",
       "    </tr>\n",
       "    <tr>\n",
       "      <th>1</th>\n",
       "      <td>1</td>\n",
       "      <td>orange</td>\n",
       "      <td>11</td>\n",
       "      <td>3.900133</td>\n",
       "    </tr>\n",
       "    <tr>\n",
       "      <th>2</th>\n",
       "      <td>2</td>\n",
       "      <td>apple</td>\n",
       "      <td>13</td>\n",
       "      <td>2.863578</td>\n",
       "    </tr>\n",
       "    <tr>\n",
       "      <th>3</th>\n",
       "      <td>3</td>\n",
       "      <td>apple</td>\n",
       "      <td>5</td>\n",
       "      <td>0.877861</td>\n",
       "    </tr>\n",
       "    <tr>\n",
       "      <th>4</th>\n",
       "      <td>4</td>\n",
       "      <td>apple</td>\n",
       "      <td>10</td>\n",
       "      <td>3.830429</td>\n",
       "    </tr>\n",
       "    <tr>\n",
       "      <th>5</th>\n",
       "      <td>5</td>\n",
       "      <td>orange</td>\n",
       "      <td>5</td>\n",
       "      <td>1.080759</td>\n",
       "    </tr>\n",
       "    <tr>\n",
       "      <th>6</th>\n",
       "      <td>6</td>\n",
       "      <td>apple</td>\n",
       "      <td>6</td>\n",
       "      <td>0.491930</td>\n",
       "    </tr>\n",
       "    <tr>\n",
       "      <th>7</th>\n",
       "      <td>7</td>\n",
       "      <td>apple</td>\n",
       "      <td>10</td>\n",
       "      <td>3.477169</td>\n",
       "    </tr>\n",
       "  </tbody>\n",
       "</table>\n",
       "</div>"
      ],
      "text/plain": [
       "   basket_id   fruit  count    weight\n",
       "0          0   apple     12  0.132259\n",
       "1          1  orange     11  3.900133\n",
       "2          2   apple     13  2.863578\n",
       "3          3   apple      5  0.877861\n",
       "4          4   apple     10  3.830429\n",
       "5          5  orange      5  1.080759\n",
       "6          6   apple      6  0.491930\n",
       "7          7   apple     10  3.477169"
      ]
     },
     "execution_count": 14,
     "metadata": {},
     "output_type": "execute_result"
    }
   ],
   "source": [
    "df"
   ]
  },
  {
   "cell_type": "code",
   "execution_count": 15,
   "metadata": {},
   "outputs": [],
   "source": [
    "fruit_cat = df['fruit'].astype('category')"
   ]
  },
  {
   "cell_type": "code",
   "execution_count": 16,
   "metadata": {},
   "outputs": [
    {
     "data": {
      "text/plain": [
       "0     apple\n",
       "1    orange\n",
       "2     apple\n",
       "3     apple\n",
       "4     apple\n",
       "5    orange\n",
       "6     apple\n",
       "7     apple\n",
       "Name: fruit, dtype: category\n",
       "Categories (2, object): [apple, orange]"
      ]
     },
     "execution_count": 16,
     "metadata": {},
     "output_type": "execute_result"
    }
   ],
   "source": [
    "fruit_cat"
   ]
  },
  {
   "cell_type": "code",
   "execution_count": 17,
   "metadata": {},
   "outputs": [],
   "source": [
    "c  = fruit_cat.values"
   ]
  },
  {
   "cell_type": "code",
   "execution_count": 18,
   "metadata": {},
   "outputs": [
    {
     "data": {
      "text/plain": [
       "pandas.core.arrays.categorical.Categorical"
      ]
     },
     "execution_count": 18,
     "metadata": {},
     "output_type": "execute_result"
    }
   ],
   "source": [
    "type(c)"
   ]
  },
  {
   "cell_type": "code",
   "execution_count": 19,
   "metadata": {},
   "outputs": [
    {
     "data": {
      "text/plain": [
       "Index(['apple', 'orange'], dtype='object')"
      ]
     },
     "execution_count": 19,
     "metadata": {},
     "output_type": "execute_result"
    }
   ],
   "source": [
    "c.categories"
   ]
  },
  {
   "cell_type": "code",
   "execution_count": 20,
   "metadata": {},
   "outputs": [
    {
     "data": {
      "text/plain": [
       "array([0, 1, 0, 0, 0, 1, 0, 0], dtype=int8)"
      ]
     },
     "execution_count": 20,
     "metadata": {},
     "output_type": "execute_result"
    }
   ],
   "source": [
    "c.codes"
   ]
  },
  {
   "cell_type": "code",
   "execution_count": 21,
   "metadata": {},
   "outputs": [],
   "source": [
    "df['fruit']= df['fruit'].astype('category')"
   ]
  },
  {
   "cell_type": "code",
   "execution_count": 22,
   "metadata": {},
   "outputs": [
    {
     "data": {
      "text/plain": [
       "0     apple\n",
       "1    orange\n",
       "2     apple\n",
       "3     apple\n",
       "4     apple\n",
       "5    orange\n",
       "6     apple\n",
       "7     apple\n",
       "Name: fruit, dtype: category\n",
       "Categories (2, object): [apple, orange]"
      ]
     },
     "execution_count": 22,
     "metadata": {},
     "output_type": "execute_result"
    }
   ],
   "source": [
    "df.fruit"
   ]
  },
  {
   "cell_type": "code",
   "execution_count": 23,
   "metadata": {},
   "outputs": [],
   "source": [
    "my_categories = pd.Categorical(['foo','bar','baz','foo','bar'])"
   ]
  },
  {
   "cell_type": "code",
   "execution_count": 24,
   "metadata": {},
   "outputs": [
    {
     "data": {
      "text/plain": [
       "[foo, bar, baz, foo, bar]\n",
       "Categories (3, object): [bar, baz, foo]"
      ]
     },
     "execution_count": 24,
     "metadata": {},
     "output_type": "execute_result"
    }
   ],
   "source": [
    "my_categories"
   ]
  },
  {
   "cell_type": "code",
   "execution_count": 25,
   "metadata": {},
   "outputs": [],
   "source": [
    "categories = ['foo','bar','baz']"
   ]
  },
  {
   "cell_type": "code",
   "execution_count": 26,
   "metadata": {},
   "outputs": [],
   "source": [
    "codes = [0,1,2,0,0,1]"
   ]
  },
  {
   "cell_type": "code",
   "execution_count": 27,
   "metadata": {},
   "outputs": [],
   "source": [
    "my_cats_2 = pd.Categorical.from_codes(codes,categories)"
   ]
  },
  {
   "cell_type": "code",
   "execution_count": 28,
   "metadata": {},
   "outputs": [
    {
     "data": {
      "text/plain": [
       "[foo, bar, baz, foo, foo, bar]\n",
       "Categories (3, object): [foo, bar, baz]"
      ]
     },
     "execution_count": 28,
     "metadata": {},
     "output_type": "execute_result"
    }
   ],
   "source": [
    "my_cats_2"
   ]
  },
  {
   "cell_type": "code",
   "execution_count": 29,
   "metadata": {},
   "outputs": [],
   "source": [
    "ordered_cat = pd.Categorical.from_codes(codes,categories,ordered=True)"
   ]
  },
  {
   "cell_type": "code",
   "execution_count": 30,
   "metadata": {},
   "outputs": [
    {
     "data": {
      "text/plain": [
       "[foo, bar, baz, foo, foo, bar]\n",
       "Categories (3, object): [foo < bar < baz]"
      ]
     },
     "execution_count": 30,
     "metadata": {},
     "output_type": "execute_result"
    }
   ],
   "source": [
    "ordered_cat"
   ]
  },
  {
   "cell_type": "code",
   "execution_count": 31,
   "metadata": {},
   "outputs": [
    {
     "data": {
      "text/plain": [
       "<bound method Categorical.as_ordered of [foo, bar, baz, foo, foo, bar]\n",
       "Categories (3, object): [foo, bar, baz]>"
      ]
     },
     "execution_count": 31,
     "metadata": {},
     "output_type": "execute_result"
    }
   ],
   "source": [
    "my_cats_2.as_ordered"
   ]
  },
  {
   "cell_type": "markdown",
   "metadata": {},
   "source": [
    "- 使用Categorical对象进行计算"
   ]
  },
  {
   "cell_type": "code",
   "execution_count": 33,
   "metadata": {},
   "outputs": [],
   "source": [
    "np.random.seed(12345)"
   ]
  },
  {
   "cell_type": "code",
   "execution_count": 34,
   "metadata": {},
   "outputs": [],
   "source": [
    "draws = np.random.randn(1000)"
   ]
  },
  {
   "cell_type": "code",
   "execution_count": 36,
   "metadata": {},
   "outputs": [
    {
     "data": {
      "text/plain": [
       "array([-0.20470766,  0.47894334, -0.51943872, -0.5557303 ,  1.96578057])"
      ]
     },
     "execution_count": 36,
     "metadata": {},
     "output_type": "execute_result"
    }
   ],
   "source": [
    "draws[:5]"
   ]
  },
  {
   "cell_type": "code",
   "execution_count": 37,
   "metadata": {},
   "outputs": [],
   "source": [
    "bins = pd.qcut(draws,4)"
   ]
  },
  {
   "cell_type": "code",
   "execution_count": 38,
   "metadata": {},
   "outputs": [
    {
     "data": {
      "text/plain": [
       "[(-0.684, -0.0101], (-0.0101, 0.63], (-0.684, -0.0101], (-0.684, -0.0101], (0.63, 3.928], ..., (-0.0101, 0.63], (-0.684, -0.0101], (-2.9499999999999997, -0.684], (-0.0101, 0.63], (0.63, 3.928]]\n",
       "Length: 1000\n",
       "Categories (4, interval[float64]): [(-2.9499999999999997, -0.684] < (-0.684, -0.0101] < (-0.0101, 0.63] < (0.63, 3.928]]"
      ]
     },
     "execution_count": 38,
     "metadata": {},
     "output_type": "execute_result"
    }
   ],
   "source": [
    "bins"
   ]
  },
  {
   "cell_type": "code",
   "execution_count": 39,
   "metadata": {},
   "outputs": [],
   "source": [
    "bins = pd.qcut(draws,4,labels = ['Q1','Q2','Q3','Q4'])"
   ]
  },
  {
   "cell_type": "code",
   "execution_count": 40,
   "metadata": {},
   "outputs": [
    {
     "data": {
      "text/plain": [
       "[Q2, Q3, Q2, Q2, Q4, ..., Q3, Q2, Q1, Q3, Q4]\n",
       "Length: 1000\n",
       "Categories (4, object): [Q1 < Q2 < Q3 < Q4]"
      ]
     },
     "execution_count": 40,
     "metadata": {},
     "output_type": "execute_result"
    }
   ],
   "source": [
    "bins"
   ]
  },
  {
   "cell_type": "code",
   "execution_count": 41,
   "metadata": {},
   "outputs": [
    {
     "data": {
      "text/plain": [
       "array([1, 2, 1, 1, 3, 3, 2, 2, 3, 3], dtype=int8)"
      ]
     },
     "execution_count": 41,
     "metadata": {},
     "output_type": "execute_result"
    }
   ],
   "source": [
    "bins.codes[:10]"
   ]
  },
  {
   "cell_type": "code",
   "execution_count": 42,
   "metadata": {},
   "outputs": [],
   "source": [
    "bins = pd.Series(bins,name='quartile')"
   ]
  },
  {
   "cell_type": "code",
   "execution_count": 44,
   "metadata": {},
   "outputs": [],
   "source": [
    "results =(pd.Series(draws)\n",
    "         .groupby(bins)\n",
    "         .agg(['count','min','max'])\n",
    "         .reset_index())"
   ]
  },
  {
   "cell_type": "code",
   "execution_count": 45,
   "metadata": {},
   "outputs": [
    {
     "data": {
      "text/html": [
       "<div>\n",
       "<style scoped>\n",
       "    .dataframe tbody tr th:only-of-type {\n",
       "        vertical-align: middle;\n",
       "    }\n",
       "\n",
       "    .dataframe tbody tr th {\n",
       "        vertical-align: top;\n",
       "    }\n",
       "\n",
       "    .dataframe thead th {\n",
       "        text-align: right;\n",
       "    }\n",
       "</style>\n",
       "<table border=\"1\" class=\"dataframe\">\n",
       "  <thead>\n",
       "    <tr style=\"text-align: right;\">\n",
       "      <th></th>\n",
       "      <th>quartile</th>\n",
       "      <th>count</th>\n",
       "      <th>min</th>\n",
       "      <th>max</th>\n",
       "    </tr>\n",
       "  </thead>\n",
       "  <tbody>\n",
       "    <tr>\n",
       "      <th>0</th>\n",
       "      <td>Q1</td>\n",
       "      <td>250</td>\n",
       "      <td>-2.949343</td>\n",
       "      <td>-0.685484</td>\n",
       "    </tr>\n",
       "    <tr>\n",
       "      <th>1</th>\n",
       "      <td>Q2</td>\n",
       "      <td>250</td>\n",
       "      <td>-0.683066</td>\n",
       "      <td>-0.010115</td>\n",
       "    </tr>\n",
       "    <tr>\n",
       "      <th>2</th>\n",
       "      <td>Q3</td>\n",
       "      <td>250</td>\n",
       "      <td>-0.010032</td>\n",
       "      <td>0.628894</td>\n",
       "    </tr>\n",
       "    <tr>\n",
       "      <th>3</th>\n",
       "      <td>Q4</td>\n",
       "      <td>250</td>\n",
       "      <td>0.634238</td>\n",
       "      <td>3.927528</td>\n",
       "    </tr>\n",
       "  </tbody>\n",
       "</table>\n",
       "</div>"
      ],
      "text/plain": [
       "  quartile  count       min       max\n",
       "0       Q1    250 -2.949343 -0.685484\n",
       "1       Q2    250 -0.683066 -0.010115\n",
       "2       Q3    250 -0.010032  0.628894\n",
       "3       Q4    250  0.634238  3.927528"
      ]
     },
     "execution_count": 45,
     "metadata": {},
     "output_type": "execute_result"
    }
   ],
   "source": [
    "results"
   ]
  },
  {
   "cell_type": "code",
   "execution_count": 46,
   "metadata": {},
   "outputs": [],
   "source": [
    "# 使用分类获得更高的性能\n",
    "N = 10000000\n",
    "draws = pd.Series(np.random.randn(N))\n",
    "labels = pd.Series(['foo','bar','baz','qux']*(N//4))"
   ]
  },
  {
   "cell_type": "code",
   "execution_count": 48,
   "metadata": {},
   "outputs": [],
   "source": [
    "categories = labels.astype('category')"
   ]
  },
  {
   "cell_type": "code",
   "execution_count": 49,
   "metadata": {},
   "outputs": [
    {
     "data": {
      "text/plain": [
       "80000080"
      ]
     },
     "execution_count": 49,
     "metadata": {},
     "output_type": "execute_result"
    }
   ],
   "source": [
    "labels.memory_usage()"
   ]
  },
  {
   "cell_type": "code",
   "execution_count": 50,
   "metadata": {},
   "outputs": [
    {
     "data": {
      "text/plain": [
       "10000272"
      ]
     },
     "execution_count": 50,
     "metadata": {},
     "output_type": "execute_result"
    }
   ],
   "source": [
    "categories.memory_usage()"
   ]
  },
  {
   "cell_type": "code",
   "execution_count": 51,
   "metadata": {},
   "outputs": [
    {
     "name": "stdout",
     "output_type": "stream",
     "text": [
      "Wall time: 857 ms\n"
     ]
    }
   ],
   "source": [
    "%time _= labels.astype('category')"
   ]
  },
  {
   "cell_type": "markdown",
   "metadata": {},
   "source": [
    "- 分类方法"
   ]
  },
  {
   "cell_type": "code",
   "execution_count": 52,
   "metadata": {},
   "outputs": [],
   "source": [
    "s =  pd.Series(['a','b','c','d']*2)"
   ]
  },
  {
   "cell_type": "code",
   "execution_count": 53,
   "metadata": {},
   "outputs": [],
   "source": [
    "cat_s = s.astype('category')"
   ]
  },
  {
   "cell_type": "code",
   "execution_count": 54,
   "metadata": {},
   "outputs": [
    {
     "data": {
      "text/plain": [
       "0    a\n",
       "1    b\n",
       "2    c\n",
       "3    d\n",
       "4    a\n",
       "5    b\n",
       "6    c\n",
       "7    d\n",
       "dtype: category\n",
       "Categories (4, object): [a, b, c, d]"
      ]
     },
     "execution_count": 54,
     "metadata": {},
     "output_type": "execute_result"
    }
   ],
   "source": [
    "cat_s"
   ]
  },
  {
   "cell_type": "code",
   "execution_count": 55,
   "metadata": {},
   "outputs": [
    {
     "data": {
      "text/plain": [
       "0    0\n",
       "1    1\n",
       "2    2\n",
       "3    3\n",
       "4    0\n",
       "5    1\n",
       "6    2\n",
       "7    3\n",
       "dtype: int8"
      ]
     },
     "execution_count": 55,
     "metadata": {},
     "output_type": "execute_result"
    }
   ],
   "source": [
    "cat_s.cat.codes"
   ]
  },
  {
   "cell_type": "code",
   "execution_count": 56,
   "metadata": {},
   "outputs": [],
   "source": [
    "actual_categories = ['a','b','c','d','e']"
   ]
  },
  {
   "cell_type": "code",
   "execution_count": 57,
   "metadata": {},
   "outputs": [],
   "source": [
    "cat_s2 =cat_s.cat.set_categories(actual_categories)"
   ]
  },
  {
   "cell_type": "code",
   "execution_count": 58,
   "metadata": {},
   "outputs": [
    {
     "data": {
      "text/plain": [
       "0    a\n",
       "1    b\n",
       "2    c\n",
       "3    d\n",
       "4    a\n",
       "5    b\n",
       "6    c\n",
       "7    d\n",
       "dtype: category\n",
       "Categories (5, object): [a, b, c, d, e]"
      ]
     },
     "execution_count": 58,
     "metadata": {},
     "output_type": "execute_result"
    }
   ],
   "source": [
    "cat_s2"
   ]
  },
  {
   "cell_type": "code",
   "execution_count": 59,
   "metadata": {},
   "outputs": [
    {
     "data": {
      "text/plain": [
       "d    2\n",
       "c    2\n",
       "b    2\n",
       "a    2\n",
       "dtype: int64"
      ]
     },
     "execution_count": 59,
     "metadata": {},
     "output_type": "execute_result"
    }
   ],
   "source": [
    "cat_s.value_counts()"
   ]
  },
  {
   "cell_type": "code",
   "execution_count": 61,
   "metadata": {},
   "outputs": [
    {
     "data": {
      "text/plain": [
       "d    2\n",
       "c    2\n",
       "b    2\n",
       "a    2\n",
       "e    0\n",
       "dtype: int64"
      ]
     },
     "execution_count": 61,
     "metadata": {},
     "output_type": "execute_result"
    }
   ],
   "source": [
    "cat_s2.value_counts()"
   ]
  },
  {
   "cell_type": "code",
   "execution_count": 62,
   "metadata": {},
   "outputs": [],
   "source": [
    "cat_s3 = cat_s[cat_s.isin(['a','b'])]"
   ]
  },
  {
   "cell_type": "code",
   "execution_count": 63,
   "metadata": {},
   "outputs": [
    {
     "data": {
      "text/plain": [
       "0    a\n",
       "1    b\n",
       "4    a\n",
       "5    b\n",
       "dtype: category\n",
       "Categories (4, object): [a, b, c, d]"
      ]
     },
     "execution_count": 63,
     "metadata": {},
     "output_type": "execute_result"
    }
   ],
   "source": [
    "cat_s3"
   ]
  },
  {
   "cell_type": "code",
   "execution_count": 64,
   "metadata": {},
   "outputs": [
    {
     "data": {
      "text/plain": [
       "0    a\n",
       "1    b\n",
       "4    a\n",
       "5    b\n",
       "dtype: category\n",
       "Categories (2, object): [a, b]"
      ]
     },
     "execution_count": 64,
     "metadata": {},
     "output_type": "execute_result"
    }
   ],
   "source": [
    "cat_s3.cat.remove_unused_categories()"
   ]
  },
  {
   "cell_type": "markdown",
   "metadata": {},
   "source": [
    "## 高阶GroupBy应用"
   ]
  },
  {
   "cell_type": "markdown",
   "metadata": {},
   "source": [
    "- 分组转换和“展开”GroupBy"
   ]
  },
  {
   "cell_type": "code",
   "execution_count": 65,
   "metadata": {},
   "outputs": [],
   "source": [
    "df = pd.DataFrame({'key':['a','b','c']*4,\n",
    "                  'value':np.arange(12.)})"
   ]
  },
  {
   "cell_type": "code",
   "execution_count": 66,
   "metadata": {},
   "outputs": [
    {
     "data": {
      "text/html": [
       "<div>\n",
       "<style scoped>\n",
       "    .dataframe tbody tr th:only-of-type {\n",
       "        vertical-align: middle;\n",
       "    }\n",
       "\n",
       "    .dataframe tbody tr th {\n",
       "        vertical-align: top;\n",
       "    }\n",
       "\n",
       "    .dataframe thead th {\n",
       "        text-align: right;\n",
       "    }\n",
       "</style>\n",
       "<table border=\"1\" class=\"dataframe\">\n",
       "  <thead>\n",
       "    <tr style=\"text-align: right;\">\n",
       "      <th></th>\n",
       "      <th>key</th>\n",
       "      <th>value</th>\n",
       "    </tr>\n",
       "  </thead>\n",
       "  <tbody>\n",
       "    <tr>\n",
       "      <th>0</th>\n",
       "      <td>a</td>\n",
       "      <td>0.0</td>\n",
       "    </tr>\n",
       "    <tr>\n",
       "      <th>1</th>\n",
       "      <td>b</td>\n",
       "      <td>1.0</td>\n",
       "    </tr>\n",
       "    <tr>\n",
       "      <th>2</th>\n",
       "      <td>c</td>\n",
       "      <td>2.0</td>\n",
       "    </tr>\n",
       "    <tr>\n",
       "      <th>3</th>\n",
       "      <td>a</td>\n",
       "      <td>3.0</td>\n",
       "    </tr>\n",
       "    <tr>\n",
       "      <th>4</th>\n",
       "      <td>b</td>\n",
       "      <td>4.0</td>\n",
       "    </tr>\n",
       "    <tr>\n",
       "      <th>5</th>\n",
       "      <td>c</td>\n",
       "      <td>5.0</td>\n",
       "    </tr>\n",
       "    <tr>\n",
       "      <th>6</th>\n",
       "      <td>a</td>\n",
       "      <td>6.0</td>\n",
       "    </tr>\n",
       "    <tr>\n",
       "      <th>7</th>\n",
       "      <td>b</td>\n",
       "      <td>7.0</td>\n",
       "    </tr>\n",
       "    <tr>\n",
       "      <th>8</th>\n",
       "      <td>c</td>\n",
       "      <td>8.0</td>\n",
       "    </tr>\n",
       "    <tr>\n",
       "      <th>9</th>\n",
       "      <td>a</td>\n",
       "      <td>9.0</td>\n",
       "    </tr>\n",
       "    <tr>\n",
       "      <th>10</th>\n",
       "      <td>b</td>\n",
       "      <td>10.0</td>\n",
       "    </tr>\n",
       "    <tr>\n",
       "      <th>11</th>\n",
       "      <td>c</td>\n",
       "      <td>11.0</td>\n",
       "    </tr>\n",
       "  </tbody>\n",
       "</table>\n",
       "</div>"
      ],
      "text/plain": [
       "   key  value\n",
       "0    a    0.0\n",
       "1    b    1.0\n",
       "2    c    2.0\n",
       "3    a    3.0\n",
       "4    b    4.0\n",
       "5    c    5.0\n",
       "6    a    6.0\n",
       "7    b    7.0\n",
       "8    c    8.0\n",
       "9    a    9.0\n",
       "10   b   10.0\n",
       "11   c   11.0"
      ]
     },
     "execution_count": 66,
     "metadata": {},
     "output_type": "execute_result"
    }
   ],
   "source": [
    "df"
   ]
  },
  {
   "cell_type": "code",
   "execution_count": 67,
   "metadata": {},
   "outputs": [],
   "source": [
    "g = df.groupby('key').value"
   ]
  },
  {
   "cell_type": "code",
   "execution_count": 69,
   "metadata": {},
   "outputs": [
    {
     "data": {
      "text/plain": [
       "key\n",
       "a    4.5\n",
       "b    5.5\n",
       "c    6.5\n",
       "Name: value, dtype: float64"
      ]
     },
     "execution_count": 69,
     "metadata": {},
     "output_type": "execute_result"
    }
   ],
   "source": [
    "g.mean()"
   ]
  },
  {
   "cell_type": "code",
   "execution_count": 70,
   "metadata": {},
   "outputs": [
    {
     "data": {
      "text/plain": [
       "0     4.5\n",
       "1     5.5\n",
       "2     6.5\n",
       "3     4.5\n",
       "4     5.5\n",
       "5     6.5\n",
       "6     4.5\n",
       "7     5.5\n",
       "8     6.5\n",
       "9     4.5\n",
       "10    5.5\n",
       "11    6.5\n",
       "Name: value, dtype: float64"
      ]
     },
     "execution_count": 70,
     "metadata": {},
     "output_type": "execute_result"
    }
   ],
   "source": [
    "g.transform(lambda x:x.mean())"
   ]
  },
  {
   "cell_type": "code",
   "execution_count": 71,
   "metadata": {},
   "outputs": [
    {
     "data": {
      "text/plain": [
       "0     4.5\n",
       "1     5.5\n",
       "2     6.5\n",
       "3     4.5\n",
       "4     5.5\n",
       "5     6.5\n",
       "6     4.5\n",
       "7     5.5\n",
       "8     6.5\n",
       "9     4.5\n",
       "10    5.5\n",
       "11    6.5\n",
       "Name: value, dtype: float64"
      ]
     },
     "execution_count": 71,
     "metadata": {},
     "output_type": "execute_result"
    }
   ],
   "source": [
    "g.transform('mean')"
   ]
  },
  {
   "cell_type": "code",
   "execution_count": 72,
   "metadata": {},
   "outputs": [
    {
     "data": {
      "text/plain": [
       "0      0.0\n",
       "1      2.0\n",
       "2      4.0\n",
       "3      6.0\n",
       "4      8.0\n",
       "5     10.0\n",
       "6     12.0\n",
       "7     14.0\n",
       "8     16.0\n",
       "9     18.0\n",
       "10    20.0\n",
       "11    22.0\n",
       "Name: value, dtype: float64"
      ]
     },
     "execution_count": 72,
     "metadata": {},
     "output_type": "execute_result"
    }
   ],
   "source": [
    "g.transform(lambda x:x*2)"
   ]
  },
  {
   "cell_type": "code",
   "execution_count": 73,
   "metadata": {},
   "outputs": [
    {
     "data": {
      "text/plain": [
       "0     4.0\n",
       "1     4.0\n",
       "2     4.0\n",
       "3     3.0\n",
       "4     3.0\n",
       "5     3.0\n",
       "6     2.0\n",
       "7     2.0\n",
       "8     2.0\n",
       "9     1.0\n",
       "10    1.0\n",
       "11    1.0\n",
       "Name: value, dtype: float64"
      ]
     },
     "execution_count": 73,
     "metadata": {},
     "output_type": "execute_result"
    }
   ],
   "source": [
    "g.transform(lambda x:x.rank(ascending=False))"
   ]
  },
  {
   "cell_type": "code",
   "execution_count": 74,
   "metadata": {},
   "outputs": [],
   "source": [
    "def normalize(x):\n",
    "    return (x-x.mean())/x.std()"
   ]
  },
  {
   "cell_type": "code",
   "execution_count": 75,
   "metadata": {},
   "outputs": [
    {
     "data": {
      "text/plain": [
       "0    -1.161895\n",
       "1    -1.161895\n",
       "2    -1.161895\n",
       "3    -0.387298\n",
       "4    -0.387298\n",
       "5    -0.387298\n",
       "6     0.387298\n",
       "7     0.387298\n",
       "8     0.387298\n",
       "9     1.161895\n",
       "10    1.161895\n",
       "11    1.161895\n",
       "Name: value, dtype: float64"
      ]
     },
     "execution_count": 75,
     "metadata": {},
     "output_type": "execute_result"
    }
   ],
   "source": [
    "g.transform(normalize)"
   ]
  },
  {
   "cell_type": "code",
   "execution_count": 76,
   "metadata": {},
   "outputs": [],
   "source": [
    "normalized = (df['value']-g.transform('mean'))/g.transform('std')"
   ]
  },
  {
   "cell_type": "code",
   "execution_count": 77,
   "metadata": {},
   "outputs": [
    {
     "data": {
      "text/plain": [
       "0    -1.161895\n",
       "1    -1.161895\n",
       "2    -1.161895\n",
       "3    -0.387298\n",
       "4    -0.387298\n",
       "5    -0.387298\n",
       "6     0.387298\n",
       "7     0.387298\n",
       "8     0.387298\n",
       "9     1.161895\n",
       "10    1.161895\n",
       "11    1.161895\n",
       "Name: value, dtype: float64"
      ]
     },
     "execution_count": 77,
     "metadata": {},
     "output_type": "execute_result"
    }
   ],
   "source": [
    "normalized"
   ]
  },
  {
   "cell_type": "markdown",
   "metadata": {},
   "source": [
    "- 分组的时间重新采样"
   ]
  },
  {
   "cell_type": "code",
   "execution_count": 78,
   "metadata": {},
   "outputs": [],
   "source": [
    "N=15"
   ]
  },
  {
   "cell_type": "code",
   "execution_count": 79,
   "metadata": {},
   "outputs": [],
   "source": [
    "times = pd.date_range('2017-05-20 00:00',freq='1min',periods=N)"
   ]
  },
  {
   "cell_type": "code",
   "execution_count": 80,
   "metadata": {},
   "outputs": [],
   "source": [
    "df = pd.DataFrame({'time':times,\n",
    "                  'value':np.arange(N)})"
   ]
  },
  {
   "cell_type": "code",
   "execution_count": 81,
   "metadata": {},
   "outputs": [
    {
     "data": {
      "text/html": [
       "<div>\n",
       "<style scoped>\n",
       "    .dataframe tbody tr th:only-of-type {\n",
       "        vertical-align: middle;\n",
       "    }\n",
       "\n",
       "    .dataframe tbody tr th {\n",
       "        vertical-align: top;\n",
       "    }\n",
       "\n",
       "    .dataframe thead th {\n",
       "        text-align: right;\n",
       "    }\n",
       "</style>\n",
       "<table border=\"1\" class=\"dataframe\">\n",
       "  <thead>\n",
       "    <tr style=\"text-align: right;\">\n",
       "      <th></th>\n",
       "      <th>time</th>\n",
       "      <th>value</th>\n",
       "    </tr>\n",
       "  </thead>\n",
       "  <tbody>\n",
       "    <tr>\n",
       "      <th>0</th>\n",
       "      <td>2017-05-20 00:00:00</td>\n",
       "      <td>0</td>\n",
       "    </tr>\n",
       "    <tr>\n",
       "      <th>1</th>\n",
       "      <td>2017-05-20 00:01:00</td>\n",
       "      <td>1</td>\n",
       "    </tr>\n",
       "    <tr>\n",
       "      <th>2</th>\n",
       "      <td>2017-05-20 00:02:00</td>\n",
       "      <td>2</td>\n",
       "    </tr>\n",
       "    <tr>\n",
       "      <th>3</th>\n",
       "      <td>2017-05-20 00:03:00</td>\n",
       "      <td>3</td>\n",
       "    </tr>\n",
       "    <tr>\n",
       "      <th>4</th>\n",
       "      <td>2017-05-20 00:04:00</td>\n",
       "      <td>4</td>\n",
       "    </tr>\n",
       "    <tr>\n",
       "      <th>5</th>\n",
       "      <td>2017-05-20 00:05:00</td>\n",
       "      <td>5</td>\n",
       "    </tr>\n",
       "    <tr>\n",
       "      <th>6</th>\n",
       "      <td>2017-05-20 00:06:00</td>\n",
       "      <td>6</td>\n",
       "    </tr>\n",
       "    <tr>\n",
       "      <th>7</th>\n",
       "      <td>2017-05-20 00:07:00</td>\n",
       "      <td>7</td>\n",
       "    </tr>\n",
       "    <tr>\n",
       "      <th>8</th>\n",
       "      <td>2017-05-20 00:08:00</td>\n",
       "      <td>8</td>\n",
       "    </tr>\n",
       "    <tr>\n",
       "      <th>9</th>\n",
       "      <td>2017-05-20 00:09:00</td>\n",
       "      <td>9</td>\n",
       "    </tr>\n",
       "    <tr>\n",
       "      <th>10</th>\n",
       "      <td>2017-05-20 00:10:00</td>\n",
       "      <td>10</td>\n",
       "    </tr>\n",
       "    <tr>\n",
       "      <th>11</th>\n",
       "      <td>2017-05-20 00:11:00</td>\n",
       "      <td>11</td>\n",
       "    </tr>\n",
       "    <tr>\n",
       "      <th>12</th>\n",
       "      <td>2017-05-20 00:12:00</td>\n",
       "      <td>12</td>\n",
       "    </tr>\n",
       "    <tr>\n",
       "      <th>13</th>\n",
       "      <td>2017-05-20 00:13:00</td>\n",
       "      <td>13</td>\n",
       "    </tr>\n",
       "    <tr>\n",
       "      <th>14</th>\n",
       "      <td>2017-05-20 00:14:00</td>\n",
       "      <td>14</td>\n",
       "    </tr>\n",
       "  </tbody>\n",
       "</table>\n",
       "</div>"
      ],
      "text/plain": [
       "                  time  value\n",
       "0  2017-05-20 00:00:00      0\n",
       "1  2017-05-20 00:01:00      1\n",
       "2  2017-05-20 00:02:00      2\n",
       "3  2017-05-20 00:03:00      3\n",
       "4  2017-05-20 00:04:00      4\n",
       "5  2017-05-20 00:05:00      5\n",
       "6  2017-05-20 00:06:00      6\n",
       "7  2017-05-20 00:07:00      7\n",
       "8  2017-05-20 00:08:00      8\n",
       "9  2017-05-20 00:09:00      9\n",
       "10 2017-05-20 00:10:00     10\n",
       "11 2017-05-20 00:11:00     11\n",
       "12 2017-05-20 00:12:00     12\n",
       "13 2017-05-20 00:13:00     13\n",
       "14 2017-05-20 00:14:00     14"
      ]
     },
     "execution_count": 81,
     "metadata": {},
     "output_type": "execute_result"
    }
   ],
   "source": [
    "df"
   ]
  },
  {
   "cell_type": "code",
   "execution_count": 82,
   "metadata": {},
   "outputs": [
    {
     "data": {
      "text/html": [
       "<div>\n",
       "<style scoped>\n",
       "    .dataframe tbody tr th:only-of-type {\n",
       "        vertical-align: middle;\n",
       "    }\n",
       "\n",
       "    .dataframe tbody tr th {\n",
       "        vertical-align: top;\n",
       "    }\n",
       "\n",
       "    .dataframe thead th {\n",
       "        text-align: right;\n",
       "    }\n",
       "</style>\n",
       "<table border=\"1\" class=\"dataframe\">\n",
       "  <thead>\n",
       "    <tr style=\"text-align: right;\">\n",
       "      <th></th>\n",
       "      <th>value</th>\n",
       "    </tr>\n",
       "    <tr>\n",
       "      <th>time</th>\n",
       "      <th></th>\n",
       "    </tr>\n",
       "  </thead>\n",
       "  <tbody>\n",
       "    <tr>\n",
       "      <th>2017-05-20 00:00:00</th>\n",
       "      <td>5</td>\n",
       "    </tr>\n",
       "    <tr>\n",
       "      <th>2017-05-20 00:05:00</th>\n",
       "      <td>5</td>\n",
       "    </tr>\n",
       "    <tr>\n",
       "      <th>2017-05-20 00:10:00</th>\n",
       "      <td>5</td>\n",
       "    </tr>\n",
       "  </tbody>\n",
       "</table>\n",
       "</div>"
      ],
      "text/plain": [
       "                     value\n",
       "time                      \n",
       "2017-05-20 00:00:00      5\n",
       "2017-05-20 00:05:00      5\n",
       "2017-05-20 00:10:00      5"
      ]
     },
     "execution_count": 82,
     "metadata": {},
     "output_type": "execute_result"
    }
   ],
   "source": [
    "df.set_index('time').resample('5min').count()"
   ]
  },
  {
   "cell_type": "code",
   "execution_count": 84,
   "metadata": {},
   "outputs": [],
   "source": [
    "df2 = pd.DataFrame({'time':times.repeat(3),\n",
    "                   'key':np.tile(['a','b','c'],N),\n",
    "                   'value':np.arange(N*3.)})"
   ]
  },
  {
   "cell_type": "code",
   "execution_count": 86,
   "metadata": {},
   "outputs": [
    {
     "data": {
      "text/html": [
       "<div>\n",
       "<style scoped>\n",
       "    .dataframe tbody tr th:only-of-type {\n",
       "        vertical-align: middle;\n",
       "    }\n",
       "\n",
       "    .dataframe tbody tr th {\n",
       "        vertical-align: top;\n",
       "    }\n",
       "\n",
       "    .dataframe thead th {\n",
       "        text-align: right;\n",
       "    }\n",
       "</style>\n",
       "<table border=\"1\" class=\"dataframe\">\n",
       "  <thead>\n",
       "    <tr style=\"text-align: right;\">\n",
       "      <th></th>\n",
       "      <th>time</th>\n",
       "      <th>key</th>\n",
       "      <th>value</th>\n",
       "    </tr>\n",
       "  </thead>\n",
       "  <tbody>\n",
       "    <tr>\n",
       "      <th>0</th>\n",
       "      <td>2017-05-20 00:00:00</td>\n",
       "      <td>a</td>\n",
       "      <td>0.0</td>\n",
       "    </tr>\n",
       "    <tr>\n",
       "      <th>1</th>\n",
       "      <td>2017-05-20 00:00:00</td>\n",
       "      <td>b</td>\n",
       "      <td>1.0</td>\n",
       "    </tr>\n",
       "    <tr>\n",
       "      <th>2</th>\n",
       "      <td>2017-05-20 00:00:00</td>\n",
       "      <td>c</td>\n",
       "      <td>2.0</td>\n",
       "    </tr>\n",
       "    <tr>\n",
       "      <th>3</th>\n",
       "      <td>2017-05-20 00:01:00</td>\n",
       "      <td>a</td>\n",
       "      <td>3.0</td>\n",
       "    </tr>\n",
       "    <tr>\n",
       "      <th>4</th>\n",
       "      <td>2017-05-20 00:01:00</td>\n",
       "      <td>b</td>\n",
       "      <td>4.0</td>\n",
       "    </tr>\n",
       "    <tr>\n",
       "      <th>5</th>\n",
       "      <td>2017-05-20 00:01:00</td>\n",
       "      <td>c</td>\n",
       "      <td>5.0</td>\n",
       "    </tr>\n",
       "    <tr>\n",
       "      <th>6</th>\n",
       "      <td>2017-05-20 00:02:00</td>\n",
       "      <td>a</td>\n",
       "      <td>6.0</td>\n",
       "    </tr>\n",
       "    <tr>\n",
       "      <th>7</th>\n",
       "      <td>2017-05-20 00:02:00</td>\n",
       "      <td>b</td>\n",
       "      <td>7.0</td>\n",
       "    </tr>\n",
       "    <tr>\n",
       "      <th>8</th>\n",
       "      <td>2017-05-20 00:02:00</td>\n",
       "      <td>c</td>\n",
       "      <td>8.0</td>\n",
       "    </tr>\n",
       "    <tr>\n",
       "      <th>9</th>\n",
       "      <td>2017-05-20 00:03:00</td>\n",
       "      <td>a</td>\n",
       "      <td>9.0</td>\n",
       "    </tr>\n",
       "    <tr>\n",
       "      <th>10</th>\n",
       "      <td>2017-05-20 00:03:00</td>\n",
       "      <td>b</td>\n",
       "      <td>10.0</td>\n",
       "    </tr>\n",
       "    <tr>\n",
       "      <th>11</th>\n",
       "      <td>2017-05-20 00:03:00</td>\n",
       "      <td>c</td>\n",
       "      <td>11.0</td>\n",
       "    </tr>\n",
       "    <tr>\n",
       "      <th>12</th>\n",
       "      <td>2017-05-20 00:04:00</td>\n",
       "      <td>a</td>\n",
       "      <td>12.0</td>\n",
       "    </tr>\n",
       "    <tr>\n",
       "      <th>13</th>\n",
       "      <td>2017-05-20 00:04:00</td>\n",
       "      <td>b</td>\n",
       "      <td>13.0</td>\n",
       "    </tr>\n",
       "    <tr>\n",
       "      <th>14</th>\n",
       "      <td>2017-05-20 00:04:00</td>\n",
       "      <td>c</td>\n",
       "      <td>14.0</td>\n",
       "    </tr>\n",
       "    <tr>\n",
       "      <th>15</th>\n",
       "      <td>2017-05-20 00:05:00</td>\n",
       "      <td>a</td>\n",
       "      <td>15.0</td>\n",
       "    </tr>\n",
       "    <tr>\n",
       "      <th>16</th>\n",
       "      <td>2017-05-20 00:05:00</td>\n",
       "      <td>b</td>\n",
       "      <td>16.0</td>\n",
       "    </tr>\n",
       "    <tr>\n",
       "      <th>17</th>\n",
       "      <td>2017-05-20 00:05:00</td>\n",
       "      <td>c</td>\n",
       "      <td>17.0</td>\n",
       "    </tr>\n",
       "    <tr>\n",
       "      <th>18</th>\n",
       "      <td>2017-05-20 00:06:00</td>\n",
       "      <td>a</td>\n",
       "      <td>18.0</td>\n",
       "    </tr>\n",
       "    <tr>\n",
       "      <th>19</th>\n",
       "      <td>2017-05-20 00:06:00</td>\n",
       "      <td>b</td>\n",
       "      <td>19.0</td>\n",
       "    </tr>\n",
       "    <tr>\n",
       "      <th>20</th>\n",
       "      <td>2017-05-20 00:06:00</td>\n",
       "      <td>c</td>\n",
       "      <td>20.0</td>\n",
       "    </tr>\n",
       "    <tr>\n",
       "      <th>21</th>\n",
       "      <td>2017-05-20 00:07:00</td>\n",
       "      <td>a</td>\n",
       "      <td>21.0</td>\n",
       "    </tr>\n",
       "    <tr>\n",
       "      <th>22</th>\n",
       "      <td>2017-05-20 00:07:00</td>\n",
       "      <td>b</td>\n",
       "      <td>22.0</td>\n",
       "    </tr>\n",
       "    <tr>\n",
       "      <th>23</th>\n",
       "      <td>2017-05-20 00:07:00</td>\n",
       "      <td>c</td>\n",
       "      <td>23.0</td>\n",
       "    </tr>\n",
       "    <tr>\n",
       "      <th>24</th>\n",
       "      <td>2017-05-20 00:08:00</td>\n",
       "      <td>a</td>\n",
       "      <td>24.0</td>\n",
       "    </tr>\n",
       "    <tr>\n",
       "      <th>25</th>\n",
       "      <td>2017-05-20 00:08:00</td>\n",
       "      <td>b</td>\n",
       "      <td>25.0</td>\n",
       "    </tr>\n",
       "    <tr>\n",
       "      <th>26</th>\n",
       "      <td>2017-05-20 00:08:00</td>\n",
       "      <td>c</td>\n",
       "      <td>26.0</td>\n",
       "    </tr>\n",
       "    <tr>\n",
       "      <th>27</th>\n",
       "      <td>2017-05-20 00:09:00</td>\n",
       "      <td>a</td>\n",
       "      <td>27.0</td>\n",
       "    </tr>\n",
       "    <tr>\n",
       "      <th>28</th>\n",
       "      <td>2017-05-20 00:09:00</td>\n",
       "      <td>b</td>\n",
       "      <td>28.0</td>\n",
       "    </tr>\n",
       "    <tr>\n",
       "      <th>29</th>\n",
       "      <td>2017-05-20 00:09:00</td>\n",
       "      <td>c</td>\n",
       "      <td>29.0</td>\n",
       "    </tr>\n",
       "    <tr>\n",
       "      <th>30</th>\n",
       "      <td>2017-05-20 00:10:00</td>\n",
       "      <td>a</td>\n",
       "      <td>30.0</td>\n",
       "    </tr>\n",
       "    <tr>\n",
       "      <th>31</th>\n",
       "      <td>2017-05-20 00:10:00</td>\n",
       "      <td>b</td>\n",
       "      <td>31.0</td>\n",
       "    </tr>\n",
       "    <tr>\n",
       "      <th>32</th>\n",
       "      <td>2017-05-20 00:10:00</td>\n",
       "      <td>c</td>\n",
       "      <td>32.0</td>\n",
       "    </tr>\n",
       "    <tr>\n",
       "      <th>33</th>\n",
       "      <td>2017-05-20 00:11:00</td>\n",
       "      <td>a</td>\n",
       "      <td>33.0</td>\n",
       "    </tr>\n",
       "    <tr>\n",
       "      <th>34</th>\n",
       "      <td>2017-05-20 00:11:00</td>\n",
       "      <td>b</td>\n",
       "      <td>34.0</td>\n",
       "    </tr>\n",
       "    <tr>\n",
       "      <th>35</th>\n",
       "      <td>2017-05-20 00:11:00</td>\n",
       "      <td>c</td>\n",
       "      <td>35.0</td>\n",
       "    </tr>\n",
       "    <tr>\n",
       "      <th>36</th>\n",
       "      <td>2017-05-20 00:12:00</td>\n",
       "      <td>a</td>\n",
       "      <td>36.0</td>\n",
       "    </tr>\n",
       "    <tr>\n",
       "      <th>37</th>\n",
       "      <td>2017-05-20 00:12:00</td>\n",
       "      <td>b</td>\n",
       "      <td>37.0</td>\n",
       "    </tr>\n",
       "    <tr>\n",
       "      <th>38</th>\n",
       "      <td>2017-05-20 00:12:00</td>\n",
       "      <td>c</td>\n",
       "      <td>38.0</td>\n",
       "    </tr>\n",
       "    <tr>\n",
       "      <th>39</th>\n",
       "      <td>2017-05-20 00:13:00</td>\n",
       "      <td>a</td>\n",
       "      <td>39.0</td>\n",
       "    </tr>\n",
       "    <tr>\n",
       "      <th>40</th>\n",
       "      <td>2017-05-20 00:13:00</td>\n",
       "      <td>b</td>\n",
       "      <td>40.0</td>\n",
       "    </tr>\n",
       "    <tr>\n",
       "      <th>41</th>\n",
       "      <td>2017-05-20 00:13:00</td>\n",
       "      <td>c</td>\n",
       "      <td>41.0</td>\n",
       "    </tr>\n",
       "    <tr>\n",
       "      <th>42</th>\n",
       "      <td>2017-05-20 00:14:00</td>\n",
       "      <td>a</td>\n",
       "      <td>42.0</td>\n",
       "    </tr>\n",
       "    <tr>\n",
       "      <th>43</th>\n",
       "      <td>2017-05-20 00:14:00</td>\n",
       "      <td>b</td>\n",
       "      <td>43.0</td>\n",
       "    </tr>\n",
       "    <tr>\n",
       "      <th>44</th>\n",
       "      <td>2017-05-20 00:14:00</td>\n",
       "      <td>c</td>\n",
       "      <td>44.0</td>\n",
       "    </tr>\n",
       "  </tbody>\n",
       "</table>\n",
       "</div>"
      ],
      "text/plain": [
       "                  time key  value\n",
       "0  2017-05-20 00:00:00   a    0.0\n",
       "1  2017-05-20 00:00:00   b    1.0\n",
       "2  2017-05-20 00:00:00   c    2.0\n",
       "3  2017-05-20 00:01:00   a    3.0\n",
       "4  2017-05-20 00:01:00   b    4.0\n",
       "5  2017-05-20 00:01:00   c    5.0\n",
       "6  2017-05-20 00:02:00   a    6.0\n",
       "7  2017-05-20 00:02:00   b    7.0\n",
       "8  2017-05-20 00:02:00   c    8.0\n",
       "9  2017-05-20 00:03:00   a    9.0\n",
       "10 2017-05-20 00:03:00   b   10.0\n",
       "11 2017-05-20 00:03:00   c   11.0\n",
       "12 2017-05-20 00:04:00   a   12.0\n",
       "13 2017-05-20 00:04:00   b   13.0\n",
       "14 2017-05-20 00:04:00   c   14.0\n",
       "15 2017-05-20 00:05:00   a   15.0\n",
       "16 2017-05-20 00:05:00   b   16.0\n",
       "17 2017-05-20 00:05:00   c   17.0\n",
       "18 2017-05-20 00:06:00   a   18.0\n",
       "19 2017-05-20 00:06:00   b   19.0\n",
       "20 2017-05-20 00:06:00   c   20.0\n",
       "21 2017-05-20 00:07:00   a   21.0\n",
       "22 2017-05-20 00:07:00   b   22.0\n",
       "23 2017-05-20 00:07:00   c   23.0\n",
       "24 2017-05-20 00:08:00   a   24.0\n",
       "25 2017-05-20 00:08:00   b   25.0\n",
       "26 2017-05-20 00:08:00   c   26.0\n",
       "27 2017-05-20 00:09:00   a   27.0\n",
       "28 2017-05-20 00:09:00   b   28.0\n",
       "29 2017-05-20 00:09:00   c   29.0\n",
       "30 2017-05-20 00:10:00   a   30.0\n",
       "31 2017-05-20 00:10:00   b   31.0\n",
       "32 2017-05-20 00:10:00   c   32.0\n",
       "33 2017-05-20 00:11:00   a   33.0\n",
       "34 2017-05-20 00:11:00   b   34.0\n",
       "35 2017-05-20 00:11:00   c   35.0\n",
       "36 2017-05-20 00:12:00   a   36.0\n",
       "37 2017-05-20 00:12:00   b   37.0\n",
       "38 2017-05-20 00:12:00   c   38.0\n",
       "39 2017-05-20 00:13:00   a   39.0\n",
       "40 2017-05-20 00:13:00   b   40.0\n",
       "41 2017-05-20 00:13:00   c   41.0\n",
       "42 2017-05-20 00:14:00   a   42.0\n",
       "43 2017-05-20 00:14:00   b   43.0\n",
       "44 2017-05-20 00:14:00   c   44.0"
      ]
     },
     "execution_count": 86,
     "metadata": {},
     "output_type": "execute_result"
    }
   ],
   "source": [
    "df2"
   ]
  },
  {
   "cell_type": "code",
   "execution_count": 90,
   "metadata": {},
   "outputs": [
    {
     "name": "stderr",
     "output_type": "stream",
     "text": [
      "D:\\anaconda\\lib\\site-packages\\ipykernel_launcher.py:1: FutureWarning: pd.TimeGrouper is deprecated and will be removed; Please use pd.Grouper(freq=...)\n",
      "  \"\"\"Entry point for launching an IPython kernel.\n"
     ]
    }
   ],
   "source": [
    "time_key = pd.TimeGrouper('5min')"
   ]
  },
  {
   "cell_type": "code",
   "execution_count": 93,
   "metadata": {},
   "outputs": [
    {
     "data": {
      "text/plain": [
       "TimeGrouper(freq=<5 * Minutes>, axis=0, sort=True, closed='left', label='left', how='mean', convention='e', base=0)"
      ]
     },
     "execution_count": 93,
     "metadata": {},
     "output_type": "execute_result"
    }
   ],
   "source": [
    "time_key"
   ]
  },
  {
   "cell_type": "code",
   "execution_count": 91,
   "metadata": {},
   "outputs": [],
   "source": [
    "resampled = (df2.set_index('time').groupby(['key',time_key]).sum())"
   ]
  },
  {
   "cell_type": "code",
   "execution_count": 92,
   "metadata": {},
   "outputs": [
    {
     "data": {
      "text/html": [
       "<div>\n",
       "<style scoped>\n",
       "    .dataframe tbody tr th:only-of-type {\n",
       "        vertical-align: middle;\n",
       "    }\n",
       "\n",
       "    .dataframe tbody tr th {\n",
       "        vertical-align: top;\n",
       "    }\n",
       "\n",
       "    .dataframe thead th {\n",
       "        text-align: right;\n",
       "    }\n",
       "</style>\n",
       "<table border=\"1\" class=\"dataframe\">\n",
       "  <thead>\n",
       "    <tr style=\"text-align: right;\">\n",
       "      <th></th>\n",
       "      <th></th>\n",
       "      <th>value</th>\n",
       "    </tr>\n",
       "    <tr>\n",
       "      <th>key</th>\n",
       "      <th>time</th>\n",
       "      <th></th>\n",
       "    </tr>\n",
       "  </thead>\n",
       "  <tbody>\n",
       "    <tr>\n",
       "      <th rowspan=\"3\" valign=\"top\">a</th>\n",
       "      <th>2017-05-20 00:00:00</th>\n",
       "      <td>30.0</td>\n",
       "    </tr>\n",
       "    <tr>\n",
       "      <th>2017-05-20 00:05:00</th>\n",
       "      <td>105.0</td>\n",
       "    </tr>\n",
       "    <tr>\n",
       "      <th>2017-05-20 00:10:00</th>\n",
       "      <td>180.0</td>\n",
       "    </tr>\n",
       "    <tr>\n",
       "      <th rowspan=\"3\" valign=\"top\">b</th>\n",
       "      <th>2017-05-20 00:00:00</th>\n",
       "      <td>35.0</td>\n",
       "    </tr>\n",
       "    <tr>\n",
       "      <th>2017-05-20 00:05:00</th>\n",
       "      <td>110.0</td>\n",
       "    </tr>\n",
       "    <tr>\n",
       "      <th>2017-05-20 00:10:00</th>\n",
       "      <td>185.0</td>\n",
       "    </tr>\n",
       "    <tr>\n",
       "      <th rowspan=\"3\" valign=\"top\">c</th>\n",
       "      <th>2017-05-20 00:00:00</th>\n",
       "      <td>40.0</td>\n",
       "    </tr>\n",
       "    <tr>\n",
       "      <th>2017-05-20 00:05:00</th>\n",
       "      <td>115.0</td>\n",
       "    </tr>\n",
       "    <tr>\n",
       "      <th>2017-05-20 00:10:00</th>\n",
       "      <td>190.0</td>\n",
       "    </tr>\n",
       "  </tbody>\n",
       "</table>\n",
       "</div>"
      ],
      "text/plain": [
       "                         value\n",
       "key time                      \n",
       "a   2017-05-20 00:00:00   30.0\n",
       "    2017-05-20 00:05:00  105.0\n",
       "    2017-05-20 00:10:00  180.0\n",
       "b   2017-05-20 00:00:00   35.0\n",
       "    2017-05-20 00:05:00  110.0\n",
       "    2017-05-20 00:10:00  185.0\n",
       "c   2017-05-20 00:00:00   40.0\n",
       "    2017-05-20 00:05:00  115.0\n",
       "    2017-05-20 00:10:00  190.0"
      ]
     },
     "execution_count": 92,
     "metadata": {},
     "output_type": "execute_result"
    }
   ],
   "source": [
    "resampled"
   ]
  },
  {
   "cell_type": "markdown",
   "metadata": {},
   "source": [
    "## 方法链技术"
   ]
  },
  {
   "cell_type": "markdown",
   "metadata": {},
   "source": [
    "- pipe方法"
   ]
  },
  {
   "cell_type": "code",
   "execution_count": null,
   "metadata": {},
   "outputs": [],
   "source": []
  }
 ],
 "metadata": {
  "kernelspec": {
   "display_name": "Python 3",
   "language": "python",
   "name": "python3"
  },
  "language_info": {
   "codemirror_mode": {
    "name": "ipython",
    "version": 3
   },
   "file_extension": ".py",
   "mimetype": "text/x-python",
   "name": "python",
   "nbconvert_exporter": "python",
   "pygments_lexer": "ipython3",
   "version": "3.7.1"
  }
 },
 "nbformat": 4,
 "nbformat_minor": 2
}
